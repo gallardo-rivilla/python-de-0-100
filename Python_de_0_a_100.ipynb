{
  "nbformat": 4,
  "nbformat_minor": 0,
  "metadata": {
    "colab": {
      "name": "Python de 0 a 100.ipynb",
      "provenance": [],
      "toc_visible": true,
      "authorship_tag": "ABX9TyNXjqPUjY/0QsqJE3bFOWGt"
    },
    "kernelspec": {
      "name": "python3",
      "display_name": "Python 3"
    }
  },
  "cells": [
    {
      "cell_type": "markdown",
      "metadata": {
        "id": "00UbPZbDGsf6"
      },
      "source": [
        "# Manual de Python v 3.X\n",
        "**Creado por  Alfonso L. Gallardo Rivilla** \n"
      ]
    },
    {
      "cell_type": "markdown",
      "metadata": {
        "id": "FBuRZxOOHCuq"
      },
      "source": [
        "## 1. Historia de Python\n",
        "\n",
        "**Todos los lenguajes de programación tienen un creador emblemático:**\n",
        "![texto alternativo](https://i.pinimg.com/originals/57/b0/54/57b05419a7929de0dda06eaa7259cb84.png)\n",
        "---\n",
        "\n",
        "1. A finales del año 1980, **Guido Van Rosum** trabajaba en los Paises Bajos para el CWI (Centrum voor Wiskunde en Informática), en el sistema operativo Amoeba.  \n",
        "2. La problemática a la que se enfrentaba era que las llamadas del sistema operativo eran difíciles de interconectar con Bourne Shell, que era la referencia de la época, y se utilizaba como interfaz de usuario.\n",
        "3.  En 1989 decide crear, en su tiempo libre, la primera versión del lenguaje Python.\n",
        "4. El nombre se le puso en honora los **Monty Python**, un grupo de música.\n",
        "5. La primera versión pública es la 0.9.0 publicada en un foro de Usenet en Febrero de 1991. \n",
        "\n",
        "![Historia Python](https://blog.simpliv.com/wp-content/uploads/2020/01/Image-13-1.jpg)"
      ]
    },
    {
      "cell_type": "markdown",
      "metadata": {
        "id": "K6P5XHxeJ2vA"
      },
      "source": [
        "## 2. Evolución de la licencia\n",
        "\n",
        "1.   En sus orígenes, Python los crea Guido Van Rossum, en su tiempo libre.\n",
        "2.   Se utiliza en su actividad profesional dentro de su equipo de trabajo.\n",
        "3.   La licencia evoluciona hacia una compatibilidad con la licencia GPL cuando se pasa de la versión 1.6 a la 1.6.1.\n",
        "4. Esta evolución es fruto de la intesa colaboración entre el CNRI y la Free Software Foundation.\n",
        "5. Recibe el nombre de Python Software Foundation Licence de la mano de Apache.\n",
        "\n"
      ]
    },
    {
      "cell_type": "markdown",
      "metadata": {
        "id": "o3qWBJzMMfpi"
      },
      "source": [
        "## 3. Características de Python\n",
        "\n",
        "1.   Interpretado\n",
        "2.   Multiparadigma\n",
        "3. Alto nivel\n",
        "4. Tipado dinámico fuerte\n",
        "5. Gestión automática de recursos\n",
        "6. Alto grado de introspección\n",
        "7. Gestión de excepciones\n",
        "8. Libre y gratuito\n",
        "\n"
      ]
    },
    {
      "cell_type": "markdown",
      "metadata": {
        "id": "S7EKK2muNVf9"
      },
      "source": [
        "## 4. El Zen de Python\n",
        "La filosofía puede resumirse por << El Zen de Python >>\n",
        "\n",
        "\n",
        "---\n",
        "\n",
        "\n",
        "*   Hermoso es mejor que feo\n",
        "* Explícito es mejor que implícito\n",
        "* Simple es mejor que complejo\n",
        "* Complejo es mejor que complicado\n",
        "* Plano es mejor que anidado\n",
        "* Disperso es mejor que lento\n",
        "* La legibilidad cuenta\n",
        "* Los caso especiales no son suficientemente especiales como para romper las reglas\n",
        "* Lo pragmático gana a la pureza\n",
        "* Los errores nunca deberían dejarse pasar silenciosamente, a menos que se silencien explicitamente.\n",
        "* Cuando te enfrentes a la ambiguedad, rechaza la tentación de adivinar\n",
        "* Ahora es mejor que nunca\n",
        "* Si la implementación es dificil de explicar, es una mala idea\n",
        "\n",
        "\n"
      ]
    },
    {
      "cell_type": "markdown",
      "metadata": {
        "id": "WOtw0QZZAy_E"
      },
      "source": [
        "Videotutorial\n",
        "\n",
        "```\n",
        "# from IPython.display import HTML\n",
        "\n",
        "HTML('<iframe width=\"560\" height=\"315\" src=\"https://www.youtube.com/embed/lTTZ8PkQ_Pk\" frameborder=\"0\" allow=\"accelerometer; autoplay; encrypted-media; gyroscope; picture-in-picture\" allowfullscreen></iframe>')\n",
        "```\n",
        "\n"
      ]
    },
    {
      "cell_type": "markdown",
      "metadata": {
        "id": "_qdBBpYTPfqh"
      },
      "source": [
        "# **1.Números**\n"
      ]
    },
    {
      "cell_type": "markdown",
      "metadata": {
        "id": "e7yc0VzfZZ4a"
      },
      "source": [
        "## Teoría\n",
        "\n",
        "Para comenzar lo más sencillo es trabajar con números vamos, por ello, vamos a realizar una serie de ejercicios básicos con números\n",
        "\n",
        "**¿Qué son los operadores aritméticos?**\n",
        "\n",
        "En programación y matemáticas, los operadores aritméticos son aquellos que manipulan los datos de tipo numérico, es decir, permiten la realización de operaciones matemáticas (sumas, restas, multiplicaciones, etc.).\n",
        "\n",
        "**Operadores aritméticos en Python**\n",
        "\n",
        "1.   Suma  (+)\n",
        "2.   Resta (-)\n",
        "3.   Multiplicación (*)\n",
        "4.   Potencia (**)\n",
        "5.   División (cociente) (/)\n",
        "6.   División (parte entera) (//)\n",
        "7.   División (resto) (%)\n",
        "\n",
        "**Podemos distinguir 2 tipos de números:**\n",
        "\n",
        "1.   **Enteros**: Que no tienen una parte decimal y van desde menos infinito a más infinito.\n",
        "2.   **Flotantes o decimales**: Números que tienen una parte decimal escrita con un punto.\n",
        "\n",
        "**El orden de precedencia de ejecución de los operadores aritméticos es:**\n",
        "\n",
        "1. Exponente: **\n",
        "2. Negación: -\n",
        "3. Multiplicación, División, División entera, Módulo: *, /, //, %\n",
        "4. Suma, Resta: +, -\n",
        "\n",
        "**¿Qué son las Variables?**\n",
        "\n",
        "Es justo que Python nos permita codificar literales, las cuales contengan valores numéricos y cadenas.\n",
        "\n",
        "Ya hemos visto que se pueden hacer operaciones aritméticas con estos números: sumar, restar, etc. Esto se hará una infinidad de veces en un programa.\n",
        "\n",
        "Pero es normal preguntar como es que se pueden almacenar los resultados de estas operaciones, para poder emplearlos en otras operaciones, y así sucesivamente.\n",
        "\n",
        "¿Cómo almacenar los resultados intermedios, y después utilizarlos de nuevo para producir resultados subsecuentes?\n",
        "\n",
        "Python ayudará con ello. Python ofrece \"cajas\" (contenedores) especiales para este propósito, estas cajas son llamadas variables - el nombre mismo sugiere que el contenido de estos contenedores puede variar en casi cualquier forma.\n",
        "\n",
        "¿Cuáles son los componentes o elementos de una variable en Python?\n",
        "\n",
        "Un nombre.\n",
        "Un valor (el contenido del contenedor).\n",
        "Comencemos con lo relacionado al nombre de la variable.\n",
        "\n",
        "Las variables no aparecen en un programa automáticamente. Como desarrollador, tu debes decidir cuantas variables deseas utilizar en tu programa.\n",
        "\n",
        "También las debes de nombrar.\n",
        "\n",
        "**Si se desea nombrar una variable, se deben seguir las siguientes reglas:**\n",
        "\n",
        "- El nombre de la variable debe de estar compuesto por MAYUSCULAS, minúsculas, dígitos, y el carácter _ (guion bajo).\n",
        "- El nombre de la variable debe comenzar con una letra.\n",
        "- El carácter guion bajo es considerado una letra.\n",
        "Las mayúsculas y minúsculas se tratan de forma distinta (un poco diferente que en el mundo real - Alicia y ALICIA son el mismo nombre, pero en Python son dos nombres de variable distintos, subsecuentemente, son dos variables diferentes).\n",
        "- El nombre de las variables no pueden ser igual a alguna de las palabras reservadas de Python (se explicará más de esto pronto).\n",
        "\n",
        "\n",
        "**Palabras Clave**\n",
        "\n",
        "Observa las palabras que juegan un papel muy importante en cada programa de Python.\n",
        "\n",
        "['False', 'None', 'True', 'and', 'as', 'assert', 'break', 'class', 'continue', 'def', 'del', 'elif', 'else', 'except', 'finally', 'for', 'from', 'global', 'if', 'import', 'in', 'is', 'lambda', 'nonlocal', 'not', 'or', 'pass', 'raise', 'return', 'try', 'while', 'with', 'yield']\n",
        "\n",
        "Son llamadas palabras clave o (mejor dicho) palabras reservadas. Son reservadas porque no se deben utilizar como nombres: ni para variables, ni para funciones, ni para cualquier otra cosa que se desee crear.\n",
        "\n",
        "El significado de la palabra reservada está predefinido, y no debe cambiar.\n",
        "\n",
        "Afortunadamente, debido al hecho de que Python es sensible a mayúsculas y minúsculas, cualquiera de estas palabras se pueden modificar cambiando una o varias letras de mayúsculas a minúsculas o viceversa, creando una nueva palabra, la cual no esta reservada.\n",
        "\n",
        "\n",
        "**Replicación**\n",
        "\n",
        "El signo de * (asterisco), cuando es aplicado a una cadena y a un número (o a un número y cadena) se convierte en un operador de replicación.\n",
        "\n",
        "cadena * número\n",
        "número * cadena\n",
        "\n",
        "Replica la cadena el numero de veces indicado por el número.\n",
        "\n",
        "Por ejemplo:\n",
        "\n",
        "\"James\" * 3 nos da \"JamesJamesJames\".\n",
        "3 * \"an\" nos da \"ananan\".\n",
        "5 * \"2\" (o \"2\" * 5) da como resultado \"22222\" (no 10).\n",
        "\n",
        "RECUERDA\n",
        "\n",
        "Un número menor o igual que cero produce una cadena vacía.\n",
        "\n",
        "\n",
        "Este sencillo programa \"dibuja\" un rectángulo, haciendo uso del operador (+), pero en un nuevo rol:\n",
        "\n",
        "print(\"+\" + 10 * \"-\" + \"+\")\n",
        "print((\"|\" + \" \" * 10 + \"|\\n\") * 5, end=\"\")\n",
        "print(\"+\" + 10 * \"-\" + \"+\")\n",
        "\n",
        "Salida:\n",
        "+----------+\n",
        "|          |\n",
        "|          |\n",
        "|          |\n",
        "|          |\n",
        "|          |\n",
        "+----------+\n",
        "\n",
        "--------------------------------------------------\n",
        " **¡Importante!** \n",
        "--------------------------------------------------\n",
        "\n",
        "\n",
        "\n",
        "*Python distingue entre mayúsculas y minúsculas*\n",
        "\n",
        "**Concepto fundamental**\n",
        "\n",
        "Una variable es un identificador que representa un espacio en la memoria. A este espacio se le puede asignar un valor para utilizarlo posteriormente como si se tratase de un valor literal, incluso se puede operar con otras variables y reasignarle otro valor en cualquier momento.\n",
        "\n",
        "**PUNTOS CLAVE**\n",
        "1. Una expresión es una combinación de valores (o variables, operadores, llamadas a funciones, aprenderás de ello pronto) las cuales son evaluadas y dan como resultado un valor, por ejemplo, 1+2.\n",
        "\n",
        "2. Los operadores son símbolos especiales o palabras clave que son capaces de operar en los valores y realizar operaciones matemáticas, por ejemplo, el * multiplica dos valores: x*y.\n",
        "\n",
        "3. Los operadores aritméticos en Python: + (suma), - (resta), * (multiplicación), / (división clásica: regresan un flotante si uno de los valores es de este tipo), % (módulo: divide el operando izquierdo entre el operando derecho y regresa el residuo de la operación, por ejemplo, 5%2=1), ** (exponenciación: el operando izquierdo se eleva a la potencia del operando derecho, por ejemplo, 2**3=2*2*2=8), // (división entera: retorna el numero resultado de la división, pero redondeado al numero entero inferior más cercano, por ejemplo, 3//2.0=1.0).\n",
        "\n",
        "4. Un operador unario es un operador con solo un operando, por ejemplo, -1, o +3.\n",
        "\n",
        "5. Un operador binario es un operador con dos operados, por ejemplo, 4+5, o 12%5.\n",
        "\n",
        "6. Algunos operadores actúan antes que otros, a esto se le llama - jerarquía de prioridades:\n",
        "\n",
        "Unario + y - tienen la prioridad más alta.\n",
        "Después: **, después: *, /, y %, y después la prioridad más baja: binaria + y -.\n",
        "7. Las sub-expresiones dentro de paréntesis siempre se calculan primero, por ejemplo, 15-1*(5*(1+2))=0.\n",
        "\n",
        "8. Los operadores de exponenciación utilizan enlazado hacia la derecha, por ejemplo, 2**2**3=256.\n",
        "\n",
        "Se puede utilizar comentarios con **#** para explicar lo que hace nuestro código:"
      ]
    },
    {
      "cell_type": "markdown",
      "metadata": {
        "id": "2Zy0mTp0UcWm"
      },
      "source": [
        "##  Ejercicios con números"
      ]
    },
    {
      "cell_type": "code",
      "metadata": {
        "id": "drn9HjkbPuZ_",
        "colab": {
          "base_uri": "https://localhost:8080/"
        },
        "outputId": "d5d987d3-6506-478d-f0c2-e92cdbfa9b74"
      },
      "source": [
        "# Ejemplo suma de dos números\n",
        "3 + 2"
      ],
      "execution_count": null,
      "outputs": [
        {
          "output_type": "execute_result",
          "data": {
            "text/plain": [
              "5"
            ]
          },
          "metadata": {
            "tags": []
          },
          "execution_count": 1
        }
      ]
    },
    {
      "cell_type": "code",
      "metadata": {
        "id": "o_Q7W_8cQhIE",
        "colab": {
          "base_uri": "https://localhost:8080/"
        },
        "outputId": "36115b31-6143-4465-ba65-596969d8ba41"
      },
      "source": [
        "# Ejemplo resta de dos números\n",
        "4 - 1"
      ],
      "execution_count": null,
      "outputs": [
        {
          "output_type": "execute_result",
          "data": {
            "text/plain": [
              "3"
            ]
          },
          "metadata": {
            "tags": []
          },
          "execution_count": 2
        }
      ]
    },
    {
      "cell_type": "code",
      "metadata": {
        "id": "1r3z4xrYQ0wt",
        "colab": {
          "base_uri": "https://localhost:8080/"
        },
        "outputId": "f07eb707-099e-46e1-e9d6-346a1d5eb42a"
      },
      "source": [
        "# Ejemplo multiplicación de dos números\n",
        "3 * 2"
      ],
      "execution_count": null,
      "outputs": [
        {
          "output_type": "execute_result",
          "data": {
            "text/plain": [
              "6"
            ]
          },
          "metadata": {
            "tags": []
          },
          "execution_count": 2
        }
      ]
    },
    {
      "cell_type": "code",
      "metadata": {
        "id": "KGVxHIt9Q7G7",
        "colab": {
          "base_uri": "https://localhost:8080/"
        },
        "outputId": "d4b816f8-d0ba-4235-8ab2-20ea87b8aca2"
      },
      "source": [
        "# Ejemplo división de dos números\n",
        "3 / 2"
      ],
      "execution_count": null,
      "outputs": [
        {
          "output_type": "execute_result",
          "data": {
            "text/plain": [
              "1.5"
            ]
          },
          "metadata": {
            "tags": []
          },
          "execution_count": 4
        }
      ]
    },
    {
      "cell_type": "code",
      "metadata": {
        "colab": {
          "base_uri": "https://localhost:8080/"
        },
        "id": "ey77pvj3Vi6u",
        "outputId": "a236324b-126b-4abc-9202-1a8ff88bf4fc"
      },
      "source": [
        "# División sin resto, elimina los decimales\n",
        "3 // 2"
      ],
      "execution_count": null,
      "outputs": [
        {
          "output_type": "execute_result",
          "data": {
            "text/plain": [
              "1"
            ]
          },
          "metadata": {
            "tags": []
          },
          "execution_count": 8
        }
      ]
    },
    {
      "cell_type": "code",
      "metadata": {
        "colab": {
          "base_uri": "https://localhost:8080/"
        },
        "id": "ODjun_qnVuEK",
        "outputId": "8b539787-448a-420b-8a3c-70064ddad9c7"
      },
      "source": [
        "# El resto de la división\n",
        "3 % 2"
      ],
      "execution_count": null,
      "outputs": [
        {
          "output_type": "execute_result",
          "data": {
            "text/plain": [
              "1"
            ]
          },
          "metadata": {
            "tags": []
          },
          "execution_count": 9
        }
      ]
    },
    {
      "cell_type": "code",
      "metadata": {
        "id": "ewNEb38uT8G4",
        "colab": {
          "base_uri": "https://localhost:8080/"
        },
        "outputId": "17aa7394-9cc1-4c3d-960b-45643aab991e"
      },
      "source": [
        "# Ejemplo de exponente\n",
        "2 ** 6"
      ],
      "execution_count": null,
      "outputs": [
        {
          "output_type": "execute_result",
          "data": {
            "text/plain": [
              "64"
            ]
          },
          "metadata": {
            "tags": []
          },
          "execution_count": 5
        }
      ]
    },
    {
      "cell_type": "code",
      "metadata": {
        "colab": {
          "base_uri": "https://localhost:8080/"
        },
        "id": "ER5Znw9LmPGh",
        "outputId": "e809d35d-fd7a-4ba0-85df-703e2111ab9b"
      },
      "source": [
        "#Ejemplo exponente doble comienza de derecha a izquierda\n",
        "print(2**2)\n",
        "print(2**3)\n",
        "\n",
        "2 ** 2 ** 3"
      ],
      "execution_count": null,
      "outputs": [
        {
          "output_type": "stream",
          "text": [
            "4\n",
            "8\n"
          ],
          "name": "stdout"
        },
        {
          "output_type": "execute_result",
          "data": {
            "text/plain": [
              "256"
            ]
          },
          "metadata": {
            "tags": []
          },
          "execution_count": 6
        }
      ]
    },
    {
      "cell_type": "code",
      "metadata": {
        "colab": {
          "base_uri": "https://localhost:8080/"
        },
        "id": "LTx8sBIzswFZ",
        "outputId": "c9bfe7cf-b156-44c8-a514-951def187a93"
      },
      "source": [
        "#¿Cuál es la salida del siguiente código?\n",
        "x = int(input(\"Ingresa un número: \")) #  el usuario ingresa un 2\n",
        "print(x * \"5\")"
      ],
      "execution_count": null,
      "outputs": [
        {
          "output_type": "stream",
          "text": [
            "Ingresa un número: 2\n",
            "55\n"
          ],
          "name": "stdout"
        }
      ]
    },
    {
      "cell_type": "code",
      "metadata": {
        "colab": {
          "base_uri": "https://localhost:8080/"
        },
        "id": "pQ4kSzVHtWIa",
        "outputId": "8ade7da9-f987-4f43-de91-533f60cd9ed3"
      },
      "source": [
        "#¿Cuál es la salida esperada del siguiente código?\n",
        "x = input(\"Ingresa un número: \") # el usuario ingresa un 2\n",
        "print(type(x))"
      ],
      "execution_count": null,
      "outputs": [
        {
          "output_type": "stream",
          "text": [
            "Ingresa un número: 2\n",
            "<class 'str'>\n"
          ],
          "name": "stdout"
        }
      ]
    },
    {
      "cell_type": "code",
      "metadata": {
        "colab": {
          "base_uri": "https://localhost:8080/"
        },
        "id": "5jbOlXxnvtjV",
        "outputId": "06c09717-e4c3-4159-e41e-45567d722a7d"
      },
      "source": [
        "#¿Cual es el resultado si introduce un 3 y 6 respectivamente?\n",
        "x = input()\n",
        "y = int(input())\n",
        "print(x*y)"
      ],
      "execution_count": null,
      "outputs": [
        {
          "output_type": "stream",
          "text": [
            "3\n",
            "6\n",
            "333333\n"
          ],
          "name": "stdout"
        }
      ]
    },
    {
      "cell_type": "code",
      "metadata": {
        "id": "rdWUrgsZRBwq",
        "colab": {
          "base_uri": "https://localhost:8080/"
        },
        "outputId": "0834f1e1-161e-4dd9-a110-93e707b04970"
      },
      "source": [
        "# Ejemplo de operación usando variables\n",
        "n = 3\n",
        "resultado = n + 5\n",
        "resultado"
      ],
      "execution_count": null,
      "outputs": [
        {
          "output_type": "execute_result",
          "data": {
            "text/plain": [
              "8"
            ]
          },
          "metadata": {
            "tags": []
          },
          "execution_count": 6
        }
      ]
    },
    {
      "cell_type": "code",
      "metadata": {
        "id": "Q9sMGgWWTi0u",
        "colab": {
          "base_uri": "https://localhost:8080/"
        },
        "outputId": "36df5bfd-ca67-433b-bdd9-2c8399b34c40"
      },
      "source": [
        "# Ejemplo de operación con prioridad de orden de precedencia\n",
        "nota_1 = 2\n",
        "nota_2 = 5\n",
        "nota_media = (nota_1 + nota_2) / 2 # Establecemos paréntesis para que se realice la suma y después la división\n",
        "nota_media"
      ],
      "execution_count": null,
      "outputs": [
        {
          "output_type": "execute_result",
          "data": {
            "text/plain": [
              "3.5"
            ]
          },
          "metadata": {
            "tags": []
          },
          "execution_count": 7
        }
      ]
    },
    {
      "cell_type": "markdown",
      "metadata": {
        "id": "08_vGB_LVM0a"
      },
      "source": [
        "## Programas ejercicios con números"
      ]
    },
    {
      "cell_type": "code",
      "metadata": {
        "id": "kT1ftjE4VYjm",
        "colab": {
          "base_uri": "https://localhost:8080/",
          "height": 121
        },
        "outputId": "0fdc94fd-22c5-43b3-ee06-239336b33b2d"
      },
      "source": [
        "# Programa que solicita 2 numeros y los suma\n",
        "print (\"Dime un numero\")\n",
        "primerNumero = int(input())\n",
        "print (\"Dime otro numero\")\n",
        "segundoNumero = int(input())\n",
        "print (\"Su suma es\")\n",
        "print (primerNumero + segundoNumero)"
      ],
      "execution_count": null,
      "outputs": [
        {
          "output_type": "stream",
          "text": [
            "Dime un numero\n",
            "5\n",
            "Dime otro numero\n",
            "10\n",
            "Su suma es\n",
            "15\n"
          ],
          "name": "stdout"
        }
      ]
    },
    {
      "cell_type": "code",
      "metadata": {
        "id": "8N-ODiGKWKYb",
        "colab": {
          "base_uri": "https://localhost:8080/",
          "height": 87
        },
        "outputId": "85959d83-0f0c-459a-ee6b-ef70cb25a57e"
      },
      "source": [
        "# Programa que calcula la Longitud de la circunferencia\n",
        "print(\"Dime el radio\")\n",
        "radio = int(input())  # Podemos usar float() si queremos decimales\n",
        "pi = 3.14\n",
        "longitud = 2 * pi * radio\n",
        "print (\"Longitud de la circunferencia:\")\n",
        "print (longitud)"
      ],
      "execution_count": null,
      "outputs": [
        {
          "output_type": "stream",
          "text": [
            "Dime el radio\n",
            "5\n",
            "Longitud de la circunferencia:\n",
            "31.400000000000002\n"
          ],
          "name": "stdout"
        }
      ]
    },
    {
      "cell_type": "code",
      "metadata": {
        "id": "g6mdOUDdWf0o",
        "colab": {
          "base_uri": "https://localhost:8080/",
          "height": 69
        },
        "outputId": "2ef46f1a-4235-4acc-abee-140c52d31098"
      },
      "source": [
        "# Programa que calcula la raiz cuadrada de un numero\n",
        "import math # Importamos libreria \n",
        "print(\"Dime un número\")\n",
        "n = float(input())\n",
        "print (\"Su raíz es {}\".format( math.sqrt(n) )) # Más adelante veremos esta línea"
      ],
      "execution_count": null,
      "outputs": [
        {
          "output_type": "stream",
          "text": [
            "Dime un número\n",
            "2\n",
            "Su raíz es 1.4142135623730951\n"
          ],
          "name": "stdout"
        }
      ]
    },
    {
      "cell_type": "code",
      "metadata": {
        "id": "mnFbEXjLYvNw",
        "colab": {
          "base_uri": "https://localhost:8080/",
          "height": 35
        },
        "outputId": "25a8fb42-557b-4898-f285-66ff01b21194"
      },
      "source": [
        "# Programa que calcula la media de 3 numeros enteros\n",
        "numero_1 = 9\n",
        "numero_2 = 3\n",
        "numero_3 = 6\n",
        "\n",
        "# Hay que realizar primero la suma de los 3 números antes de dividir\n",
        "media = (numero_1 + numero_2 + numero_3) / 3  \n",
        "print(\"La nota media es\", media)"
      ],
      "execution_count": null,
      "outputs": [
        {
          "output_type": "stream",
          "text": [
            "La nota media es 6.0\n"
          ],
          "name": "stdout"
        }
      ]
    },
    {
      "cell_type": "code",
      "metadata": {
        "id": "CcWcC8_trs8E",
        "colab": {
          "base_uri": "https://localhost:8080/",
          "height": 121
        },
        "outputId": "29b92b02-a34e-4325-9a3f-0c66b02390a2"
      },
      "source": [
        "# Programa calculo del IMC\n",
        "def main():\n",
        "    print(\"CÁLCULO DEL ÍNDICE DE MASA CORPORAL (IMC)\")\n",
        "    peso = float(input(\"¿Cuánto pesa? \"))\n",
        "    altura = float(input(\"¿Cuánto mide en metros? \"))\n",
        "\n",
        "    imc = peso / altura ** 2\n",
        "\n",
        "    print(f\"Su imc es {round(imc, 1)}\")\n",
        "    print(\n",
        "        \"Un ímc muy alto indica obesidad. Los valores normales de imc están entre 20 y 25,\"\n",
        "    )\n",
        "    print(\n",
        "        \"pero esos límites dependen de la edad, del sexo, de la constitución física, etc.\"\n",
        "    )\n",
        "\n",
        "\n",
        "if __name__ == \"__main__\":\n",
        "    main()"
      ],
      "execution_count": null,
      "outputs": [
        {
          "output_type": "stream",
          "text": [
            "CÁLCULO DEL ÍNDICE DE MASA CORPORAL (IMC)\n",
            "¿Cuánto pesa? 80\n",
            "¿Cuánto mide en metros? 1.90\n",
            "Su imc es 22.2\n",
            "Un ímc muy alto indica obesidad. Los valores normales de imc están entre 20 y 25,\n",
            "pero esos límites dependen de la edad, del sexo, de la constitución física, etc.\n"
          ],
          "name": "stdout"
        }
      ]
    },
    {
      "cell_type": "code",
      "metadata": {
        "colab": {
          "base_uri": "https://localhost:8080/"
        },
        "id": "LLvTtG1zWUyU",
        "outputId": "4f81170c-1bfd-430f-b614-b6ccfa19fb9e"
      },
      "source": [
        "# Programa que dado un numero de caramelos y un numero de niños, diga a cúantos caramelos toca cada niño y cántos caramelos sobran.\n",
        "\n",
        "niños = int(input(\"¿Cúantos niños hay?\"))\n",
        "caramelos =int(input(\"¿Cúantos caramelos hay?\"))\n",
        "\n",
        "print (\"Repartir\", caramelos, \"Caramelos entre\",niños,\"niños.\")\n",
        "print(\"A cada niño le tocan\",caramelos // niños,\"caramelos.\")\n",
        "print(\"Sobran\", caramelos % niños,\"caramelos.\")"
      ],
      "execution_count": null,
      "outputs": [
        {
          "output_type": "stream",
          "text": [
            "¿Cúantos niños hay?10\n",
            "¿Cúantos caramelos hay?11\n",
            "Repartir 11 Caramelos entre 10 niños.\n",
            "A cada niño le tocan 1 caramelos.\n",
            "Sobran 1 caramelos.\n"
          ],
          "name": "stdout"
        }
      ]
    },
    {
      "cell_type": "code",
      "metadata": {
        "colab": {
          "base_uri": "https://localhost:8080/"
        },
        "id": "qcjlSvzOXKn2",
        "outputId": "e8c431b4-929a-44c1-baaa-7488e24c897e"
      },
      "source": [
        "# Programa que transforma un tiempo dado en segundos en sus horas, minutos y segundos correspondientes\n",
        "# Introducir el dato 174452 segundos, dando como resultado: 48 horas 27 minutos y 32 segundos.\n",
        "\n",
        "segundos = int(input(\"Dime el tiempo en segundos:\"))\n",
        "\n",
        "minutos = segundos // 60 #Pasamos los segundos a minutos\n",
        "segundos_resto = segundos % 60 #Segundos que sobran\n",
        "\n",
        "horas = minutos // 60 #Pasamos los minutos a horas\n",
        "minutos_resto = minutos % 60 #Minutos que sobran\n",
        "\n",
        "print (\"Tiempo\",horas,\"h,\",minutos_resto,\"m,\",segundos_resto,\"s\")\n"
      ],
      "execution_count": null,
      "outputs": [
        {
          "output_type": "stream",
          "text": [
            "Dime el tiempo en segundos:174452\n",
            "Tiempo 48 h, 27 m, 32 s\n"
          ],
          "name": "stdout"
        }
      ]
    },
    {
      "cell_type": "code",
      "metadata": {
        "colab": {
          "base_uri": "https://localhost:8080/"
        },
        "id": "B9PLAHWCYoHJ",
        "outputId": "67c198b6-35d5-4ef4-e465-56699e790477"
      },
      "source": [
        "# Programa que comprueba si un número dado es par o impar (múltiplo de 2)\n",
        "\n",
        "num = int(input(\"Dime un número:\"))\n",
        "\n",
        "if num % 2 == 0:\n",
        "  print (\"El numero es par\",num,\"es par.\")\n",
        "else:\n",
        "  print(\"El numero es impar\",num,\"es impar.\")\n"
      ],
      "execution_count": null,
      "outputs": [
        {
          "output_type": "stream",
          "text": [
            "Dime un número:11\n",
            "El numero es impar 11 es impar.\n"
          ],
          "name": "stdout"
        }
      ]
    },
    {
      "cell_type": "code",
      "metadata": {
        "colab": {
          "base_uri": "https://localhost:8080/"
        },
        "id": "BeJ37eI-ajXN",
        "outputId": "a9a65e79-01cd-42f9-e646-976983371c2d"
      },
      "source": [
        "#Programa que comprueba si un número es múltiplo de 3, de 5 o de los dos.\n",
        "\n",
        "num = int(input(\"Dime un número entero:\"))\n",
        "\n",
        "if num % 3 == 0 and num % 5 == 0:\n",
        "  print(\"Es múltiplo de 3 y de 5\")\n",
        "elif num % 3 == 0:\n",
        "  print(\"Es múltiplo de 3\")\n",
        "elif num % 5 == 0:\n",
        "  print(\"Es múltiplo de 5\")\n",
        "else:\n",
        "  print(\"No es múltiplo de 3 ni de 5.\")"
      ],
      "execution_count": null,
      "outputs": [
        {
          "output_type": "stream",
          "text": [
            "Dime un número entero:15\n",
            "Es múltiplo de 3 y de 5\n"
          ],
          "name": "stdout"
        }
      ]
    },
    {
      "cell_type": "code",
      "metadata": {
        "colab": {
          "base_uri": "https://localhost:8080/"
        },
        "id": "iPTwDs2Lbqby",
        "outputId": "c71260e7-1dc3-42d3-ca89-9f4af8c299a2"
      },
      "source": [
        "#Programa que dados 3 números encuentra cuál es el mayor de los tres\n",
        "\n",
        "n1 = int(input(\"Dime un número:\"))\n",
        "n2 = int(input(\"Dime otro número:\"))\n",
        "n3 = int(input(\"Dime un tercero:\"))\n",
        "\n",
        "if (n1 > n2) and (n1>n3):\n",
        "  print(\"El número\",n1, \"es el mayor.\")\n",
        "elif (n2 >n3):\n",
        "  print(\"El número\",n2,\"es el mayor.\")\n",
        "else:\n",
        "  print(\"El número\",n3, \"es el mayor.\")\n"
      ],
      "execution_count": null,
      "outputs": [
        {
          "output_type": "stream",
          "text": [
            "Dime un número:10\n",
            "Dime otro número:2\n",
            "Dime un tercero:1\n",
            "El número 10 es el mayor.\n"
          ],
          "name": "stdout"
        }
      ]
    },
    {
      "cell_type": "markdown",
      "metadata": {
        "id": "awjgGkcdZyzn"
      },
      "source": [
        "# 2.**Cadenas de caracteres o texto**"
      ]
    },
    {
      "cell_type": "markdown",
      "metadata": {
        "id": "8FMabMwjZ2bF"
      },
      "source": [
        "## Teoría\n",
        "\n",
        "* Las cadenas de caracteres, son secuencias inmutables que contienen caracteres encerrado entre comillas.\n",
        "\n",
        "* Son caracteres encerrados entre comillas simples (') o dobles (\").\n",
        "\n",
        "* La función print() muestra por pantalla el contenido de la cadena, pero no las comillas delimitadoras de las cadenas.\n",
        "* Las comillas triples permiten que las cadenas ocupen más de una línea.\n",
        "* Se pueden escribir comillas simples en cadenas delimitadas con comillas dobles y viceversa\n",
        "* Caracteres especiales: Los caracteres especiales empiezan por una contrabarra (\\)\n",
        "* Cadenas \"f\": En Python 3.6 se añadió una cadena \"f\" que contiene variables y expresiones entre llaves ({}) que se sustituyen directamente por su valor.\n",
        "\n",
        "**Índices en las cadenas**\n",
        "\n",
        "* Los índices nos permiten posicionarnos en un carácter específico de una cadena.\n",
        "\n",
        "* Representan un número [índice], que empezando por el 0 indica el carácter de la primera posición, y así sucesivamente\n",
        "\n",
        "\n",
        "**Slicing en las cadenas**\n",
        "\n",
        "* El slicing es una capacidad de las cadenas que devuelve un subconjunto o subcadena utilizando dos índices [inicio:fin]:\n",
        "\n",
        "* El primer índice indica donde empieza la subcadena (se incluye el carácter).\n",
        "El segundo índice indica donde acaba la subcadena (se excluye el carácter)."
      ]
    },
    {
      "cell_type": "markdown",
      "metadata": {
        "id": "JHtjHIXIbcIB"
      },
      "source": [
        "## Ejercicios con caracteres"
      ]
    },
    {
      "cell_type": "code",
      "metadata": {
        "id": "ydAO24B1beU0",
        "colab": {
          "base_uri": "https://localhost:8080/",
          "height": 35
        },
        "outputId": "29c79406-c1fd-4f4b-b669-e10e2822593a"
      },
      "source": [
        "# Caracteres con comillas simples\n",
        "'Hola Mundo'"
      ],
      "execution_count": null,
      "outputs": [
        {
          "output_type": "execute_result",
          "data": {
            "application/vnd.google.colaboratory.intrinsic": {
              "type": "string"
            },
            "text/plain": [
              "'Hola Mundo'"
            ]
          },
          "metadata": {
            "tags": []
          },
          "execution_count": 22
        }
      ]
    },
    {
      "cell_type": "code",
      "metadata": {
        "id": "SQz3-fxpbluK",
        "colab": {
          "base_uri": "https://localhost:8080/",
          "height": 35
        },
        "outputId": "d2e86b23-3048-434d-f06d-ea3d00e4eb9c"
      },
      "source": [
        "# Caracteres con comillas dobles\n",
        "\"Hola Mundo\""
      ],
      "execution_count": null,
      "outputs": [
        {
          "output_type": "execute_result",
          "data": {
            "application/vnd.google.colaboratory.intrinsic": {
              "type": "string"
            },
            "text/plain": [
              "'Hola Mundo'"
            ]
          },
          "metadata": {
            "tags": []
          },
          "execution_count": 23
        }
      ]
    },
    {
      "cell_type": "code",
      "metadata": {
        "id": "MO4sy5Gib9r2",
        "colab": {
          "base_uri": "https://localhost:8080/",
          "height": 35
        },
        "outputId": "c5791396-0d25-4048-bd30-f198787dfa09"
      },
      "source": [
        "# Ejemplo comillas simples dentro de comillas dobles\n",
        "\"Esta 'palabra' se encuentra escrita entre comillas simples\""
      ],
      "execution_count": null,
      "outputs": [
        {
          "output_type": "execute_result",
          "data": {
            "application/vnd.google.colaboratory.intrinsic": {
              "type": "string"
            },
            "text/plain": [
              "\"Esta 'palabra' se encuentra escrita entre comillas simples\""
            ]
          },
          "metadata": {
            "tags": []
          },
          "execution_count": 25
        }
      ]
    },
    {
      "cell_type": "code",
      "metadata": {
        "id": "PYgBO_z9cZ_f",
        "colab": {
          "base_uri": "https://localhost:8080/",
          "height": 69
        },
        "outputId": "3910867c-08a2-4352-dfc8-b56b9a14bf15"
      },
      "source": [
        "# Podemos utilizar \"\"\" (triple comillas) para cadenas multilínea:\n",
        "print(\"\"\"Una línea\n",
        "otra línea\n",
        "otra línea \\t una tabulación\"\"\")"
      ],
      "execution_count": null,
      "outputs": [
        {
          "output_type": "stream",
          "text": [
            "Una línea\n",
            "otra línea\n",
            "otra línea \t una tabulación\n"
          ],
          "name": "stdout"
        }
      ]
    },
    {
      "cell_type": "code",
      "metadata": {
        "id": "zRZRmFQ6bqvP",
        "colab": {
          "base_uri": "https://localhost:8080/",
          "height": 52
        },
        "outputId": "a075dd36-4831-4dbe-b379-716db288c6b3"
      },
      "source": [
        "# Imprimir con la función print() que no muestra comillas.\n",
        "print ('Hola Mundo')\n",
        "print (\"Hola Mundo\")"
      ],
      "execution_count": null,
      "outputs": [
        {
          "output_type": "stream",
          "text": [
            "Hola Mundo\n",
            "Hola Mundo\n"
          ],
          "name": "stdout"
        }
      ]
    },
    {
      "cell_type": "code",
      "metadata": {
        "id": "MtJhrHDRcKT3",
        "colab": {
          "base_uri": "https://localhost:8080/",
          "height": 52
        },
        "outputId": "3be57d15-7cf0-4b01-f689-99dc8f451900"
      },
      "source": [
        "# Salto de linea con la función print() usando \\n\n",
        "print(\"Un texto\\n una nueva línea\")"
      ],
      "execution_count": null,
      "outputs": [
        {
          "output_type": "stream",
          "text": [
            "Un texto\n",
            " una nueva línea\n"
          ],
          "name": "stdout"
        }
      ]
    },
    {
      "cell_type": "code",
      "metadata": {
        "id": "SoaOFNhvoHke",
        "colab": {
          "base_uri": "https://localhost:8080/",
          "height": 35
        },
        "outputId": "b19bfb97-b6f0-4bfe-d9e2-d71f3bbd88d3"
      },
      "source": [
        "# Operaciones usando variables con cadenas de caracteres\n",
        "c = \"Esto es una cadena \\n con dos líneas\"\n",
        "c + c"
      ],
      "execution_count": null,
      "outputs": [
        {
          "output_type": "execute_result",
          "data": {
            "application/vnd.google.colaboratory.intrinsic": {
              "type": "string"
            },
            "text/plain": [
              "'Esto es una cadena \\n con dos líneasEsto es una cadena \\n con dos líneas'"
            ]
          },
          "metadata": {
            "tags": []
          },
          "execution_count": 31
        }
      ]
    },
    {
      "cell_type": "code",
      "metadata": {
        "id": "-1UwCwP1oWu_",
        "colab": {
          "base_uri": "https://localhost:8080/",
          "height": 69
        },
        "outputId": "7ebd69f1-0ade-470c-c199-794d6c5f4d41"
      },
      "source": [
        "# Operación usando print () y variables\n",
        "c = \"Esto es una cadena \\n con dos líneas\"\n",
        "print(c+c)"
      ],
      "execution_count": null,
      "outputs": [
        {
          "output_type": "stream",
          "text": [
            "Esto es una cadena \n",
            " con dos líneasEsto es una cadena \n",
            " con dos líneas\n"
          ],
          "name": "stdout"
        }
      ]
    },
    {
      "cell_type": "code",
      "metadata": {
        "id": "4fdboq5Qq9zH",
        "colab": {
          "base_uri": "https://localhost:8080/",
          "height": 35
        },
        "outputId": "b6d67315-719f-4ba6-accc-0d01385b6b30"
      },
      "source": [
        "# Multiplicar cadenas de caracteres\n",
        "palabra1 = 'Hola ' * 3\n",
        "palabra2 = 'Mundo'\n",
        "print(palabra1 + palabra2)"
      ],
      "execution_count": null,
      "outputs": [
        {
          "output_type": "stream",
          "text": [
            "Hola Hola Hola Mundo\n"
          ],
          "name": "stdout"
        }
      ]
    },
    {
      "cell_type": "code",
      "metadata": {
        "id": "JWro-1vnoyTB",
        "colab": {
          "base_uri": "https://localhost:8080/",
          "height": 35
        },
        "outputId": "86a66fd3-b976-4932-8b33-bdcfedb9eae5"
      },
      "source": [
        "# Imprimir primer caracter\n",
        "palabra = \"Python\"\n",
        "palabra[0] # carácter en la posición 0"
      ],
      "execution_count": null,
      "outputs": [
        {
          "output_type": "execute_result",
          "data": {
            "application/vnd.google.colaboratory.intrinsic": {
              "type": "string"
            },
            "text/plain": [
              "'P'"
            ]
          },
          "metadata": {
            "tags": []
          },
          "execution_count": 34
        }
      ]
    },
    {
      "cell_type": "code",
      "metadata": {
        "id": "dud_Z3crpAE-",
        "colab": {
          "base_uri": "https://localhost:8080/",
          "height": 35
        },
        "outputId": "4fae9628-c52b-4901-8be5-6a897866f7e8"
      },
      "source": [
        "# Imprimir último caracter El índice negativo -1, hace referencia al carácter de la última posición, el -2 al penúltimo y así sucesivamente:\n",
        "palabra = \"Python\"\n",
        "palabra[-1] # carácter en la posición 0"
      ],
      "execution_count": null,
      "outputs": [
        {
          "output_type": "execute_result",
          "data": {
            "application/vnd.google.colaboratory.intrinsic": {
              "type": "string"
            },
            "text/plain": [
              "'n'"
            ]
          },
          "metadata": {
            "tags": []
          },
          "execution_count": 36
        }
      ]
    },
    {
      "cell_type": "code",
      "metadata": {
        "id": "7at0Ci1ipY0J",
        "colab": {
          "base_uri": "https://localhost:8080/",
          "height": 35
        },
        "outputId": "5715275a-8cf7-40f3-af78-4bb8fae89a8b"
      },
      "source": [
        "# Ejemplo de Slicing imprimir 2 primeras letras\n",
        "palabra = \"Python\"\n",
        "palabra[0:2] # El 0 se incluye, El 2 se excluye."
      ],
      "execution_count": null,
      "outputs": [
        {
          "output_type": "execute_result",
          "data": {
            "application/vnd.google.colaboratory.intrinsic": {
              "type": "string"
            },
            "text/plain": [
              "'Py'"
            ]
          },
          "metadata": {
            "tags": []
          },
          "execution_count": 37
        }
      ]
    },
    {
      "cell_type": "code",
      "metadata": {
        "id": "pTIHcxh0pqNL",
        "colab": {
          "base_uri": "https://localhost:8080/",
          "height": 35
        },
        "outputId": "42dd9488-a722-4597-bdeb-af893c09fac7"
      },
      "source": [
        "# Ejemplo de Slicing imprimir desde la segunda letra incluida\n",
        "palabra = \"Coche\"\n",
        "palabra[2:]"
      ],
      "execution_count": null,
      "outputs": [
        {
          "output_type": "execute_result",
          "data": {
            "application/vnd.google.colaboratory.intrinsic": {
              "type": "string"
            },
            "text/plain": [
              "'che'"
            ]
          },
          "metadata": {
            "tags": []
          },
          "execution_count": 40
        }
      ]
    },
    {
      "cell_type": "code",
      "metadata": {
        "id": "7XFcTS9qqF7E",
        "colab": {
          "base_uri": "https://localhost:8080/",
          "height": 35
        },
        "outputId": "d00ce6e3-6c9a-4013-ee2f-dd86270f9c4e"
      },
      "source": [
        "# Operaciones con slicing de cadenas\n",
        "palabra = \"Aprendiendo Python\"\n",
        "palabra[:2] + palabra[2:]"
      ],
      "execution_count": null,
      "outputs": [
        {
          "output_type": "execute_result",
          "data": {
            "application/vnd.google.colaboratory.intrinsic": {
              "type": "string"
            },
            "text/plain": [
              "'Aprendiendo Python'"
            ]
          },
          "metadata": {
            "tags": []
          },
          "execution_count": 41
        }
      ]
    },
    {
      "cell_type": "code",
      "metadata": {
        "id": "6Gqj3CVxqa5O",
        "colab": {
          "base_uri": "https://localhost:8080/",
          "height": 35
        },
        "outputId": "1c9ed234-9333-4a1c-d7d0-8fb86528426b"
      },
      "source": [
        "# Modificar cadenas con Slicing.  Una propiedad de las cadenas es que no se puede modificar su contenido\n",
        "palabra = \"Python\"\n",
        "palabra = \"N\" + palabra[1:]\n",
        "palabra"
      ],
      "execution_count": null,
      "outputs": [
        {
          "output_type": "execute_result",
          "data": {
            "application/vnd.google.colaboratory.intrinsic": {
              "type": "string"
            },
            "text/plain": [
              "'Nython'"
            ]
          },
          "metadata": {
            "tags": []
          },
          "execution_count": 42
        }
      ]
    },
    {
      "cell_type": "code",
      "metadata": {
        "id": "dH3MRWhBqoEF",
        "colab": {
          "base_uri": "https://localhost:8080/",
          "height": 35
        },
        "outputId": "287cce15-f8f7-4a7c-a8fc-fd343c0d1331"
      },
      "source": [
        "# Un ejemplo de función útil que soportan las cadenas es len(), que nos permite saber su longitud (el número de caracteres que contienen):\n",
        "palabra = \"Python\"\n",
        "len(palabra)"
      ],
      "execution_count": null,
      "outputs": [
        {
          "output_type": "execute_result",
          "data": {
            "text/plain": [
              "6"
            ]
          },
          "metadata": {
            "tags": []
          },
          "execution_count": 43
        }
      ]
    },
    {
      "cell_type": "code",
      "metadata": {
        "id": "nXiHEQi3rGob",
        "colab": {
          "base_uri": "https://localhost:8080/",
          "height": 35
        },
        "outputId": "9fd76842-9ec1-4e02-e1ea-47277c3fce1e"
      },
      "source": [
        "# Puedes buscar una sub-cadena en una cadena de caracteres utilizando el método find y tu programa te indicará el índice de inicio de la misma\n",
        "palabra = \"Hola Mundo\"\n",
        "encontrada = palabra.find(\"Mundo\")\n",
        "print(encontrada)"
      ],
      "execution_count": null,
      "outputs": [
        {
          "output_type": "stream",
          "text": [
            "5\n"
          ],
          "name": "stdout"
        }
      ]
    },
    {
      "cell_type": "code",
      "metadata": {
        "id": "Bgh9B4JtraIV",
        "colab": {
          "base_uri": "https://localhost:8080/",
          "height": 35
        },
        "outputId": "d79b427e-36bb-4f85-c9c6-78fd87c1ea9a"
      },
      "source": [
        "# Ejemplo convertir una cadena de caracteres a minúsculas. Convertir las minúsculas en mayúsculas se logra cambiando .lower() por upper().\n",
        "palabra = \"Ya se MUCHO de PYTHON\"\n",
        "encontrada = palabra.lower()\n",
        "print(encontrada)"
      ],
      "execution_count": null,
      "outputs": [
        {
          "output_type": "stream",
          "text": [
            "ya se mucho de python\n"
          ],
          "name": "stdout"
        }
      ]
    },
    {
      "cell_type": "code",
      "metadata": {
        "id": "tF2iLn2PL9wL",
        "colab": {
          "base_uri": "https://localhost:8080/",
          "height": 35
        },
        "outputId": "f478c529-0d11-47ab-e9cf-fa4a99e57e3a"
      },
      "source": [
        "# capitalize() retorna la cadena con su primera letra en mayúscula.\n",
        "palabra = \"estoy aprendiendo mucho\"\n",
        "encontrada = palabra.capitalize()\n",
        "print(encontrada)"
      ],
      "execution_count": null,
      "outputs": [
        {
          "output_type": "stream",
          "text": [
            "Estoy aprendiendo mucho\n"
          ],
          "name": "stdout"
        }
      ]
    },
    {
      "cell_type": "code",
      "metadata": {
        "id": "EH1bNoDnMSCu",
        "colab": {
          "base_uri": "https://localhost:8080/",
          "height": 35
        },
        "outputId": "f8213315-77f9-451c-eb08-0c4311e60198"
      },
      "source": [
        "# swapcase(), por su parte, cambia las mayúsculas por minúsculas y viceversa.\n",
        "palabra = \"Ya se MUCHO de PYTHON\"\n",
        "encontrada = palabra.swapcase()\n",
        "print(encontrada)"
      ],
      "execution_count": null,
      "outputs": [
        {
          "output_type": "stream",
          "text": [
            "yA SE mucho DE python\n"
          ],
          "name": "stdout"
        }
      ]
    },
    {
      "cell_type": "code",
      "metadata": {
        "id": "-G72gDhLrucT",
        "colab": {
          "base_uri": "https://localhost:8080/",
          "height": 35
        },
        "outputId": "2c86e7e3-991a-44d7-faeb-8ac90fcb782c"
      },
      "source": [
        "# Ejemplo cambiar una sub-cadena de una cadena se puede utilizar el método replace.\n",
        "palabra = \"Soy un dummy en python\"\n",
        "cambiar = palabra.replace(\"dummy\",\"experto\")\n",
        "print(cambiar)"
      ],
      "execution_count": null,
      "outputs": [
        {
          "output_type": "stream",
          "text": [
            "Soy un experto en python\n"
          ],
          "name": "stdout"
        }
      ]
    },
    {
      "cell_type": "code",
      "metadata": {
        "id": "ceyk_WeCLY7V",
        "colab": {
          "base_uri": "https://localhost:8080/",
          "height": 35
        },
        "outputId": "5e41881b-497d-440c-f4a2-a81703e90baf"
      },
      "source": [
        "# startswith() y endswith() indican si la cadena en cuestión comienza o termina con el conjunto de caracteres pasados como argumento, y retornan True o False en función de ello.\n",
        "palabra = \"Cada vez se más de Python\"\n",
        "descubrir = palabra.startswith(\"Cada\")\n",
        "print (descubrir)"
      ],
      "execution_count": null,
      "outputs": [
        {
          "output_type": "stream",
          "text": [
            "True\n"
          ],
          "name": "stdout"
        }
      ]
    },
    {
      "cell_type": "code",
      "metadata": {
        "id": "xJoRoPUKMmKS",
        "colab": {
          "base_uri": "https://localhost:8080/",
          "height": 35
        },
        "outputId": "9f4b2196-853b-4153-ae9f-5ea1d929a8e6"
      },
      "source": [
        "# el método join() que debe ser llamado desde una cadena que actúa como separador para unir dentro de una misma cadena resultante los elementos de una lista.\n",
        "palabra = \", \".join([\"C\", \"C++\", \"Python\", \"Java\"])\n",
        "print(palabra)"
      ],
      "execution_count": null,
      "outputs": [
        {
          "output_type": "stream",
          "text": [
            "C, C++, Python, Java\n"
          ],
          "name": "stdout"
        }
      ]
    },
    {
      "cell_type": "code",
      "metadata": {
        "id": "xy45Y-C6sNEr",
        "colab": {
          "base_uri": "https://localhost:8080/",
          "height": 139
        },
        "outputId": "96cafe36-1519-4567-d98a-49290e49511f"
      },
      "source": [
        "# Python nos permite recorrer todos los caracteres de una cadena de manera muy sencilla, usando directamente un ciclo definido:\n",
        "for x in \"Alfonso\" :\n",
        "  print (x)"
      ],
      "execution_count": null,
      "outputs": [
        {
          "output_type": "stream",
          "text": [
            "A\n",
            "l\n",
            "f\n",
            "o\n",
            "n\n",
            "s\n",
            "o\n"
          ],
          "name": "stdout"
        }
      ]
    },
    {
      "cell_type": "markdown",
      "metadata": {
        "id": "ND84j7jvOn3j"
      },
      "source": [
        "## Programas con cadenas de texto"
      ]
    },
    {
      "cell_type": "code",
      "metadata": {
        "colab": {
          "base_uri": "https://localhost:8080/"
        },
        "id": "6m7PgZtWMLMd",
        "outputId": "1198268b-3c1c-4e97-d960-a6fc42a258a2"
      },
      "source": [
        "#Escribir un programa que pregunte el nombre del usuario en la consola y un número entero e imprima por pantalla en líneas distintas el nombre del usuario tantas veces como el número introducido.\n",
        "nombre = input(\"¿Cómo te llamas? \")\n",
        "n = input(\"Introduce un número entero: \")\n",
        "print((nombre + \"\\n\") * int(n))"
      ],
      "execution_count": null,
      "outputs": [
        {
          "output_type": "stream",
          "text": [
            "¿Cómo te llamas? Alfonso\n",
            "Introduce un número entero: 3\n",
            "Alfonso\n",
            "Alfonso\n",
            "Alfonso\n",
            "\n"
          ],
          "name": "stdout"
        }
      ]
    },
    {
      "cell_type": "code",
      "metadata": {
        "colab": {
          "base_uri": "https://localhost:8080/"
        },
        "id": "mFhoJw4FMUxr",
        "outputId": "11ea2d19-0fbe-40f5-bd30-7563ab294991"
      },
      "source": [
        "#Escribir un nombre y convertir minuscula,mayuscula y primera en mayuscula\n",
        "name = input(\"¿Cómo te llamas? \")\n",
        "print(name.lower())\n",
        "print(name.upper())\n",
        "print(name.title())"
      ],
      "execution_count": null,
      "outputs": [
        {
          "output_type": "stream",
          "text": [
            "¿Cómo te llamas? Alfonso Gallardo Rivilla\n",
            "alfonso gallardo rivilla\n",
            "ALFONSO GALLARDO RIVILLA\n",
            "Alfonso Gallardo Rivilla\n"
          ],
          "name": "stdout"
        }
      ]
    },
    {
      "cell_type": "code",
      "metadata": {
        "colab": {
          "base_uri": "https://localhost:8080/"
        },
        "id": "3o28CQ-uMmD_",
        "outputId": "f6a50597-491c-42bd-f69b-276be23e505a"
      },
      "source": [
        "#Escribir un programa que pida al usuario que introduzca una frase en la consola y muestre por pantalla la frase invertida\n",
        "frase = input(\"Introduce una frase: \")\n",
        "print(frase[::-1])"
      ],
      "execution_count": null,
      "outputs": [
        {
          "output_type": "stream",
          "text": [
            "Introduce una frase: ALOH\n",
            "HOLA\n"
          ],
          "name": "stdout"
        }
      ]
    },
    {
      "cell_type": "code",
      "metadata": {
        "colab": {
          "base_uri": "https://localhost:8080/"
        },
        "id": "uvU3XCrKNGM9",
        "outputId": "bffe2a9f-2773-4f87-d0a4-67686fcd328e"
      },
      "source": [
        "#Escribir un programa que pregunte al usuario la fecha de su nacimiento en formato dd/mm/aaaa y muestra por pantalla, el día, el mes y el año.\n",
        "fecha = input(\"Introduce la fecha de tu nacimiento en formato dd/mm/aaaa: \")\n",
        "print('Día', fecha[:2])\n",
        "print('Mes', fecha[3:5])\n",
        "print('Año', fecha[6:])"
      ],
      "execution_count": null,
      "outputs": [
        {
          "output_type": "stream",
          "text": [
            "Introduce la fecha de tu nacimiento en formato dd/mm/aaaa: 07/09/1983\n",
            "Día 07\n",
            "Mes 09\n",
            "Año 1983\n"
          ],
          "name": "stdout"
        }
      ]
    },
    {
      "cell_type": "code",
      "metadata": {
        "colab": {
          "base_uri": "https://localhost:8080/"
        },
        "id": "0jP4OL2qNNg1",
        "outputId": "409a96d5-3d9f-4d98-b397-1df82f43bdbe"
      },
      "source": [
        "#Adaptar el programa anterior para que también funcione cuando el día o el mes se introduzcan con un solo carácter.\n",
        "fecha = input(\"Introduce la fecha de tu nacimiento en formato día/mes/año: \")\n",
        "dia = fecha[:fecha.find('/')]\n",
        "mesaño = fecha[fecha.find('/')+1:]\n",
        "mes = mesaño[:mesaño.find('/')]\n",
        "año = mesaño[mesaño.find('/')+1:]\n",
        "print('Día', dia)\n",
        "print('Mes', mes)\n",
        "print('Año', año)"
      ],
      "execution_count": null,
      "outputs": [
        {
          "output_type": "stream",
          "text": [
            "Introduce la fecha de tu nacimiento en formato día/mes/año: 7/9/83\n",
            "Día 7\n",
            "Mes 9\n",
            "Año 83\n"
          ],
          "name": "stdout"
        }
      ]
    },
    {
      "cell_type": "code",
      "metadata": {
        "id": "EhWpt8zlOsFj",
        "colab": {
          "base_uri": "https://localhost:8080/",
          "height": 176
        },
        "outputId": "c31ea7bc-b771-4970-c6cc-cc280ba43f2e"
      },
      "source": [
        "# Programa que convierte en minuscula, mayuscula una frase, la longitud\n",
        "frase = input(\"Introduzca una frase (con min, May, Num, acentos, y espacios): \")\n",
        "\n",
        "\n",
        "print(\"Minúsculas        : \" + frase.lower())\n",
        "print(\"Mayúsculas        : %s\" % frase.upper())\n",
        "print(\"frase en mayúsculas: {}\".format(frase.capitalize()))\n",
        "print(\"palabras en mayúsculas :\", frase.title())\n",
        "print(\"Longitud de la cadena: {}\".format(len(frase)))\n",
        "\n",
        "print(\"¿Su frase contiene la letra 'a'?\", \"a\" in frase)\n",
        "print(\"¿Su frase contiene la secuencia 'abc'?\", \"abc\" in frase)\n",
        "\n"
      ],
      "execution_count": null,
      "outputs": [
        {
          "output_type": "stream",
          "text": [
            "Introduzca una frase (con min, May, Num, acentos, y espacios): Esto es una frase de prueba\n",
            "Minúsculas        : esto es una frase de prueba\n",
            "Mayúsculas        : ESTO ES UNA FRASE DE PRUEBA\n",
            "frase en mayúsculas: Esto es una frase de prueba\n",
            "palabras en mayúsculas : Esto Es Una Frase De Prueba\n",
            "Longitud de la cadena: 27\n",
            "¿Su frase contiene la letra 'a'? True\n",
            "¿Su frase contiene la secuencia 'abc'? False\n"
          ],
          "name": "stdout"
        }
      ]
    },
    {
      "cell_type": "code",
      "metadata": {
        "id": "_ciR6kwoPa5i",
        "colab": {
          "base_uri": "https://localhost:8080/",
          "height": 87
        },
        "outputId": "83b8be9e-8b63-482f-a4a7-5e35e135be17"
      },
      "source": [
        " # Programa que cuenta las ocurrencias de una letra\n",
        "frase= input(\"Introduce una frase de ejemplo:\")\n",
        "num = frase.count(\"a\")\n",
        "print(\"¿Cuántas ocurrencias de 'a' se encuentran en la frase?\", num)\n",
        "if num > 0:\n",
        "    index = frase.find(\"a\")\n",
        "    print(\"¿Dónde se encuentra la primera ocurrencia de 'a'?\", index)\n",
        "    for i in range(1, num):\n",
        "        index = frase.find(\"a\", index + 1)\n",
        "        print(\"La ocurrencia numéro {} de 'a' se encuentra en el índice {}\".format(\n",
        "            i + 1, index))"
      ],
      "execution_count": null,
      "outputs": [
        {
          "output_type": "stream",
          "text": [
            "¿Cuántas ocurrencias de 'a' se encuentran en la frase? 3\n",
            "¿Dónde se encuentra la primera ocurrencia de 'a'? 10\n",
            "La ocurrencia numéro 2 de 'a' se encuentra en el índice 14\n",
            "La ocurrencia numéro 3 de 'a' se encuentra en el índice 26\n"
          ],
          "name": "stdout"
        }
      ]
    },
    {
      "cell_type": "code",
      "metadata": {
        "id": "njabqXbAPvuz",
        "colab": {
          "base_uri": "https://localhost:8080/",
          "height": 69
        },
        "outputId": "3365d14c-597c-45ee-b2da-712e9d4a5108"
      },
      "source": [
        "# Programa que reemplaza un caracter por otro.\n",
        "print(\"Reemplazar las 'a' por '*':\")\n",
        "frase_oculta = frase.replace(\"a\", \"*\")\n",
        "print(frase)\n",
        "print(frase_oculta)"
      ],
      "execution_count": null,
      "outputs": [
        {
          "output_type": "stream",
          "text": [
            "Reemplazar las 'a' por '*':\n",
            "Esto es una frase de prueba\n",
            "Esto es un* fr*se de prueb*\n"
          ],
          "name": "stdout"
        }
      ]
    },
    {
      "cell_type": "code",
      "metadata": {
        "id": "-rkl97MRQFNE",
        "colab": {
          "base_uri": "https://localhost:8080/",
          "height": 52
        },
        "outputId": "05275101-2a43-4164-831b-0edac04559f4"
      },
      "source": [
        "# Programa que imprime caracteres poco usuales\n",
        "print(\"Y ahora, algunos caracteres poco usuales:\")\n",
        "print(chr(0x2318),\n",
        "      chr(0x2704),\n",
        "      chr(0x2764),\n",
        "      chr(0x265b),\n",
        "      chr(0x2620),\n",
        "      chr(0x2622),\n",
        "      chr(0x1f053),\n",
        "      chr(0x1f084),\n",
        "      chr(0x1f0d1))\n"
      ],
      "execution_count": null,
      "outputs": [
        {
          "output_type": "stream",
          "text": [
            "Y ahora, algunos caracteres poco usuales:\n",
            "⌘ ✄ ❤ ♛ ☠ ☢ 🁓 🂄 🃑\n"
          ],
          "name": "stdout"
        }
      ]
    },
    {
      "cell_type": "code",
      "metadata": {
        "colab": {
          "base_uri": "https://localhost:8080/"
        },
        "id": "6Kl07RDMCoD2",
        "outputId": "491d20a3-ff0c-4c5e-edee-408604c963f9"
      },
      "source": [
        " #En este caso vamos a imprimir cadenas y flotantes. Las cadenas van a ir alineadas a la izquierda, y los flotantes a la derecha. El ejemplo queda así:\n",
        "datos = [\n",
        "    {\n",
        "        \"nombre\": \"Luis C.B.\",\n",
        "        \"promedio\": 9.5,\n",
        "    },\n",
        "    {\n",
        "        \"nombre\": \"John G.\",\n",
        "        \"promedio\": 8.96,\n",
        "    },\n",
        "    {\n",
        "        \"nombre\": \"Leon Scott\",\n",
        "        \"promedio\": 9.22,\n",
        "    },\n",
        "]\n",
        "print(\"+--------------------+----------+\")\n",
        "print(\"|Nombre              |Promedio  |\")\n",
        "print(\"+--------------------+----------+\")\n",
        "for dato in datos:\n",
        "    nombre = dato[\"nombre\"]\n",
        "    promedio = dato[\"promedio\"]\n",
        "    cadena = \"|{:<20}|{:>10.2f}|\".format(nombre, promedio)\n",
        "    print(cadena)\n",
        "    print(\"+--------------------+----------+\")"
      ],
      "execution_count": null,
      "outputs": [
        {
          "output_type": "stream",
          "text": [
            "+--------------------+----------+\n",
            "|Nombre              |Promedio  |\n",
            "+--------------------+----------+\n",
            "|Luis C.B.           |      9.50|\n",
            "+--------------------+----------+\n",
            "|John G.             |      8.96|\n",
            "+--------------------+----------+\n",
            "|Leon Scott          |      9.22|\n",
            "+--------------------+----------+\n"
          ],
          "name": "stdout"
        }
      ]
    },
    {
      "cell_type": "markdown",
      "metadata": {
        "id": "13OPQgjPQjFs"
      },
      "source": [
        "# **3.Listas o Array**"
      ]
    },
    {
      "cell_type": "markdown",
      "metadata": {
        "id": "rwl24IVyo09U"
      },
      "source": [
        "## Teoria\n",
        "\n",
        "Las listas se tratan de un tipo compuesto de dato que puede almacenar distintos valores (llamados ítems o elementos) ordenados entre [ ] y separados con comas.\n",
        "\n",
        "![texto alternativo](https://bioinf.comav.upv.es/courses/linux/_images/python_list.png)\n",
        "\n",
        "Puede contener todo tipo de objetos, incluso de distintos tipos\n",
        "\n",
        "Lista = [1,2,3,4]"
      ]
    },
    {
      "cell_type": "markdown",
      "metadata": {
        "id": "4N5LcyxZRTRn"
      },
      "source": [
        "## Ejercicios con Listas"
      ]
    },
    {
      "cell_type": "code",
      "metadata": {
        "id": "osifGr5XUOTU",
        "colab": {
          "base_uri": "https://localhost:8080/",
          "height": 35
        },
        "outputId": "8edb8afd-a83e-4806-ebd4-d77a16644446"
      },
      "source": [
        "# Creamos una lista vacia\n",
        "lista = [ ]\n",
        "lista"
      ],
      "execution_count": null,
      "outputs": [
        {
          "output_type": "execute_result",
          "data": {
            "text/plain": [
              "[]"
            ]
          },
          "metadata": {
            "tags": []
          },
          "execution_count": 21
        }
      ]
    },
    {
      "cell_type": "code",
      "metadata": {
        "id": "0kSOulhcRXLl",
        "colab": {
          "base_uri": "https://localhost:8080/",
          "height": 35
        },
        "outputId": "4bd98c49-b2c2-4bd1-8ce8-2979a319ea18"
      },
      "source": [
        "# Creación de una lista de números y letras\n",
        "numeros = [1,'a','b',3,4,'c','d']\n",
        "numeros"
      ],
      "execution_count": null,
      "outputs": [
        {
          "output_type": "execute_result",
          "data": {
            "text/plain": [
              "[1, 'a', 'b', 3, 4, 'c', 'd']"
            ]
          },
          "metadata": {
            "tags": []
          },
          "execution_count": 14
        }
      ]
    },
    {
      "cell_type": "code",
      "metadata": {
        "id": "6XgxVXGwkTxD",
        "colab": {
          "base_uri": "https://localhost:8080/",
          "height": 35
        },
        "outputId": "6d730882-862d-415e-b07a-385d65088b0e"
      },
      "source": [
        "# Para cambiar una componente de una lista, se selecciona la componente mediante su índice y se le asigna el nuevo valor:\n",
        "lista = ['Hola', 'Adios', 'Ahora', 'Antes']\n",
        "lista[1] = 'Hasta pronto'\n",
        "lista"
      ],
      "execution_count": null,
      "outputs": [
        {
          "output_type": "execute_result",
          "data": {
            "text/plain": [
              "['Hola', 'Hasta pronto', 'Ahora', 'Antes']"
            ]
          },
          "metadata": {
            "tags": []
          },
          "execution_count": 1
        }
      ]
    },
    {
      "cell_type": "code",
      "metadata": {
        "id": "C8IzIwqnkvlI",
        "colab": {
          "base_uri": "https://localhost:8080/",
          "height": 35
        },
        "outputId": "cb00c710-eff3-4ef6-bedc-13d7875ffd55"
      },
      "source": [
        "# Insertar un nuevo valor en la lista en la posición deseada\n",
        "lista = [1,2,4,5]\n",
        "lista.insert(2,3) # Insertar un 3 antes del 4\n",
        "lista"
      ],
      "execution_count": null,
      "outputs": [
        {
          "output_type": "execute_result",
          "data": {
            "text/plain": [
              "[1, 2, 3, 4, 5]"
            ]
          },
          "metadata": {
            "tags": []
          },
          "execution_count": 3
        }
      ]
    },
    {
      "cell_type": "code",
      "metadata": {
        "id": "oeHxgx9slkEI",
        "colab": {
          "base_uri": "https://localhost:8080/",
          "height": 35
        },
        "outputId": "ccd26a7b-0ec0-49c4-c82c-d40f2acc6690"
      },
      "source": [
        "# Para eliminar un valor de una lista se utiliza la operación remove().Si el valor a borrar está repetido, se borra sólo su primera aparición\n",
        "lista = [1,2,4,5]\n",
        "lista.remove(5)\n",
        "lista"
      ],
      "execution_count": null,
      "outputs": [
        {
          "output_type": "execute_result",
          "data": {
            "text/plain": [
              "[1, 2, 4]"
            ]
          },
          "metadata": {
            "tags": []
          },
          "execution_count": 4
        }
      ]
    },
    {
      "cell_type": "code",
      "metadata": {
        "id": "zKDuhK-wS6R9",
        "colab": {
          "base_uri": "https://localhost:8080/",
          "height": 69
        },
        "outputId": "af0cf5bd-92ec-43e5-cb02-e97f2ba71008"
      },
      "source": [
        "# Creamos una lista dentro de otra lista. \n",
        "peliculas = [ [\"Senderos de Gloria\", 1957], [\"Hannah y sus hermanas\", 1986]]\n",
        "print(peliculas)\n",
        "print(peliculas[0])\n",
        "print(peliculas[1])"
      ],
      "execution_count": null,
      "outputs": [
        {
          "output_type": "stream",
          "text": [
            "[['Senderos de Gloria', 1957], ['Hannah y sus hermanas', 1986]]\n",
            "['Senderos de Gloria', 1957]\n",
            "['Hannah y sus hermanas', 1986]\n"
          ],
          "name": "stdout"
        }
      ]
    },
    {
      "cell_type": "code",
      "metadata": {
        "colab": {
          "base_uri": "https://localhost:8080/"
        },
        "id": "bVpToVkAepa1",
        "outputId": "4cb094b3-ab70-4972-e80b-cacc8de96517"
      },
      "source": [
        "# Recorrer una lista dentro de otra lista con bucle for\n",
        "\n",
        "amigos = [[\"Susana\",18], \n",
        "          [\"Rubén\", 19],\n",
        "          [\"Clara\",20],\n",
        "          [\"Jorge\",21]]\n",
        "amigos.append([\"Sara\"]) #Añadimos a Sara\n",
        "amigos[4].append(22) # Añadimos edad de Sara\n",
        "\n",
        "for amigo in amigos:\n",
        "  print(\"{:10}:{:2}\".format(amigo[0],amigo[1]))"
      ],
      "execution_count": null,
      "outputs": [
        {
          "output_type": "stream",
          "text": [
            "Susana    :18\n",
            "Rubén     :19\n",
            "Clara     :20\n",
            "Jorge     :21\n",
            "Sara      :22\n"
          ],
          "name": "stdout"
        }
      ]
    },
    {
      "cell_type": "code",
      "metadata": {
        "id": "5s009limezSc",
        "colab": {
          "base_uri": "https://localhost:8080/"
        },
        "outputId": "dce37ce2-99af-4bd6-ec35-e91d86c2d0fb"
      },
      "source": [
        "## Realizar un programa que inicialice una lista con 10 valores aleatorios (del 1 al 10)\n",
        "## y posteriormente muestre en pantalla cada elemento de la lista junto con su cuadrado \n",
        "## y su cubo.\n",
        "\n",
        "import random\n",
        "lista_numeros = []\n",
        "# Primer recorrido para leer la lista\n",
        "for indice in range(1,11):\n",
        "\tlista_numeros.append(random.randint(1,10))\n",
        "## Segundo recorrido para mostrar el resultado\n",
        "for numero in lista_numeros:\n",
        "\tprint(numero,\" \",numero ** 2,\" \",numero ** 3)\n"
      ],
      "execution_count": null,
      "outputs": [
        {
          "output_type": "stream",
          "text": [
            "6   36   216\n",
            "10   100   1000\n",
            "9   81   729\n",
            "4   16   64\n",
            "3   9   27\n",
            "9   81   729\n",
            "5   25   125\n",
            "8   64   512\n",
            "10   100   1000\n",
            "5   25   125\n"
          ],
          "name": "stdout"
        }
      ]
    },
    {
      "cell_type": "code",
      "metadata": {
        "id": "n0LABDrqRlKy",
        "colab": {
          "base_uri": "https://localhost:8080/",
          "height": 69
        },
        "outputId": "e3e73b66-ac08-4c8e-d09d-a72d0a1a8eba"
      },
      "source": [
        "# Imprimir listas usando índices\n",
        "datos = [4, \"Una cadena\", -15, 3.14, \"Otra cadena\"]\n",
        "\n",
        "print(datos[0])\n",
        "print(datos[-1])\n",
        "print(datos[2:])"
      ],
      "execution_count": null,
      "outputs": [
        {
          "output_type": "stream",
          "text": [
            "4\n",
            "Otra cadena\n",
            "[-15, 3.14, 'Otra cadena']\n"
          ],
          "name": "stdout"
        }
      ]
    },
    {
      "cell_type": "code",
      "metadata": {
        "id": "duH1tHzXR6r3",
        "colab": {
          "base_uri": "https://localhost:8080/",
          "height": 89
        },
        "outputId": "8d51c705-0935-4ee7-d02a-df5fd365fd4c"
      },
      "source": [
        "# Creamos una lista con la función list()\n",
        "lista = list(\"Python is awesome\")\n",
        "\n",
        "# Mostrar la lista\n",
        "print(\"lista = \", lista)\n",
        "# acceso a un miembro de la lista (get)\n",
        "print(\"lista[4] = \", lista[4])\n",
        "print(\"lista[-3] = \", lista[-3])"
      ],
      "execution_count": null,
      "outputs": [
        {
          "output_type": "stream",
          "text": [
            "lista =  ['P', 'y', 't', 'h', 'o', 'n', ' ', 'i', 's', ' ', 'a', 'w', 'e', 's', 'o', 'm', 'e']\n",
            "lista[4] =  o\n",
            "lista[-3] =  o\n"
          ],
          "name": "stdout"
        }
      ]
    },
    {
      "cell_type": "code",
      "metadata": {
        "id": "dhDPo4nXSOOd",
        "colab": {
          "base_uri": "https://localhost:8080/",
          "height": 35
        },
        "outputId": "841000e4-85de-463d-f1b9-dd65e177825d"
      },
      "source": [
        "# Suma de listas\n",
        "lista1 = [1,2,3]\n",
        "lista2 = ['a','b','c']\n",
        "lista = lista1 + lista2\n",
        "print (lista)"
      ],
      "execution_count": null,
      "outputs": [
        {
          "output_type": "stream",
          "text": [
            "[1, 2, 3, 'a', 'b', 'c']\n"
          ],
          "name": "stdout"
        }
      ]
    },
    {
      "cell_type": "code",
      "metadata": {
        "id": "tGYogkwHUxJF",
        "colab": {
          "base_uri": "https://localhost:8080/",
          "height": 35
        },
        "outputId": "ab12ba75-2cbd-4f94-8266-4d92d858c808"
      },
      "source": [
        "# Para averiguar la posición de un valor dentro de una lista usaremos la operación index().\n",
        "letras = [\"A\", \"B\", \"C\", \"D\", \"E\", \"F\", \"G\", \"H\"]\n",
        "letras.index('D')\n"
      ],
      "execution_count": null,
      "outputs": [
        {
          "output_type": "execute_result",
          "data": {
            "text/plain": [
              "3"
            ]
          },
          "metadata": {
            "tags": []
          },
          "execution_count": 5
        }
      ]
    },
    {
      "cell_type": "code",
      "metadata": {
        "id": "aj5D2v98mI2H",
        "colab": {
          "base_uri": "https://localhost:8080/",
          "height": 104
        },
        "outputId": "ec51cfa3-1e22-40ed-c348-49cf52c04117"
      },
      "source": [
        "# Para iterar sobre todos los elementos de una lista usaremos una construcción for:\n",
        "zs = [5, 3, 8, 10, 2]\n",
        "for x in zs:\n",
        " print (x)"
      ],
      "execution_count": null,
      "outputs": [
        {
          "output_type": "stream",
          "text": [
            "5\n",
            "3\n",
            "8\n",
            "10\n",
            "2\n"
          ],
          "name": "stdout"
        }
      ]
    },
    {
      "cell_type": "code",
      "metadata": {
        "id": "x4IK6uRtVGdw",
        "colab": {
          "base_uri": "https://localhost:8080/",
          "height": 35
        },
        "outputId": "a286b9b0-d70a-47b4-aa17-a4fa1df378a2"
      },
      "source": [
        "# Si queremos copiar una lista, de manera que conservemos su valor aunque modifiquemos la lista original debemos utilizar la notación de sublistas.\n",
        "lista1 = [\"A\", \"B\", \"C\"]\n",
        "lista2 = lista1[:] # Hacemos una copia de la lista lista1\n",
        "lista1, lista2\n"
      ],
      "execution_count": null,
      "outputs": [
        {
          "output_type": "execute_result",
          "data": {
            "text/plain": [
              "(['A', 'B', 'C'], ['A', 'B', 'C'])"
            ]
          },
          "metadata": {
            "tags": []
          },
          "execution_count": 23
        }
      ]
    },
    {
      "cell_type": "code",
      "metadata": {
        "id": "9dYqkikyVdAu",
        "colab": {
          "base_uri": "https://localhost:8080/",
          "height": 35
        },
        "outputId": "6bf75dd6-44b1-489f-934c-3fd2125c639d"
      },
      "source": [
        "# Recorrer una lista\n",
        "letras = [\"A\", \"B\", \"C\"]\n",
        "for i in letras:\n",
        "    print(i, end=\" \")"
      ],
      "execution_count": null,
      "outputs": [
        {
          "output_type": "stream",
          "text": [
            "A B C "
          ],
          "name": "stdout"
        }
      ]
    },
    {
      "cell_type": "code",
      "metadata": {
        "id": "EbuyHSQjVl8T",
        "colab": {
          "base_uri": "https://localhost:8080/",
          "height": 35
        },
        "outputId": "6bdc950f-704d-45af-970d-17d81e7fee05"
      },
      "source": [
        "# Recorrer una lista al revés\n",
        "letras = [\"A\", \"B\", \"C\"]\n",
        "for i in range(len(letras)-1, -1, -1):\n",
        "    print(letras[i], end=\" \")"
      ],
      "execution_count": null,
      "outputs": [
        {
          "output_type": "stream",
          "text": [
            "C B A "
          ],
          "name": "stdout"
        }
      ]
    },
    {
      "cell_type": "code",
      "metadata": {
        "id": "kQJkl-YOVqhY",
        "colab": {
          "base_uri": "https://localhost:8080/",
          "height": 87
        },
        "outputId": "aa88ec07-bb90-4c99-ed02-45f06e548978"
      },
      "source": [
        "# Recorrer y modificar una lista\n",
        "letras = [\"A\", \"B\", \"C\"]\n",
        "print(letras)\n",
        "for i in range(len(letras)):\n",
        "    letras[i] = \"X\"\n",
        "    print(letras)"
      ],
      "execution_count": null,
      "outputs": [
        {
          "output_type": "stream",
          "text": [
            "['A', 'B', 'C']\n",
            "['X', 'B', 'C']\n",
            "['X', 'X', 'C']\n",
            "['X', 'X', 'X']\n"
          ],
          "name": "stdout"
        }
      ]
    },
    {
      "cell_type": "code",
      "metadata": {
        "id": "8-rSt3xvV84l",
        "colab": {
          "base_uri": "https://localhost:8080/"
        },
        "outputId": "eeedc351-8b85-4e59-e24a-93795cce67a7"
      },
      "source": [
        "# Eliminar valores de una lista.\n",
        "# Para eliminar los elementos de una lista necesitamos recorrer la lista al revés. Si recorremos la lista de principio a fin, al eliminar un valor de la lista, la lista se acorta y cuando intentamos acceder a los últimos valores se produce un error de índice fuera de rango\n",
        "# La solución es recorrer la lista en orden inverso, de manera que aunque se eliminen elementos y la lista se acorte, los valores que todavía no se han recorrido siguen existiendo en la misma posición que al principio.\n",
        "letras = [\"A\", \"B\", \"C\"]\n",
        "print(letras)\n",
        "for i in range(len(letras)-1, -1, -1):\n",
        "    if letras[i] == \"B\":\n",
        "        del letras[i]\n",
        "    print(letras)"
      ],
      "execution_count": null,
      "outputs": [
        {
          "output_type": "stream",
          "text": [
            "['A', 'B', 'C']\n",
            "['A', 'B', 'C']\n",
            "['A', 'C']\n",
            "['A', 'C']\n"
          ],
          "name": "stdout"
        }
      ]
    },
    {
      "cell_type": "code",
      "metadata": {
        "colab": {
          "base_uri": "https://localhost:8080/"
        },
        "id": "cE_l0-6JhP8e",
        "outputId": "42f94cf1-c3ec-4455-b232-9e42a96d19f6"
      },
      "source": [
        "# Crea una lista e inicalizala con 5 cadenas de caracteres leídas por teclado. \n",
        "# Copia los elementos de la lista en otra lista pero en orden inverso, y muestra \n",
        "# sus elementos  por la pantalla.\n",
        "\n",
        "lista1 = []\n",
        "lista2 = []\n",
        "# Recorro la lista1 y leo cada elemento por teclado.\n",
        "for indice in range(1,6):\n",
        "\tlista1.append(input(\"Dame la cadena %d:\" % indice))\n",
        "\t\n",
        "# Copio la lista1 en la lista2 en orden inverso\n",
        "lista2 = lista1[::-1]\n",
        "\n",
        "# Recorro el vector2 para mostrarlo\n",
        "for cadena in lista2:\n",
        "\tprint(cadena)\n",
        "\n"
      ],
      "execution_count": null,
      "outputs": [
        {
          "output_type": "stream",
          "text": [
            "Dame la cadena 1:1\n",
            "Dame la cadena 2:2\n",
            "Dame la cadena 3:3\n",
            "Dame la cadena 4:4\n",
            "Dame la cadena 5:5\n",
            "5\n",
            "4\n",
            "3\n",
            "2\n",
            "1\n"
          ],
          "name": "stdout"
        }
      ]
    },
    {
      "cell_type": "markdown",
      "metadata": {
        "id": "rgGQxkj2nAxB"
      },
      "source": [
        "## Programas con Listas"
      ]
    },
    {
      "cell_type": "code",
      "metadata": {
        "colab": {
          "base_uri": "https://localhost:8080/"
        },
        "id": "iog-cQIojDZy",
        "outputId": "fb8510d3-15dc-44b8-c1bd-9df79eaf1a3d"
      },
      "source": [
        "# Programa que declare tres listas 'lista1', 'lista2' y 'lista3' de cinco \n",
        "# enteros cada uno, pida valores para 'lista1' y 'lista2' y \n",
        "# calcule lista3=lista1+lista2.\n",
        "\n",
        "lista1 = []\n",
        "lista2 = []\n",
        "lista3 = []\n",
        "for indice in range(1,6):\n",
        "\tlista1.append(int(input(\"Introduce el elemento %d del vector1:\" % indice)))\n",
        "for indice in range(1,6):\n",
        "\tlista2.append(int(input(\"Introduce el elemento %d del vector2:\" % indice)))\n",
        "\n",
        "for indice in range(0,5):\n",
        "\tlista3.append(lista1[indice] + lista2[indice])\n",
        "\n",
        "print(\"La suma de los vectores es:\")\n",
        "for numero in lista3:\n",
        "\tprint(numero,\" \",end=\"\")\n"
      ],
      "execution_count": null,
      "outputs": [
        {
          "output_type": "stream",
          "text": [
            "Introduce el elemento 1 del vector1:1\n",
            "Introduce el elemento 2 del vector1:2\n",
            "Introduce el elemento 3 del vector1:3\n",
            "Introduce el elemento 4 del vector1:4\n",
            "Introduce el elemento 5 del vector1:5\n",
            "Introduce el elemento 1 del vector2:6\n",
            "Introduce el elemento 2 del vector2:7\n",
            "Introduce el elemento 3 del vector2:8\n",
            "Introduce el elemento 4 del vector2:9\n",
            "Introduce el elemento 5 del vector2:10\n",
            "La suma de los vectores es:\n",
            "7  9  11  13  15  "
          ],
          "name": "stdout"
        }
      ]
    },
    {
      "cell_type": "code",
      "metadata": {
        "colab": {
          "base_uri": "https://localhost:8080/"
        },
        "id": "IqI3jhthi7vP",
        "outputId": "6c7aaaeb-cbe8-40b1-e09f-5868a982f689"
      },
      "source": [
        "# Crea un programa que pida un número al usuario un número de mes \n",
        "# (por ejemplo, el 4) y diga cuántos días tiene (por ejemplo, 30) \n",
        "# y el nombre del mes. Debes usar listas. Para simplificarlo vamos \n",
        "# a suponer que febrero tiene 28 días.\n",
        "\n",
        "dias = [31,28,31,30,31,30,31,31,30,31,30,31]\n",
        "nombre_mes = [\"Enero\",\"Febrero\",\"Marzo\",\"Abril\",\"Mayo\",\"Junio\",\"Julio\",\"Agosto\",\"Septiembre\",\"Octubre\",\"Noviembre\",\"Diciembre\"]\n",
        "while True:\n",
        "\tmes = int(input(\"Introduce un mes (1-12):\"))\n",
        "\tif mes < 1 or mes > 12:\n",
        "\t\tprint(\"Error: mes incorrecto.\")\n",
        "\tif mes>=1 and mes<=12: break\n",
        "print(\"El mes de\",nombre_mes[mes-1],\"tiene\",dias[mes-1],\"días.\")\n"
      ],
      "execution_count": null,
      "outputs": [
        {
          "output_type": "stream",
          "text": [
            "Introduce un mes (1-12):2\n",
            "El mes de Febrero tiene 28 días.\n"
          ],
          "name": "stdout"
        }
      ]
    },
    {
      "cell_type": "code",
      "metadata": {
        "colab": {
          "base_uri": "https://localhost:8080/"
        },
        "id": "6m0tAz8BiF72",
        "outputId": "c10cba58-b97d-4750-ce24-d2647b5d2358"
      },
      "source": [
        "# Hacer un programa que inicialice una lista de números con valores aleatorios \n",
        "# (10 valores), y posterior ordene los elementos de menor a mayor.\n",
        "\n",
        "import random\n",
        "lista = []\n",
        "for indice in range(1,11):\n",
        "\tlista.append(random.randint(1,10))\n",
        "# Ordeno la lista\n",
        "lista.sort()\n",
        "\n",
        "# Recorro el vector ordenado\n",
        "for numero in lista:\n",
        "\tprint(numero,\" \",end=\"\")\n"
      ],
      "execution_count": null,
      "outputs": [
        {
          "output_type": "stream",
          "text": [
            "2  2  3  5  7  8  8  9  9  10  "
          ],
          "name": "stdout"
        }
      ]
    },
    {
      "cell_type": "code",
      "metadata": {
        "colab": {
          "base_uri": "https://localhost:8080/"
        },
        "id": "YVm3gSa_hjsf",
        "outputId": "e96980eb-f575-4df1-9858-1b3f8d77358d"
      },
      "source": [
        "# Se quiere realizar un programa que lea por teclado las 5 notas obtenidas por un \n",
        "# alumno (comprendidas entre 0 y 10). A continuación debe mostrar todas las notas, \n",
        "# la nota media, la nota más alta que ha sacado y la menor.\n",
        "\n",
        "notas = []\n",
        "for indice in range(1,6):\n",
        "\twhile True:\n",
        "\t\tnota = int(input(\"Introduce la nota %d:\" % indice))\n",
        "\t\tif nota>=0 and nota<=10: break\n",
        "\tnotas.append(nota)\n",
        "\n",
        "# Muestro resultados\n",
        "\n",
        "print(\"Notas: \",end=\"\")\n",
        "for nota in notas:\n",
        "\tprint(nota,\" \",end=\"\")\n",
        "print()\n",
        "print(\"Nota media: \",sum(notas)/len(notas))\n",
        "print(\"Nota max: \",max(notas))\n",
        "print(\"Nota min: \",min(notas))\n"
      ],
      "execution_count": null,
      "outputs": [
        {
          "output_type": "stream",
          "text": [
            "Introduce la nota 1:7\n",
            "Introduce la nota 2:5\n",
            "Introduce la nota 3:2\n",
            "Introduce la nota 4:8\n",
            "Introduce la nota 5:10\n",
            "Notas: 7  5  2  8  10  \n",
            "Nota media:  6.4\n",
            "Nota max:  10\n",
            "Nota min:  2\n"
          ],
          "name": "stdout"
        }
      ]
    },
    {
      "cell_type": "code",
      "metadata": {
        "colab": {
          "base_uri": "https://localhost:8080/"
        },
        "id": "l9b2DX3ag49p",
        "outputId": "384c0d24-d70d-41d1-8ffd-53cbe4ca4681"
      },
      "source": [
        "# Diseñar el algoritmo correspondiente a un  programa, que:\n",
        "# \n",
        "# * Crea una tabla (lista con dos dimensiones) de 5x5 enteros.\n",
        "# * Carga la tabla con valores numéricos enteros.\n",
        "# * Suma todos los elementos de cada fila y todos los elementos de cada columna visualizando los resultados en pantalla.\n",
        "\n",
        "\n",
        "tabla = []\n",
        "for indice_fila in range(1,6):\n",
        "\tfila = []\n",
        "\tfor indice_col in range(1,6):\n",
        "\t\tfila.append(int(input(\"Introduce el número de la fila %d y columna %d:\" % (indice_fila,indice_col))))\n",
        "\ttabla.append(fila)\n",
        "\n",
        "# Suma las filas\n",
        "indice_fila = 1\n",
        "for fila in tabla:\n",
        "\tprint(\"La suma de los elemento de la fila %d es %d\" % (indice_fila,sum(fila)))\n",
        "\tindice_fila += 1\n",
        "\n",
        "# Suma las columnas\n",
        "for indice_col in range(1,6):\n",
        "\tsuma = 0\n",
        "\tfor fila in tabla:\n",
        "\t\tsuma = suma + fila[indice_col - 1]\n",
        "\tprint(\"La suma de los elemento de la columna %d es %d\" % (indice_col,suma))\n",
        "12"
      ],
      "execution_count": null,
      "outputs": [
        {
          "output_type": "stream",
          "text": [
            "Introduce el número de la fila 1 y columna 1:1\n",
            "Introduce el número de la fila 1 y columna 2:2\n",
            "Introduce el número de la fila 1 y columna 3:3\n",
            "Introduce el número de la fila 1 y columna 4:4\n",
            "Introduce el número de la fila 1 y columna 5:5\n",
            "Introduce el número de la fila 2 y columna 1:6\n",
            "Introduce el número de la fila 2 y columna 2:7\n",
            "Introduce el número de la fila 2 y columna 3:8\n",
            "Introduce el número de la fila 2 y columna 4:9\n",
            "Introduce el número de la fila 2 y columna 5:10\n",
            "Introduce el número de la fila 3 y columna 1:11\n",
            "Introduce el número de la fila 3 y columna 2:12\n",
            "Introduce el número de la fila 3 y columna 3:13\n",
            "Introduce el número de la fila 3 y columna 4:14\n",
            "Introduce el número de la fila 3 y columna 5:15\n",
            "Introduce el número de la fila 4 y columna 1:16\n",
            "Introduce el número de la fila 4 y columna 2:17\n",
            "Introduce el número de la fila 4 y columna 3:18\n",
            "Introduce el número de la fila 4 y columna 4:9\n",
            "Introduce el número de la fila 4 y columna 5:20\n",
            "Introduce el número de la fila 5 y columna 1:21\n",
            "Introduce el número de la fila 5 y columna 2:22\n",
            "Introduce el número de la fila 5 y columna 3:23\n",
            "Introduce el número de la fila 5 y columna 4:24\n",
            "Introduce el número de la fila 5 y columna 5:25\n",
            "La suma de los elemento de la fila 1 es 15\n",
            "La suma de los elemento de la fila 2 es 40\n",
            "La suma de los elemento de la fila 3 es 65\n",
            "La suma de los elemento de la fila 4 es 80\n",
            "La suma de los elemento de la fila 5 es 115\n",
            "La suma de los elemento de la columna 1 es 55\n",
            "La suma de los elemento de la columna 2 es 60\n",
            "La suma de los elemento de la columna 3 es 65\n",
            "La suma de los elemento de la columna 4 es 60\n",
            "La suma de los elemento de la columna 5 es 75\n"
          ],
          "name": "stdout"
        }
      ]
    },
    {
      "cell_type": "code",
      "metadata": {
        "id": "BOViF11Xod5j",
        "colab": {
          "base_uri": "https://localhost:8080/",
          "height": 104
        },
        "outputId": "bab91227-ed7a-4d98-f619-4856fd06ee99"
      },
      "source": [
        "# Escriba un programa que permita crear una lista de palabras. Para ello, el programa tiene que pedir un número y luego solicitar ese número de palabras para crear la lista. Por último, el programa tiene que escribir la lista. \n",
        "#Programa que genera una lista introducida\n",
        "numero = int(input(\"Dígame cuántas palabras tiene la lista: \"))\n",
        "\n",
        "if numero < 1:\n",
        "    print(\"¡Imposible!\")\n",
        "else:\n",
        "    lista = []\n",
        "    for i in range(numero):\n",
        "        print(\"Dígame la palabra\", str(i + 1) + \": \", end=\"\")\n",
        "        palabra = input()\n",
        "        lista += [palabra]\n",
        "    print(\"La lista creada es:\", lista)"
      ],
      "execution_count": null,
      "outputs": [
        {
          "output_type": "stream",
          "text": [
            "Dígame cuántas palabras tiene la lista: 3\n",
            "Dígame la palabra 1: Alfonso\n",
            "Dígame la palabra 2: Alberto\n",
            "Dígame la palabra 3: Alfredo\n",
            "La lista creada es: ['Alfonso', 'Alberto', 'Alfredo']\n"
          ],
          "name": "stdout"
        }
      ]
    },
    {
      "cell_type": "code",
      "metadata": {
        "colab": {
          "base_uri": "https://localhost:8080/"
        },
        "id": "-AlFApmvjgQk",
        "outputId": "a1d5be58-dba4-45cd-c0d4-7d6420708dbc"
      },
      "source": [
        "# Queremos guardar los nombres y la edades de los alumnos de un curso. \n",
        "# Realiza un programa que introduzca el nombre y la edad de cada alumno. \n",
        "# El proceso de lectura de datos terminará cuando se introduzca como nombre \n",
        "# un asterisco (*) Al finalizar se mostrar� los siguientes datos:\n",
        "#  * Todos lo alumnos mayores de edad.\n",
        "#  * Los alumnos mayores (los que tienen más edad)\n",
        "\n",
        "nombres = []\n",
        "edades = []\n",
        "# Inicializo las listas hasta que introduzca un \"*\" \n",
        "while True:\t\n",
        "\tnombre = input(\"Dime el nombre de un alumno:\")\n",
        "\tif nombre != \"*\":\n",
        "\t\tnombres.append(nombre)\n",
        "\t\tedades.append(int(input(\"Dime su edad:\")))\n",
        "\tif nombre == \"*\": break;\t\n",
        "\n",
        "# Calcular la edad máxima\n",
        "edad_max = max(edades)\n",
        "# Alumnos mayores de edad\n",
        "print(\"Alumnos mayores de edad\")\n",
        "print(\"=======================\")\n",
        "for nombre,edad in zip(nombres,edades):\n",
        "\tif edad >= 18:\n",
        "\t\tprint(nombre)\n",
        "\t\n",
        "# Alumnos mayores \n",
        "\n",
        "print(\"Alumnos mayores\")\n",
        "print(\"===============\")\n",
        "for nombre,edad in zip(nombres,edades):\n",
        "\tif edad == edad_max:\n",
        "\t\tprint(nombre)\n"
      ],
      "execution_count": null,
      "outputs": [
        {
          "output_type": "stream",
          "text": [
            "Dime el nombre de un alumno:Juan\n",
            "Dime su edad:23\n",
            "Dime el nombre de un alumno:Pepe\n",
            "Dime su edad:20\n",
            "Dime el nombre de un alumno:Maria\n",
            "Dime su edad:25\n",
            "Dime el nombre de un alumno:*\n",
            "Alumnos mayores de edad\n",
            "=======================\n",
            "Juan\n",
            "Pepe\n",
            "Maria\n",
            "Alumnos mayores\n",
            "===============\n",
            "Maria\n"
          ],
          "name": "stdout"
        }
      ]
    },
    {
      "cell_type": "code",
      "metadata": {
        "id": "EP03T40Po-oW",
        "colab": {
          "base_uri": "https://localhost:8080/",
          "height": 156
        },
        "outputId": "a6f941e0-d10e-404d-9071-cf652cf1d670"
      },
      "source": [
        "# Escriba un programa que permita crear una lista de palabras y que, a continuación, pida una palabra y diga cuántas veces aparece esa palabra en la lista.\n",
        "numero = int(input(\"Dígame cuántas palabras tiene la lista: \"))\n",
        "\n",
        "if numero < 1:\n",
        "    print(\"¡Imposible!\")\n",
        "else:\n",
        "    lista = []\n",
        "    for i in range(numero):\n",
        "        print(\"Dígame la palabra\", str(i + 1) + \": \", end=\"\")\n",
        "        palabra = input()\n",
        "        lista += [palabra]\n",
        "    print(\"La lista creada es:\", lista)\n",
        "\n",
        "    buscar = input(\"Dígame la palabra a buscar: \")\n",
        "    contador = 0\n",
        "    for i in lista:\n",
        "        if i == buscar:\n",
        "            contador += 1;\n",
        "    if contador == 0:\n",
        "        print(\"La palabra '\" + buscar + \"' no aparece en la lista.\")\n",
        "    elif contador == 1:\n",
        "        print(\"La palabra '\" + buscar + \"' aparece una vez en la lista.\")\n",
        "    else:\n",
        "        print(\"La palabra '\" + buscar + \"' aparece\", contador, \"veces en la lista.\")"
      ],
      "execution_count": null,
      "outputs": [
        {
          "output_type": "stream",
          "text": [
            "Dígame cuántas palabras tiene la lista: 4\n",
            "Dígame la palabra 1: Alfonso\n",
            "Dígame la palabra 2: Alberto\n",
            "Dígame la palabra 3: Alfonso\n",
            "Dígame la palabra 4: Carmen\n",
            "La lista creada es: ['Alfonso', 'Alberto', 'Alfonso', 'Carmen']\n",
            "Dígame la palabra a buscar: Alfonso\n",
            "La palabra 'Alfonso' aparece 2 veces en la lista.\n"
          ],
          "name": "stdout"
        }
      ]
    },
    {
      "cell_type": "code",
      "metadata": {
        "id": "JFexViSSpTv3",
        "colab": {
          "base_uri": "https://localhost:8080/",
          "height": 139
        },
        "outputId": "4012d1c6-1c9e-429b-87c9-5e413d28f87b"
      },
      "source": [
        "#Escriba un programa que permita crear una lista de palabras y que, a continuación, pida dos palabras y sustituya la primera por la segunda en la lista.\n",
        "numero = int(input(\"Dígame cuántas palabras tiene la lista: \"))\n",
        "\n",
        "if numero < 1:\n",
        "    print(\"¡Imposible!\")\n",
        "else:\n",
        "    lista = []\n",
        "    for i in range(numero):\n",
        "        print(\"Dígame la palabra\", str(i + 1) + \": \", end=\"\")\n",
        "        palabra = input()\n",
        "        lista += [palabra]\n",
        "    print(\"La lista creada es:\", lista)\n",
        "\n",
        "    eliminar = input(\"Palabra a eliminar: \")\n",
        "    for i in range(len(lista)-1, -1, -1):\n",
        "        if lista[i] == eliminar:\n",
        "            del(lista[i])\n",
        "    print(\"La lista es ahora:\", lista)"
      ],
      "execution_count": null,
      "outputs": [
        {
          "output_type": "stream",
          "text": [
            "Dígame cuántas palabras tiene la lista: 3\n",
            "Dígame la palabra 1: Juan\n",
            "Dígame la palabra 2: Alfonso\n",
            "Dígame la palabra 3: Juan\n",
            "La lista creada es: ['Juan', 'Alfonso', 'Juan']\n",
            "Palabra a eliminar: Juan\n",
            "La lista es ahora: ['Alfonso']\n"
          ],
          "name": "stdout"
        }
      ]
    },
    {
      "cell_type": "code",
      "metadata": {
        "id": "zf5rfsEzpXOY",
        "colab": {
          "base_uri": "https://localhost:8080/",
          "height": 225
        },
        "outputId": "f16fe369-e351-44a7-f832-3bb6ef75dbec"
      },
      "source": [
        "# Escriba un programa que permita crear una lista de palabras y que, a continuación, pida una palabra y elimine esa palabra de la lista.\n",
        "numero = int(input(\"Dígame cuántas palabras tiene la lista: \"))\n",
        "\n",
        "if numero < 1:\n",
        "    print(\"¡Imposible!\")\n",
        "else:\n",
        "    lista = []\n",
        "    for i in range(numero):\n",
        "        print(\"Dígame la palabra\", str(i + 1) + \": \", end=\"\")\n",
        "        palabra = input()\n",
        "        lista += [palabra]\n",
        "    print(\"La lista creada es:\", lista)\n",
        "\n",
        "    numero2 = int(input(\"Dígame cuántas palabras tiene la lista de palabras a eliminar: \"))\n",
        "\n",
        "    if numero2 < 1:\n",
        "        print(\"¡Imposible!\")\n",
        "    else:\n",
        "        eliminar = []\n",
        "        for i in range(numero2):\n",
        "            print(\"Dígame la palabra\", str(i + 1) + \": \", end=\"\")\n",
        "            palabra = input()\n",
        "            eliminar += [palabra]\n",
        "        print(\"La lista de palabras a eliminar es:\", eliminar)\n",
        "\n",
        "        for i in eliminar:\n",
        "            for j in range(len(lista)-1, -1, -1):\n",
        "                if lista[j] == i:\n",
        "                    del(lista[j])\n",
        "        print(\"La lista es ahora:\", lista)"
      ],
      "execution_count": null,
      "outputs": [
        {
          "output_type": "stream",
          "text": [
            "Dígame cuántas palabras tiene la lista: 3\n",
            "Dígame la palabra 1: Alberto\n",
            "Dígame la palabra 2: Juan\n",
            "Dígame la palabra 3: Pepe\n",
            "La lista creada es: ['Alberto', 'Juan', 'Pepe']\n",
            "Dígame cuántas palabras tiene la lista de palabras a eliminar: 4\n",
            "Dígame la palabra 1: Juan\n",
            "Dígame la palabra 2: Pepe\n",
            "Dígame la palabra 3: Alberto\n",
            "Dígame la palabra 4: Ruz\n",
            "La lista de palabras a eliminar es: ['Juan', 'Pepe', 'Alberto', 'Ruz']\n",
            "La lista es ahora: []\n"
          ],
          "name": "stdout"
        }
      ]
    },
    {
      "cell_type": "code",
      "metadata": {
        "id": "86zoMVhDpZ4a",
        "colab": {
          "base_uri": "https://localhost:8080/",
          "height": 121
        },
        "outputId": "7c17796f-9128-48d0-c872-275652ae1bf1"
      },
      "source": [
        "# Escriba un programa que permita crear dos listas de palabras y que, a continuación, elimine de la primera lista los nombres de la segunda lista.\n",
        "numero = int(input(\"Dígame cuántas palabras tiene la lista: \"))\n",
        "\n",
        "if numero < 1:\n",
        "    print(\"¡Imposible!\")\n",
        "else:\n",
        "    lista = []\n",
        "    for i in range(numero):\n",
        "        print(\"Dígame la palabra\", str(i + 1) + \": \", end=\"\")\n",
        "        palabra = input()\n",
        "        lista += [palabra]\n",
        "    print(\"La lista creada es:\", lista)\n",
        "\n",
        "    inversa = []\n",
        "    for i in lista:\n",
        "        inversa = [i] + inversa\n",
        "    print(\"La lista inversa es:\", inversa)"
      ],
      "execution_count": null,
      "outputs": [
        {
          "output_type": "stream",
          "text": [
            "Dígame cuántas palabras tiene la lista: 3\n",
            "Dígame la palabra 1: Alfonso\n",
            "Dígame la palabra 2: Maria\n",
            "Dígame la palabra 3: Juan\n",
            "La lista creada es: ['Alfonso', 'Maria', 'Juan']\n",
            "La lista inversa es: ['Juan', 'Maria', 'Alfonso']\n"
          ],
          "name": "stdout"
        }
      ]
    },
    {
      "cell_type": "code",
      "metadata": {
        "id": "cPrUACLiqSZw",
        "colab": {
          "base_uri": "https://localhost:8080/",
          "height": 121
        },
        "outputId": "cda2fb52-e86c-49af-aa5d-098372eafb44"
      },
      "source": [
        "# Escriba un programa que permita crear una lista de palabras y que, a continuación, elimine los elementos repetidos (dejando únicamente el primero de los elementos repetidos).\n",
        "numero = int(input(\"Dígame cuántas palabras tiene la lista: \"))\n",
        "\n",
        "if numero < 1:\n",
        "    print(\"¡Imposible!\")\n",
        "else:\n",
        "    lista = []\n",
        "    for i in range(numero):\n",
        "        print(\"Dígame la palabra\", str(i + 1) + \": \", end=\"\")\n",
        "        palabra = input()\n",
        "        lista += [palabra]\n",
        "    print(\"La lista creada es:\", lista)\n",
        "\n",
        "    for i in range(len(lista)-1, -1, -1):\n",
        "        if lista[i] in lista[:i]:\n",
        "            del(lista[i])\n",
        "    print(\"La lista sin repeticiones es:\", lista)"
      ],
      "execution_count": null,
      "outputs": [
        {
          "output_type": "stream",
          "text": [
            "Dígame cuántas palabras tiene la lista: 3\n",
            "Dígame la palabra 1: Alfonso\n",
            "Dígame la palabra 2: Alfonso\n",
            "Dígame la palabra 3: Maria\n",
            "La lista creada es: ['Alfonso', 'Alfonso', 'Maria']\n",
            "La lista sin repeticiones es: ['Alfonso', 'Maria']\n"
          ],
          "name": "stdout"
        }
      ]
    },
    {
      "cell_type": "code",
      "metadata": {
        "id": "3lZWVoWlnDPx",
        "colab": {
          "base_uri": "https://localhost:8080/",
          "height": 87
        },
        "outputId": "3c09dd60-0616-4522-eb52-1a5f06946a1e"
      },
      "source": [
        "# Programa de cartas\n",
        "from random import choice, sample, shuffle\n",
        "\n",
        "cartas = [chr(x) for x in range(0x1f0a1, 0x1f0af)]\n",
        "\n",
        "print(\"He aquí las cartas presentadas: \", \" \".join(cartas))\n",
        "\n",
        "print(\"Selecciona una al azar:\", \" \".join(choice(cartas)))\n",
        "print(\"Selecciona cinco al azar:\", \" \".join(sample(cartas, 5)))\n",
        "shuffle(cartas)\n",
        "print(\"Las mezcla:\", \" \".join(cartas))\n",
        "\n"
      ],
      "execution_count": null,
      "outputs": [
        {
          "output_type": "stream",
          "text": [
            "He aquí las cartas presentadas:  🂡 🂢 🂣 🂤 🂥 🂦 🂧 🂨 🂩 🂪 🂫 🂬 🂭 🂮\n",
            "Selecciona una al azar: 🂡\n",
            "Selecciona cinco al azar: 🂮 🂥 🂨 🂦 🂫\n",
            "Las mezcla: 🂥 🂬 🂤 🂦 🂭 🂣 🂫 🂪 🂩 🂢 🂡 🂮 🂧 🂨\n"
          ],
          "name": "stdout"
        }
      ]
    },
    {
      "cell_type": "code",
      "metadata": {
        "id": "UaOQBnV5vgo5",
        "colab": {
          "base_uri": "https://localhost:8080/",
          "height": 312
        },
        "outputId": "8abc8f7a-ee54-4c92-bf5b-faf210061fba"
      },
      "source": [
        "# Durante la planificación de un proyecto se han acordado una lista de tareas. Para cada una de estas tareas se ha asignado un orden de prioridad (cuanto menor es el número de orden, más prioridad).\n",
        "#¿Eres capaz de crear una estructura del tipo cola con todas las tareas ordenadas pero sin los números de orden?\n",
        "tareas = [ \n",
        "    [6, 'Distribución'],\n",
        "    [2, 'Diseño'],\n",
        "    [1, 'Concepción'],\n",
        "    [7, 'Mantenimiento'],\n",
        "    [4, 'Producción'],\n",
        "    [3, 'Planificación'],\n",
        "    [5, 'Pruebas']\n",
        "]\n",
        "\n",
        "print(\"==Tareas desordenadas==\")\n",
        "for tarea in tareas:\n",
        "    print(tarea[0], tarea[1])\n",
        "\n",
        "# Completa el ejercicio aquí\n",
        "from collections import deque\n",
        "\n",
        "tareas.sort()\n",
        "\n",
        "cola = deque()\n",
        "for tarea in tareas:\n",
        "    cola.append(tarea[1])\n",
        "\n",
        "print(\"\\n==Tareas ordenadas==\")\n",
        "for tarea in cola:\n",
        "    print(tarea)"
      ],
      "execution_count": null,
      "outputs": [
        {
          "output_type": "stream",
          "text": [
            "==Tareas desordenadas==\n",
            "6 Distribución\n",
            "2 Diseño\n",
            "1 Concepción\n",
            "7 Mantenimiento\n",
            "4 Producción\n",
            "3 Planificación\n",
            "5 Pruebas\n",
            "\n",
            "==Tareas ordenadas==\n",
            "Concepción\n",
            "Diseño\n",
            "Planificación\n",
            "Producción\n",
            "Pruebas\n",
            "Distribución\n",
            "Mantenimiento\n"
          ],
          "name": "stdout"
        }
      ]
    },
    {
      "cell_type": "code",
      "metadata": {
        "colab": {
          "base_uri": "https://localhost:8080/"
        },
        "id": "Af8mEJEhj24i",
        "outputId": "02f0b90d-d33b-4080-e51a-af100c950066"
      },
      "source": [
        "# Queremos guardar la temperatura mínima y máxima de 5 días. \n",
        "# Realiza un programa que de la siguiente información:\n",
        "\n",
        "# * La temperatura media de cada día\n",
        "# * Los días con menos temperatura\n",
        "# * Se lee una temperatura por teclado y se muestran los días cuya temperatura máxima coincide con ella. \n",
        "# Si no existe ningún día se muestra un mensaje de información.\n",
        "\n",
        "# Recorrido para rellenar la tabla (5 días con temp máxima y mínima)\n",
        "temperaturas = []\n",
        "for indice in range(1,6):\n",
        "\ttemperatura = []\n",
        "\ttemperatura.append(int(input(\"Día %d. Temperatura máxima:\" % indice)))\n",
        "\ttemperatura.append(int(input(\"Día %d. Temperatura mínima:\" % indice)))\n",
        "\ttemperaturas.append(temperatura)\n",
        "\n",
        "# Mostrar temperatura media\n",
        "print(\"Temperaturas medias\")\n",
        "print(\"===================\")\n",
        "\n",
        "indice = 1\n",
        "for temperatura in temperaturas:\n",
        "\tprint(\"Día %d. Temperatura media: %f:\" % (indice,sum(temperatura)/len(temperatura)))\n",
        "\tindice += 1\n",
        "\n",
        "# Calcular temperatura mínima más pequeña\n",
        "# Supongo que es la primera\n",
        "temp_min = temperaturas[0][1];\n",
        "for temperatura in temperaturas:\n",
        "\tif temperatura[1] < temp_min:\n",
        "\t\ttemp_min = temperatura[1]\n",
        "\n",
        "# Mostrar los días con menos temperatura\n",
        "print(\"Días con menos temperatura\")\n",
        "print(\"==========================\")\n",
        "indice = 1\n",
        "for temperatura in temperaturas:\n",
        "\tif temperatura[1] == temp_min:\n",
        "\t\tprint(\"Día %d\" % indice)\n",
        "\tindice +=1\n",
        "\t\n",
        "# Días con temperatura máxima\n",
        "existe_temperatura = False\n",
        "print(\"Días con temperatura máxima\")\n",
        "print(\"===========================\")\n",
        "temp_max = int(input(\"Introduce una temperatura:\"))\n",
        "indice = 1\n",
        "for temperatura in temperaturas:\n",
        "\tif temperatura[0] == temp_max:\n",
        "\t\tprint(\"Día %d\" % indice)\n",
        "\t\texiste_temperatura = True\n",
        "\tindice +=1\n",
        "if not existe_temperatura:\n",
        "\tprint(\"No hay ningún día con dicha temperatura.\")\n"
      ],
      "execution_count": null,
      "outputs": [
        {
          "output_type": "stream",
          "text": [
            "Día 1. Temperatura máxima:32\n",
            "Día 1. Temperatura mínima:28\n",
            "Día 2. Temperatura máxima:30\n",
            "Día 2. Temperatura mínima:25\n",
            "Día 3. Temperatura máxima:38\n",
            "Día 3. Temperatura mínima:32\n",
            "Día 4. Temperatura máxima:37\n",
            "Día 4. Temperatura mínima:30\n",
            "Día 5. Temperatura máxima:30\n",
            "Día 5. Temperatura mínima:28\n",
            "Temperaturas medias\n",
            "===================\n",
            "Día 1. Temperatura media: 30.000000:\n",
            "Día 2. Temperatura media: 27.500000:\n",
            "Día 3. Temperatura media: 35.000000:\n",
            "Día 4. Temperatura media: 33.500000:\n",
            "Día 5. Temperatura media: 29.000000:\n",
            "Días con menos temperatura\n",
            "==========================\n",
            "Día 2\n",
            "Días con temperatura máxima\n",
            "===========================\n",
            "Introduce una temperatura:30\n",
            "Día 2\n",
            "Día 5\n"
          ],
          "name": "stdout"
        }
      ]
    },
    {
      "cell_type": "code",
      "metadata": {
        "colab": {
          "base_uri": "https://localhost:8080/"
        },
        "id": "N6h8YjlxkeM1",
        "outputId": "b99f84d0-d596-4a72-b886-548895f3375b"
      },
      "source": [
        "# Vamos a crear un programa que tenga el siguiente menú:\n",
        "# \n",
        "# 1. Añadir número a la lista: Me pide un número de la lista y lo añade al final de la lista.\n",
        "# 2. Añadir número de la lista en una posición: Me pide un número \n",
        "# y una posición, y si la posición existe en la lista lo añade a ella (la posición se pide a partir de 1).\n",
        "# 3. Longitud de la lista: te muestra el número de elementos de la lista.\n",
        "# 4. Eliminar el último número: Muestra el último número de la lista y lo borra.\n",
        "# 5. Eliminar un número: Pide una posición, y si la posición existe en la lista \n",
        "# lo borra de ella (la posición se pide a partir de 1).\n",
        "# 6. Contar números: Te pide un número y te dice cuantas apariciones hay en la lista.\n",
        "# 7. Posiciones de un número: Te pide un número y te dice en que posiciones está \n",
        "# (contando desde 1).\n",
        "# 8. Mostrar números: Muestra los números de la lista\n",
        "# 9. Salir\n",
        "\n",
        "lista = []\n",
        "while True:\n",
        "    print(\"\\n\")\n",
        "    print(\"1. Añadir número a la lista\")\n",
        "    print(\"2. Añadir número de la lista en una posición\")\n",
        "    print(\"3. Longitud de la lista\")\n",
        "    print(\"4. Eliminar el último número\")\n",
        "    print(\"5. Eliminar un número\")\n",
        "    print(\"6. Contar números\")\n",
        "    print(\"7. Posiciones de un número\")\n",
        "    print(\"8. Mostrar números\")\n",
        "    print(\"9. Salir\")\n",
        "    opcion = int(input(\"Dime opción:\"))\n",
        "    if opcion == 1:\n",
        "        num = int(input(\"Dime un número:\"))\n",
        "        lista.append(num)\n",
        "    elif opcion == 2:\n",
        "        num = int(input(\"Dime un número:\"))\n",
        "        pos = int(input(\"Dime una posición (empezando por 1):\"))\n",
        "        if pos > len(lista):\n",
        "            print(\"Posición incorrecta\")\n",
        "        else:\n",
        "            lista.insert(pos - 1,num)\n",
        "    elif opcion == 3:\n",
        "        print(\"Longitud de la lista: %d\" % len(lista))\n",
        "    elif opcion == 4:\n",
        "        if len(lista)>0:\n",
        "            print(\"El último elemento es %d y lo borramos.\" % lista.pop())\n",
        "        else:\n",
        "            print(\"La lista está vacía\")\n",
        "    elif opcion == 5:\n",
        "        pos = int(input(\"Dime una posición (empezando por 1):\"))\n",
        "        if pos > len(lista):\n",
        "            print(\"Posición incorrecta\")\n",
        "        else:\n",
        "            print(\"El elemento es %d y lo borramos.\" % lista.pop(pos - 1))\n",
        "    elif opcion == 6:\n",
        "        num = int(input(\"Dime un número:\"))\n",
        "        print(\"El número %d aparece %d veces en la lista.\" % (num,lista.count(lista)))\n",
        "    elif opcion == 7:\n",
        "        num = int(input(\"Dime un número:\"))\n",
        "        indice_buscar = 0\n",
        "        print(\"Posiciones: \",end=\"\")\n",
        "        for indice in range(0,lista.count(num)):\n",
        "            indice_buscar = lista.index(num,indice_buscar)\n",
        "            indice_buscar +=1\n",
        "            print(indice_buscar,\" \",end=\"\")\n",
        "        print()\n",
        "    elif opcion == 8:\n",
        "        for num in lista:\n",
        "            print(num,\" \",end=\"\")\n",
        "        print()\n",
        "    elif opcion == 9:\n",
        "        break\n",
        "    else:\n",
        "        print(\"Opción incorrecta\")\n"
      ],
      "execution_count": null,
      "outputs": [
        {
          "output_type": "stream",
          "text": [
            "\n",
            "\n",
            "1. Añadir número a la lista\n",
            "2. Añadir número de la lista en una posición\n",
            "3. Longitud de la lista\n",
            "4. Eliminar el último número\n",
            "5. Eliminar un número\n",
            "6. Contar números\n",
            "7. Posiciones de un número\n",
            "8. Mostrar números\n",
            "9. Salir\n",
            "Dime opción:1\n",
            "Dime un número:10\n",
            "\n",
            "\n",
            "1. Añadir número a la lista\n",
            "2. Añadir número de la lista en una posición\n",
            "3. Longitud de la lista\n",
            "4. Eliminar el último número\n",
            "5. Eliminar un número\n",
            "6. Contar números\n",
            "7. Posiciones de un número\n",
            "8. Mostrar números\n",
            "9. Salir\n",
            "Dime opción:8\n",
            "10  \n",
            "\n",
            "\n",
            "1. Añadir número a la lista\n",
            "2. Añadir número de la lista en una posición\n",
            "3. Longitud de la lista\n",
            "4. Eliminar el último número\n",
            "5. Eliminar un número\n",
            "6. Contar números\n",
            "7. Posiciones de un número\n",
            "8. Mostrar números\n",
            "9. Salir\n",
            "Dime opción:1\n",
            "Dime un número:20\n",
            "\n",
            "\n",
            "1. Añadir número a la lista\n",
            "2. Añadir número de la lista en una posición\n",
            "3. Longitud de la lista\n",
            "4. Eliminar el último número\n",
            "5. Eliminar un número\n",
            "6. Contar números\n",
            "7. Posiciones de un número\n",
            "8. Mostrar números\n",
            "9. Salir\n",
            "Dime opción:9\n"
          ],
          "name": "stdout"
        }
      ]
    },
    {
      "cell_type": "markdown",
      "metadata": {
        "id": "HSm0GTartCab"
      },
      "source": [
        "# **4.Tuplas**\n"
      ]
    },
    {
      "cell_type": "markdown",
      "metadata": {
        "id": "D5cJYeJotElw"
      },
      "source": [
        "## Teoria\n",
        "\n",
        "* Son unas colecciones muy parecidas a las listas con la peculiaridad de que son inmutables.\n",
        "* Al igual que con las cadenas, las componentes de las tuplas no pueden ser modificadas.\n",
        "* A las tuplas también se les puede aplicar la función len() para calcular su longitud. El valor de esta función aplicada a una tupla nos indica cuántas componentes tiene esa tupla.\n",
        "* Una tupla vacía es una tupla con 0 componentes, y se la indica como ().\n",
        "* Las tuplas se utilizan para modelar situaciones en las cuales al momento de crearlas ya se sabe cuál va a ser la información a almacenar. Por ejemplo, para representar una fecha, una carta de la baraja, una ficha de dominó.\n",
        "* Al ser inmutables, las tuplas no disponen de métodos para modificar su contenido como append().\n",
        "\n",
        "![texto del enlace](https://elpythonista.com/wp-content/uploads/2020/11/Tuplas_En_Python.jpg)"
      ]
    },
    {
      "cell_type": "markdown",
      "metadata": {
        "id": "O-7sbSkWuP-c"
      },
      "source": [
        "## Ejercicios con Tuplas"
      ]
    },
    {
      "cell_type": "code",
      "metadata": {
        "id": "hzHbJTnDuT9a",
        "colab": {
          "base_uri": "https://localhost:8080/",
          "height": 35
        },
        "outputId": "6fe3129e-a1f2-47bf-c4b4-880647dd219f"
      },
      "source": [
        "# Ejemplo de Tupla.\n",
        "tupla = (100,\"Hola\",[1,2,3],-50)\n",
        "tupla"
      ],
      "execution_count": null,
      "outputs": [
        {
          "output_type": "execute_result",
          "data": {
            "text/plain": [
              "(100, 'Hola', [1, 2, 3], -50)"
            ]
          },
          "metadata": {
            "tags": []
          },
          "execution_count": 27
        }
      ]
    },
    {
      "cell_type": "code",
      "metadata": {
        "id": "9UF3VWDSugDx",
        "colab": {
          "base_uri": "https://localhost:8080/",
          "height": 104
        },
        "outputId": "cb1f20ec-9c0b-430a-ce30-05e24b61c6fb"
      },
      "source": [
        "# Ejemplo de indexacion y slicing\n",
        "print(tupla)\n",
        "print(tupla[0])\n",
        "print(tupla[-1])\n",
        "print(tupla[2:])\n",
        "print(tupla[2][-1])"
      ],
      "execution_count": null,
      "outputs": [
        {
          "output_type": "stream",
          "text": [
            "(100, 'Hola', [1, 2, 3], -50)\n",
            "100\n",
            "-50\n",
            "([1, 2, 3], -50)\n",
            "3\n"
          ],
          "name": "stdout"
        }
      ]
    },
    {
      "cell_type": "code",
      "metadata": {
        "id": "zbKNfPYluoV5",
        "colab": {
          "base_uri": "https://localhost:8080/",
          "height": 35
        },
        "outputId": "5a01b9e7-27fc-47f0-f1cb-fc2698834a11"
      },
      "source": [
        "# Igual que si fuera una lista podemos utilizarla la funcion len() para saber la longitud de una tupla:\n",
        "len(tupla)"
      ],
      "execution_count": null,
      "outputs": [
        {
          "output_type": "execute_result",
          "data": {
            "text/plain": [
              "4"
            ]
          },
          "metadata": {
            "tags": []
          },
          "execution_count": 29
        }
      ]
    },
    {
      "cell_type": "code",
      "metadata": {
        "id": "klvwFCNnuwtB",
        "colab": {
          "base_uri": "https://localhost:8080/",
          "height": 35
        },
        "outputId": "d83360e0-909c-4c73-d740-216128228059"
      },
      "source": [
        "# index() Sirve para buscar un elemento y saber su posición en la tupla:\n",
        "tupla.index('Hola')"
      ],
      "execution_count": null,
      "outputs": [
        {
          "output_type": "execute_result",
          "data": {
            "text/plain": [
              "1"
            ]
          },
          "metadata": {
            "tags": []
          },
          "execution_count": 30
        }
      ]
    },
    {
      "cell_type": "code",
      "metadata": {
        "id": "KGtrHeG4u5hS",
        "colab": {
          "base_uri": "https://localhost:8080/",
          "height": 35
        },
        "outputId": "6e36c23f-2c71-4ce4-de29-a9677b6c7156"
      },
      "source": [
        "# count() Sirve para contar cuantas veces aparece un elemento en una tupla:\n",
        "tupla.count(100)"
      ],
      "execution_count": null,
      "outputs": [
        {
          "output_type": "execute_result",
          "data": {
            "text/plain": [
              "1"
            ]
          },
          "metadata": {
            "tags": []
          },
          "execution_count": 31
        }
      ]
    },
    {
      "cell_type": "markdown",
      "metadata": {
        "id": "2Mg2xYwz1PMW"
      },
      "source": [
        "# **5. Conjuntos**"
      ]
    },
    {
      "cell_type": "markdown",
      "metadata": {
        "id": "dxJaxE0l1TFA"
      },
      "source": [
        "## Teoria\n",
        "\n",
        "* Son colecciones desordenadas de elementos únicos utilizados para hacer pruebas de pertenencia a grupos y eliminación de elementos duplicados.\n",
        "\n",
        "* Para definir un conjunto vacío hay que llamar a su clase set (conjunto en inglés):\n",
        "\n",
        "![Conjuntos](https://miro.medium.com/max/1200/1*i-dE6l_-8FV3HnVnbFHJdg.png)"
      ]
    },
    {
      "cell_type": "markdown",
      "metadata": {
        "id": "xq0q95Ji2g18"
      },
      "source": [
        "## Ejercicios con Conjuntos"
      ]
    },
    {
      "cell_type": "code",
      "metadata": {
        "id": "d3185THh2ljo",
        "colab": {
          "base_uri": "https://localhost:8080/"
        },
        "outputId": "b8c75b85-42e1-4836-a151-a87fd94ae024"
      },
      "source": [
        "# Para definir un conjunto vacío hay que llamar a su clase set\n",
        "conjunto = set()\n",
        "conjunto"
      ],
      "execution_count": null,
      "outputs": [
        {
          "output_type": "execute_result",
          "data": {
            "text/plain": [
              "set()"
            ]
          },
          "metadata": {
            "tags": []
          },
          "execution_count": 1
        }
      ]
    },
    {
      "cell_type": "code",
      "metadata": {
        "id": "5JdkUdzc2rns",
        "colab": {
          "base_uri": "https://localhost:8080/"
        },
        "outputId": "d046b031-562b-428f-f176-95cc8af4f61f"
      },
      "source": [
        "# Los conjuntos se definen entre {}, las Listas entre [], las tuplas ()\n",
        "conjunto = {1,2,3}\n",
        "conjunto"
      ],
      "execution_count": null,
      "outputs": [
        {
          "output_type": "execute_result",
          "data": {
            "text/plain": [
              "{1, 2, 3}"
            ]
          },
          "metadata": {
            "tags": []
          },
          "execution_count": 2
        }
      ]
    },
    {
      "cell_type": "code",
      "metadata": {
        "id": "5nMfMwYZ25Yz",
        "colab": {
          "base_uri": "https://localhost:8080/"
        },
        "outputId": "7d0d64d4-850b-4369-fe07-3cb78efb660b"
      },
      "source": [
        "# Método add(). Sirve para añadir elementos al conjunto, pero si un elemento ya se encuentra no se añadirá de nuevo:\n",
        "conjunto.add(4)\n",
        "conjunto"
      ],
      "execution_count": null,
      "outputs": [
        {
          "output_type": "execute_result",
          "data": {
            "text/plain": [
              "{1, 2, 3, 4}"
            ]
          },
          "metadata": {
            "tags": []
          },
          "execution_count": 3
        }
      ]
    },
    {
      "cell_type": "code",
      "metadata": {
        "id": "4kZRwyPh3D2_",
        "colab": {
          "base_uri": "https://localhost:8080/"
        },
        "outputId": "c2425a01-940e-456a-daec-c3e79fd35495"
      },
      "source": [
        "# Se dice que son desordenados porque gestionan automáticamente la posición de sus elementos, en lugar de conservarlos en la posición que nosotros los añadimos:\n",
        "conjunto.add('H')\n",
        "conjunto.add('A')\n",
        "conjunto.add('Z')\n",
        "conjunto"
      ],
      "execution_count": null,
      "outputs": [
        {
          "output_type": "execute_result",
          "data": {
            "text/plain": [
              "{1, 2, 3, 4, 'A', 'H', 'Z'}"
            ]
          },
          "metadata": {
            "tags": []
          },
          "execution_count": 4
        }
      ]
    },
    {
      "cell_type": "code",
      "metadata": {
        "id": "uOuSnnyX3Lo2",
        "colab": {
          "base_uri": "https://localhost:8080/"
        },
        "outputId": "80ac4ce8-bd2d-4971-f90c-14dd352a9fcf"
      },
      "source": [
        "# Es fácil saber si un elemento se encuentra en un conjunto utilizando la sintaxis in. Se utiliza mucho para trabajar con grupos:\n",
        "grupo = {'Hector','Juan','Mario'}\n",
        "'Hector' in grupo"
      ],
      "execution_count": null,
      "outputs": [
        {
          "output_type": "execute_result",
          "data": {
            "text/plain": [
              "True"
            ]
          },
          "metadata": {
            "tags": []
          },
          "execution_count": 5
        }
      ]
    },
    {
      "cell_type": "code",
      "metadata": {
        "id": "fNpJc72n3QlW",
        "colab": {
          "base_uri": "https://localhost:8080/"
        },
        "outputId": "fbfe92e6-a076-43db-fd82-2f9fc25bb896"
      },
      "source": [
        "# Consultar si Hector no pertenece al grupo\n",
        "'Hector' not in grupo"
      ],
      "execution_count": null,
      "outputs": [
        {
          "output_type": "execute_result",
          "data": {
            "text/plain": [
              "False"
            ]
          },
          "metadata": {
            "tags": []
          },
          "execution_count": 6
        }
      ]
    },
    {
      "cell_type": "code",
      "metadata": {
        "id": "cwP_WQd437LP",
        "colab": {
          "base_uri": "https://localhost:8080/"
        },
        "outputId": "6cac02f1-9ffd-49b6-d2f9-f1b9309394f3"
      },
      "source": [
        "# Elementos únicos. Los conjuntos no pueden tener el mismo elemento más de una vez, se borran los duplicados automáticamente:\n",
        "test = {'Hector','Hector','Hector'}\n",
        "test"
      ],
      "execution_count": null,
      "outputs": [
        {
          "output_type": "execute_result",
          "data": {
            "text/plain": [
              "{'Hector'}"
            ]
          },
          "metadata": {
            "tags": []
          },
          "execution_count": 7
        }
      ]
    },
    {
      "cell_type": "code",
      "metadata": {
        "id": "aIY7vxG94DEo",
        "colab": {
          "base_uri": "https://localhost:8080/"
        },
        "outputId": "72a2cb8d-84a0-415c-f606-bd48b083e873"
      },
      "source": [
        "# Conversiones con listas. Es muy útil transformar listas a conjuntos para borrar los elementos duplicados automáticamente y viceversa:\n",
        "lista = [1,2,3,3,2,1]\n",
        "print(lista)\n",
        "\n",
        "conjunto = set(lista)\n",
        "lista = list(conjunto)\n",
        "print(lista)"
      ],
      "execution_count": null,
      "outputs": [
        {
          "output_type": "stream",
          "text": [
            "[1, 2, 3, 3, 2, 1]\n",
            "[1, 2, 3]\n"
          ],
          "name": "stdout"
        }
      ]
    },
    {
      "cell_type": "code",
      "metadata": {
        "colab": {
          "base_uri": "https://localhost:8080/"
        },
        "id": "9oFlwTL9w_uV",
        "outputId": "d7667579-3656-4c4b-803b-a0d623f02e08"
      },
      "source": [
        "#Imprimir cadena de caracteres un numero de veces\n",
        "a = 1\n",
        "while a < 10:\n",
        "    print(\"¡Hola, mundo!\")\n",
        "    a = a + 1"
      ],
      "execution_count": null,
      "outputs": [
        {
          "output_type": "stream",
          "text": [
            "¡Hola, mundo!\n",
            "¡Hola, mundo!\n",
            "¡Hola, mundo!\n",
            "¡Hola, mundo!\n",
            "¡Hola, mundo!\n",
            "¡Hola, mundo!\n",
            "¡Hola, mundo!\n",
            "¡Hola, mundo!\n",
            "¡Hola, mundo!\n"
          ],
          "name": "stdout"
        }
      ]
    },
    {
      "cell_type": "markdown",
      "metadata": {
        "id": "7cDYIMiQYiTC"
      },
      "source": [
        "# **6. Diccionarios**"
      ]
    },
    {
      "cell_type": "markdown",
      "metadata": {
        "id": "0knYnL-bE7bA"
      },
      "source": [
        "\n",
        "Son junto a las listas las colecciones más utilizadas. Se basan en una estructura mapeada donde cada elemento de la colección se encuentra identificado con una clave única. Por tanto, no puede haber dos claves iguales. \n",
        "\n",
        "![Diccionarios](https://s3-us-west-2.amazonaws.com/devcodepro/media/tutorials/diccionarios-en-python-t2.png)\n",
        "En otros lenguajes se conocen como arreglos asociativos."
      ]
    },
    {
      "cell_type": "markdown",
      "metadata": {
        "id": "slyrn_DBIKy3"
      },
      "source": [
        "##Ejercicios con diccionarios"
      ]
    },
    {
      "cell_type": "code",
      "metadata": {
        "colab": {
          "base_uri": "https://localhost:8080/"
        },
        "id": "K33DoQEmFf4Z",
        "outputId": "90996ef1-9810-4ff9-ad78-69c72bd4d54e"
      },
      "source": [
        "#Ejemplo de diccionario vacio:\n",
        "vacio = {}\n",
        "type(vacio)"
      ],
      "execution_count": null,
      "outputs": [
        {
          "output_type": "execute_result",
          "data": {
            "text/plain": [
              "dict"
            ]
          },
          "metadata": {
            "tags": []
          },
          "execution_count": 47
        }
      ]
    },
    {
      "cell_type": "code",
      "metadata": {
        "colab": {
          "base_uri": "https://localhost:8080/"
        },
        "id": "B-W62mt87T-w",
        "outputId": "b37430d3-6245-4a05-e7ea-141bf5c783db"
      },
      "source": [
        "# Crear diccionario con dict()\n",
        "d = dict() ## Es lo mismo que poner d = {}\n",
        "type(d)\n"
      ],
      "execution_count": null,
      "outputs": [
        {
          "output_type": "execute_result",
          "data": {
            "text/plain": [
              "dict"
            ]
          },
          "metadata": {
            "tags": []
          },
          "execution_count": 1
        }
      ]
    },
    {
      "cell_type": "code",
      "metadata": {
        "colab": {
          "base_uri": "https://localhost:8080/"
        },
        "id": "isz2cfwIQJps",
        "outputId": "831f7ee6-3085-4bb9-94c8-077a7bde4798"
      },
      "source": [
        "# Comprobar si un diccionario está vacio\n",
        "\n",
        "my_dict = {}\n",
        "\n",
        "if not bool(my_dict):\n",
        "    print(\"Diccionario vacio\")"
      ],
      "execution_count": null,
      "outputs": [
        {
          "output_type": "stream",
          "text": [
            "Diccionario vacio\n"
          ],
          "name": "stdout"
        }
      ]
    },
    {
      "cell_type": "code",
      "metadata": {
        "colab": {
          "base_uri": "https://localhost:8080/"
        },
        "id": "zp5m7lFKF54g",
        "outputId": "1e6beab1-4039-46a8-f0a2-8adb94b4d4cb"
      },
      "source": [
        "#Añadir elemento al dccionario\n",
        "colores = {'amarillo':'yellow','azul':'blue'}\n",
        "colores['verde'] = 'green' # Añadir elemento al diccionario\n",
        "colores"
      ],
      "execution_count": null,
      "outputs": [
        {
          "output_type": "execute_result",
          "data": {
            "text/plain": [
              "{'amarillo': 'yellow', 'azul': 'blue', 'verde': 'green'}"
            ]
          },
          "metadata": {
            "tags": []
          },
          "execution_count": 48
        }
      ]
    },
    {
      "cell_type": "code",
      "metadata": {
        "colab": {
          "base_uri": "https://localhost:8080/"
        },
        "id": "rcCb94JTGJih",
        "outputId": "f94291f8-020b-4fad-a647-3b2d5cf687a6"
      },
      "source": [
        "#Eliminar un elemento del diccionario con la función del()\n",
        "del(colores['amarillo'])\n",
        "colores"
      ],
      "execution_count": null,
      "outputs": [
        {
          "output_type": "execute_result",
          "data": {
            "text/plain": [
              "{'azul': 'blue', 'verde': 'green'}"
            ]
          },
          "metadata": {
            "tags": []
          },
          "execution_count": 49
        }
      ]
    },
    {
      "cell_type": "code",
      "metadata": {
        "colab": {
          "base_uri": "https://localhost:8080/"
        },
        "id": "RJzmMUEEWpZt",
        "outputId": "3432bb21-1c83-4950-d42c-37e739c4e770"
      },
      "source": [
        "#  acceder al elemento de la clave del diccionario por índice.\n",
        "\n",
        "num = {'historia': 80, 'mates': 90, 'fisica': 86}\n",
        "print(list(num)[0])\n",
        "print(list(num)[1])\n",
        "print(list(num)[2])"
      ],
      "execution_count": null,
      "outputs": [
        {
          "output_type": "stream",
          "text": [
            "historia\n",
            "mates\n",
            "fisica\n"
          ],
          "name": "stdout"
        }
      ]
    },
    {
      "cell_type": "code",
      "metadata": {
        "colab": {
          "base_uri": "https://localhost:8080/"
        },
        "id": "ujTF57STGrtX",
        "outputId": "3484d90f-1269-4988-c13d-9199c307dbbf"
      },
      "source": [
        "#Trabajando directamente con registros\n",
        "edades = {'Hector':27,'Juan':45,'Maria':34}\n",
        "edades\n",
        "edades['Hector']+=1 #Sumar un año a Hector\n",
        "edades\n",
        "edades['Juan'] + edades['Maria']"
      ],
      "execution_count": null,
      "outputs": [
        {
          "output_type": "execute_result",
          "data": {
            "text/plain": [
              "79"
            ]
          },
          "metadata": {
            "tags": []
          },
          "execution_count": 50
        }
      ]
    },
    {
      "cell_type": "code",
      "metadata": {
        "colab": {
          "base_uri": "https://localhost:8080/"
        },
        "id": "aJTf6qF8HBqV",
        "outputId": "3fe2a955-7800-435b-9584-44e9c7dae956"
      },
      "source": [
        "# Recorrer un diccionario, devuelve la clave, no los valores\n",
        "for edad in edades:\n",
        "    print(edad)"
      ],
      "execution_count": null,
      "outputs": [
        {
          "output_type": "stream",
          "text": [
            "Hector\n",
            "Juan\n",
            "Maria\n"
          ],
          "name": "stdout"
        }
      ]
    },
    {
      "cell_type": "code",
      "metadata": {
        "colab": {
          "base_uri": "https://localhost:8080/"
        },
        "id": "otWtRBeSHJMD",
        "outputId": "c764c347-89dd-4c3d-f49f-9248a2a8281a"
      },
      "source": [
        "#Ahora devolvemos los valores indicandolo de la siguiente manera:\n",
        "for clave in edades:\n",
        "    print(edades[clave])"
      ],
      "execution_count": null,
      "outputs": [
        {
          "output_type": "stream",
          "text": [
            "28\n",
            "45\n",
            "34\n"
          ],
          "name": "stdout"
        }
      ]
    },
    {
      "cell_type": "code",
      "metadata": {
        "colab": {
          "base_uri": "https://localhost:8080/"
        },
        "id": "oyhmkHEQHT3F",
        "outputId": "9a9c4ecd-7b04-4999-a36d-6d71daac2a35"
      },
      "source": [
        "#Recorremos y devolvemos clave y valor\n",
        "for clave in edades:\n",
        "    print(clave,edades[clave])"
      ],
      "execution_count": null,
      "outputs": [
        {
          "output_type": "stream",
          "text": [
            "Hector 28\n",
            "Juan 45\n",
            "Maria 34\n"
          ],
          "name": "stdout"
        }
      ]
    },
    {
      "cell_type": "code",
      "metadata": {
        "colab": {
          "base_uri": "https://localhost:8080/"
        },
        "id": "BwqXI4zlR0Ft",
        "outputId": "96b01598-2bcc-4e47-c994-7eb490e01a65"
      },
      "source": [
        "#Borrar un elemento del diccionario con  dictionary.pop(keyname, defaultvalue)\n",
        "car = {\n",
        "  \"brand\": \"Ford\",\n",
        "  \"model\": \"Mustang\",\n",
        "  \"year\": 1964\n",
        "}\n",
        "\n",
        "car.pop(\"model\")\n",
        "\n",
        "print(car)"
      ],
      "execution_count": null,
      "outputs": [
        {
          "output_type": "stream",
          "text": [
            "{'brand': 'Ford', 'year': 1964}\n"
          ],
          "name": "stdout"
        }
      ]
    },
    {
      "cell_type": "code",
      "metadata": {
        "colab": {
          "base_uri": "https://localhost:8080/"
        },
        "id": "DbBKrfWwSAC7",
        "outputId": "68fe82df-5ece-4443-afb2-9d78450db992"
      },
      "source": [
        "#Copiar un diccionario con copy()\n",
        "car = {\n",
        "  \"brand\": \"Ford\",\n",
        "  \"model\": \"Mustang\",\n",
        "  \"year\": 1964\n",
        "}\n",
        "\n",
        "x = car.copy()\n",
        "\n",
        "print(x)"
      ],
      "execution_count": null,
      "outputs": [
        {
          "output_type": "stream",
          "text": [
            "{'brand': 'Ford', 'model': 'Mustang', 'year': 1964}\n"
          ],
          "name": "stdout"
        }
      ]
    },
    {
      "cell_type": "code",
      "metadata": {
        "colab": {
          "base_uri": "https://localhost:8080/"
        },
        "id": "oc_jn_eXSP5d",
        "outputId": "90996e22-1a60-4ef4-b802-aba02acc58fc"
      },
      "source": [
        "#Añadir item al diccionario o modificalo con UPDATE()\n",
        "car = {\n",
        "  \"brand\": \"Ford\",\n",
        "  \"model\": \"Mustang\",\n",
        "  \"year\": 1964\n",
        "}\n",
        "\n",
        "car.update({\"color\": \"White\"})\n",
        "\n",
        "print(car)"
      ],
      "execution_count": null,
      "outputs": [
        {
          "output_type": "stream",
          "text": [
            "{'brand': 'Ford', 'model': 'Mustang', 'year': 1964, 'color': 'White'}\n"
          ],
          "name": "stdout"
        }
      ]
    },
    {
      "cell_type": "code",
      "metadata": {
        "colab": {
          "base_uri": "https://localhost:8080/"
        },
        "id": "k15NgutM9Ies",
        "outputId": "e1415525-5db7-4275-936c-17368a8b3be5"
      },
      "source": [
        "# Escriba un programa de Python para iterar sobre diccionarios usando bucles for.\n",
        "d = {'x': 10, 'y': 20, 'z': 30} \n",
        "for dict_key, dict_value in d.items():\n",
        "    print(dict_key,'->',dict_value)"
      ],
      "execution_count": null,
      "outputs": [
        {
          "output_type": "stream",
          "text": [
            "x -> 10\n",
            "y -> 20\n",
            "z -> 30\n"
          ],
          "name": "stdout"
        }
      ]
    },
    {
      "cell_type": "code",
      "metadata": {
        "colab": {
          "base_uri": "https://localhost:8080/"
        },
        "id": "DYz3TArQ9V6m",
        "outputId": "e2766e83-c724-4814-8e9a-b5becd7badb5"
      },
      "source": [
        "# Fusionar diccionarios:\n",
        "\n",
        "d1 = {'a': 100, 'b': 200}\n",
        "d2 = {'x': 300, 'y': 200}\n",
        "d = d1.copy()\n",
        "d.update(d2)\n",
        "print(d)"
      ],
      "execution_count": null,
      "outputs": [
        {
          "output_type": "stream",
          "text": [
            "{'a': 100, 'b': 200, 'x': 300, 'y': 200}\n"
          ],
          "name": "stdout"
        }
      ]
    },
    {
      "cell_type": "code",
      "metadata": {
        "colab": {
          "base_uri": "https://localhost:8080/"
        },
        "id": "EW5O6B14-ghL",
        "outputId": "7826b4cc-f544-4fbf-987b-3314f4ba761e"
      },
      "source": [
        "# Mapear dos listas en un diccionario\n",
        "\n",
        "keys = ['uno', 'dos', 'tres']\n",
        "values = ['1','2', '3']\n",
        "color_dictionary = dict(zip(keys, values))\n",
        "print(color_dictionary)"
      ],
      "execution_count": null,
      "outputs": [
        {
          "output_type": "stream",
          "text": [
            "{'uno': '1', 'dos': '2', 'tres': '3'}\n"
          ],
          "name": "stdout"
        }
      ]
    },
    {
      "cell_type": "code",
      "metadata": {
        "colab": {
          "base_uri": "https://localhost:8080/"
        },
        "id": "dnak88AtWCWY",
        "outputId": "75592d2f-2972-428f-9a06-720871d0656e"
      },
      "source": [
        "#  Eliminar elementos vacíos de un diccionario determinado.\n",
        "\n",
        "dict1 = {'c1': 'Red', 'c2': 'Green', 'c3':None}\n",
        "print(\"Original:\")\n",
        "print(dict1)\n",
        "print(\"Nuevo borrando vaciones:\")\n",
        "dict1 = {key:value for (key, value) in dict1.items() if value is not None}\n",
        "print(dict1)"
      ],
      "execution_count": null,
      "outputs": [
        {
          "output_type": "stream",
          "text": [
            "Original:\n",
            "{'c1': 'Red', 'c2': 'Green', 'c3': None}\n",
            "Nuevo borrando vaciones:\n",
            "{'c1': 'Red', 'c2': 'Green'}\n"
          ],
          "name": "stdout"
        }
      ]
    },
    {
      "cell_type": "code",
      "metadata": {
        "colab": {
          "base_uri": "https://localhost:8080/"
        },
        "id": "bRZN1BY9Ojzv",
        "outputId": "243982d6-eb06-44f9-d01d-c22cf805eda6"
      },
      "source": [
        "# Ordenar diccionaro por valores\n",
        "\n",
        "numeros = {'uno':'1',\n",
        "          'dos':'2',\n",
        "          'tres':'3',\n",
        "          'cuatro':'4'}\n",
        "\n",
        "for numero in sorted(numeros):\n",
        "    print(\"%s: %s\" % (numero, numeros[numero]))"
      ],
      "execution_count": null,
      "outputs": [
        {
          "output_type": "stream",
          "text": [
            "cuatro: 4\n",
            "dos: 2\n",
            "tres: 3\n",
            "uno: 1\n"
          ],
          "name": "stdout"
        }
      ]
    },
    {
      "cell_type": "code",
      "metadata": {
        "colab": {
          "base_uri": "https://localhost:8080/"
        },
        "id": "5Td6PaJSPJBB",
        "outputId": "92123066-e906-4471-f589-aa25391b7506"
      },
      "source": [
        "#  Obtener el valor máximo y mínimo en un diccionario\n",
        "\n",
        "my_dict = {'x':500, 'y':5874, 'z': 560}\n",
        "\n",
        "key_max = max(my_dict.keys(), key=(lambda k: my_dict[k]))\n",
        "key_min = min(my_dict.keys(), key=(lambda k: my_dict[k]))\n",
        "\n",
        "print('Valor máximo: ',my_dict[key_max])\n",
        "print('Valor mínimo: ',my_dict[key_min])"
      ],
      "execution_count": null,
      "outputs": [
        {
          "output_type": "stream",
          "text": [
            "Valor máximo:  5874\n",
            "Valor mínimo:  500\n"
          ],
          "name": "stdout"
        }
      ]
    },
    {
      "cell_type": "code",
      "metadata": {
        "colab": {
          "base_uri": "https://localhost:8080/"
        },
        "id": "FnM5YbKuPlD7",
        "outputId": "a13536ce-4215-48aa-e7cd-c59eaa7e4069"
      },
      "source": [
        "# Eliminar valores duplicados en un diccionario, recordemos que las key son únicas no se pueden repetir\n",
        "\n",
        "\n",
        "student_data = {'id1': \n",
        "   {'name': ['Sara'], \n",
        "    'class': ['V'], \n",
        "    'subject_integration': ['english, math, science']\n",
        "   },\n",
        " 'id2': \n",
        "  {'name': ['David'], \n",
        "    'class': ['V'], \n",
        "    'subject_integration': ['english, math, science']\n",
        "   },\n",
        " 'id3': \n",
        "    {'name': ['Sara'], \n",
        "    'class': ['V'], \n",
        "    'subject_integration': ['english, math, science']\n",
        "   },\n",
        " 'id4': \n",
        "   {'name': ['Surya'], \n",
        "    'class': ['V'], \n",
        "    'subject_integration': ['english, math, science']\n",
        "   },\n",
        "}\n",
        "\n",
        "result = {} # Creamos nuevo diccionario donde almacenamos los valores no repetidos\n",
        "\n",
        "for key,value in student_data.items():\n",
        "    if value not in result.values():\n",
        "        result[key] = value\n",
        "\n",
        "print(result)"
      ],
      "execution_count": null,
      "outputs": [
        {
          "output_type": "stream",
          "text": [
            "{'id1': {'name': ['Sara'], 'class': ['V'], 'subject_integration': ['english, math, science']}, 'id2': {'name': ['David'], 'class': ['V'], 'subject_integration': ['english, math, science']}, 'id4': {'name': ['Surya'], 'class': ['V'], 'subject_integration': ['english, math, science']}}\n"
          ],
          "name": "stdout"
        }
      ]
    },
    {
      "cell_type": "code",
      "metadata": {
        "colab": {
          "base_uri": "https://localhost:8080/"
        },
        "id": "ImppR0hZ8MT2",
        "outputId": "1f512637-2948-475d-80f3-c1c6204e2c39"
      },
      "source": [
        "#Escriba un programa Python para concatenar los siguientes diccionarios para crear uno nuevo.\n",
        "\n",
        "dic1={1:10, 2:20}\n",
        "dic2={3:30, 4:40}\n",
        "dic3={5:50,6:60}\n",
        "dic4 = {}\n",
        "for d in (dic1, dic2, dic3): dic4.update(d)\n",
        "print(dic4)"
      ],
      "execution_count": null,
      "outputs": [
        {
          "output_type": "stream",
          "text": [
            "{1: 10, 2: 20, 3: 30, 4: 40, 5: 50, 6: 60}\n"
          ],
          "name": "stdout"
        }
      ]
    },
    {
      "cell_type": "code",
      "metadata": {
        "colab": {
          "base_uri": "https://localhost:8080/"
        },
        "id": "Mvmg-onVQ4sJ",
        "outputId": "04a78c27-3553-403b-9946-9bec36d034e1"
      },
      "source": [
        " # Combinar dos diccionarios agregando valores para claves comunes.\n",
        "from collections import Counter\n",
        "\n",
        "d1 = {'a': 100, 'b': 200, 'c':300}\n",
        "d2 = {'a': 300, 'b': 200, 'd':400}\n",
        "d = Counter(d1) + Counter(d2)\n",
        "print(d)\n"
      ],
      "execution_count": null,
      "outputs": [
        {
          "output_type": "stream",
          "text": [
            "Counter({'a': 400, 'b': 400, 'd': 400, 'c': 300})\n"
          ],
          "name": "stdout"
        }
      ]
    },
    {
      "cell_type": "code",
      "metadata": {
        "colab": {
          "base_uri": "https://localhost:8080/"
        },
        "id": "hoKkkgfhRFDH",
        "outputId": "33237cff-431f-46f2-b888-27eb09e5d85d"
      },
      "source": [
        "#  imprimir todos los valores únicos en un diccionario.\n",
        "\n",
        "L = [{\"V\":\"S001\"}, {\"V\": \"S002\"}, {\"VI\": \"S001\"}, {\"VI\": \"S005\"}, {\"VII\":\"S005\"}, {\"V\":\"S009\"},{\"VIII\":\"S007\"}]\n",
        "print(\"Diccionario Completo: \",L)\n",
        "\n",
        "u_value = set( val for dic in L for val in dic.values())\n",
        "print(\"Valores unicos: \",u_value)"
      ],
      "execution_count": null,
      "outputs": [
        {
          "output_type": "stream",
          "text": [
            "Diccionario Completo:  [{'V': 'S001'}, {'V': 'S002'}, {'VI': 'S001'}, {'VI': 'S005'}, {'VII': 'S005'}, {'V': 'S009'}, {'VIII': 'S007'}]\n",
            "Valores unicos:  {'S001', 'S007', 'S009', 'S005', 'S002'}\n"
          ],
          "name": "stdout"
        }
      ]
    },
    {
      "cell_type": "code",
      "metadata": {
        "colab": {
          "base_uri": "https://localhost:8080/"
        },
        "id": "KCFJ5s6CTING",
        "outputId": "c729c36a-b033-4cf8-d0d6-0b3a5cfa3481"
      },
      "source": [
        "# Encontrar los 3 valores más altos de las claves correspondientes en un diccionario.\n",
        "\n",
        "from heapq import nlargest\n",
        "\n",
        "my_dict = {'a':500, 'b':5874, 'c': 560,'d':400, 'e':5874, 'f': 20}  \n",
        "tres_mas_altos = nlargest(3, my_dict, key=my_dict.get)\n",
        "print(tres_mas_altos) "
      ],
      "execution_count": null,
      "outputs": [
        {
          "output_type": "stream",
          "text": [
            "['b', 'e', 'c']\n"
          ],
          "name": "stdout"
        }
      ]
    },
    {
      "cell_type": "code",
      "metadata": {
        "colab": {
          "base_uri": "https://localhost:8080/"
        },
        "id": "KUJlHsGcTpyD",
        "outputId": "35ec4da5-0565-4e48-d69a-1e409f500f33"
      },
      "source": [
        "#  Crear un diccionario a partir de una cadena\n",
        "\n",
        "from collections import defaultdict, Counter\n",
        "str1 = 'alfonso' \n",
        "my_dict = {}\n",
        "for letter in str1:\n",
        "    my_dict[letter] = my_dict.get(letter, 0) + 1\n",
        "print(my_dict)"
      ],
      "execution_count": null,
      "outputs": [
        {
          "output_type": "stream",
          "text": [
            "{'a': 1, 'l': 1, 'f': 1, 'o': 2, 'n': 1, 's': 1}\n"
          ],
          "name": "stdout"
        }
      ]
    },
    {
      "cell_type": "code",
      "metadata": {
        "colab": {
          "base_uri": "https://localhost:8080/"
        },
        "id": "T1zdz6uYUHIg",
        "outputId": "258404f6-9b45-4dd2-e5b0-2c76e3a4f9d6"
      },
      "source": [
        "# ordenar alfabéticamente una lista en un diccionario.\n",
        "\n",
        "num = {'n1': [2, 3, 1], 'n2': [5, 1, 2], 'n3': [3, 2, 4]}\n",
        "sorted_dict = {key: sorted(value) for key, value in num.items()}\n",
        "\n",
        "print(sorted_dict)"
      ],
      "execution_count": null,
      "outputs": [
        {
          "output_type": "stream",
          "text": [
            "{'n1': [1, 2, 3], 'n2': [1, 2, 5], 'n3': [2, 3, 4]}\n"
          ],
          "name": "stdout"
        }
      ]
    },
    {
      "cell_type": "code",
      "metadata": {
        "colab": {
          "base_uri": "https://localhost:8080/"
        },
        "id": "C_pd-z-yUj6K",
        "outputId": "51416cb9-423c-46d5-da4e-dae6158e84a7"
      },
      "source": [
        "#  Eliminar espacios de las claves del diccionario\n",
        "\n",
        "student_list = {'S  001': ['Math', 'Science'], 'S    002': ['Math', 'English']}\n",
        "print(\"Diccionario con espacios: \",student_list)\n",
        "\n",
        "student_dict = {x.translate({32: None}): y for x, y in student_list.items()}\n",
        "print(\"Diccionario sin espacios: \",student_dict)\n"
      ],
      "execution_count": null,
      "outputs": [
        {
          "output_type": "stream",
          "text": [
            "Diccionario con espacios:  {'S  001': ['Math', 'Science'], 'S    002': ['Math', 'English']}\n",
            "Diccionario sin espacios:  {'S001': ['Math', 'Science'], 'S002': ['Math', 'English']}\n"
          ],
          "name": "stdout"
        }
      ]
    },
    {
      "cell_type": "code",
      "metadata": {
        "colab": {
          "base_uri": "https://localhost:8080/"
        },
        "id": "x4NbBpvSVpSV",
        "outputId": "74f12492-283f-46c2-d05e-5fabeffe6fd7"
      },
      "source": [
        "# Crear un diccionario a partir de dos listas sin perder valores duplicados.\n",
        "\n",
        "from collections import defaultdict\n",
        "\n",
        "class_list = ['Class-V', 'Class-VI', 'Class-VII', 'Class-VIII']\n",
        "id_list = [1, 2, 2, 3]\n",
        "temp = defaultdict(set)\n",
        "for c, i in zip(class_list, id_list):\n",
        "    temp[c].add(i)\n",
        "print(temp)"
      ],
      "execution_count": null,
      "outputs": [
        {
          "output_type": "stream",
          "text": [
            "defaultdict(<class 'set'>, {'Class-V': {1}, 'Class-VI': {2}, 'Class-VII': {2}, 'Class-VIII': {3}})\n"
          ],
          "name": "stdout"
        }
      ]
    },
    {
      "cell_type": "code",
      "metadata": {
        "colab": {
          "base_uri": "https://localhost:8080/"
        },
        "id": "J7R6_TDJXQvE",
        "outputId": "5368f306-a5de-4545-92a8-f024c09ce556"
      },
      "source": [
        "# Convertir una lista determinada de listas en un diccionario.\n",
        "\n",
        "def test(lst):\n",
        "    result = {item[0]: item[1:] for item in lst}\n",
        "    return result\n",
        "\n",
        "students = [[1, 'Jean Castro', 'V'], [2, 'Lula Powell', 'V'], [3, 'Brian Howell', 'VI'], [4, 'Lynne Foster', 'VI'], [5, 'Zachary Simon', 'VII']]\n",
        "\n",
        "print(\"\\nLista de Listas:\")\n",
        "print(students)\n",
        "print(\"\\nConvertida a diccionario:\")\n",
        "print(test(students))"
      ],
      "execution_count": null,
      "outputs": [
        {
          "output_type": "stream",
          "text": [
            "\n",
            "Lista de Listas:\n",
            "[[1, 'Jean Castro', 'V'], [2, 'Lula Powell', 'V'], [3, 'Brian Howell', 'VI'], [4, 'Lynne Foster', 'VI'], [5, 'Zachary Simon', 'VII']]\n",
            "\n",
            "Convertida a diccionario:\n",
            "{1: ['Jean Castro', 'V'], 2: ['Lula Powell', 'V'], 3: ['Brian Howell', 'VI'], 4: ['Lynne Foster', 'VI'], 5: ['Zachary Simon', 'VII']}\n"
          ],
          "name": "stdout"
        }
      ]
    },
    {
      "cell_type": "code",
      "metadata": {
        "colab": {
          "base_uri": "https://localhost:8080/"
        },
        "id": "2DaxBRxS8fGE",
        "outputId": "0d203929-7e74-463f-d903-58793b8ec64e"
      },
      "source": [
        "# Escriba un programa de Python para comprobar si una clave determinada ya existe en un diccionario.\n",
        "\n",
        "d = {1: 10, 2: 20, 3: 30, 4: 40, 5: 50, 6: 60}\n",
        "def is_key_present(x):\n",
        "  if x in d:\n",
        "      print('Key is present in the dictionary')\n",
        "  else:\n",
        "      print('Key is not present in the dictionary')\n",
        "is_key_present(5)\n",
        "is_key_present(9)"
      ],
      "execution_count": null,
      "outputs": [
        {
          "output_type": "stream",
          "text": [
            "Key is present in the dictionary\n",
            "Key is not present in the dictionary\n"
          ],
          "name": "stdout"
        }
      ]
    },
    {
      "cell_type": "code",
      "metadata": {
        "colab": {
          "base_uri": "https://localhost:8080/"
        },
        "id": "I8PnUef6IFEv",
        "outputId": "d8d9efc6-f022-488a-ee81-8381a2b58952"
      },
      "source": [
        "# Escribe un programa python que pida un número por teclado y que cree un diccionario cuyas \n",
        "# # claves sean desde el número 1 hasta el número indicado, y los valores sean los cuadrados de las claves.\n",
        "\n",
        "numero = int(input(\"Dime un número:\"))\n",
        "cuadrados = {}\n",
        "\n",
        "for num in range(1,numero+1):\n",
        "    cuadrados[num] = num ** 2\n",
        "for num, valor in cuadrados.items():\n",
        "    print(\"%d -> %d\" % (num,valor))\n"
      ],
      "execution_count": null,
      "outputs": [
        {
          "output_type": "stream",
          "text": [
            "Dime un número:10\n",
            "1 -> 1\n",
            "2 -> 4\n",
            "3 -> 9\n",
            "4 -> 16\n",
            "5 -> 25\n",
            "6 -> 36\n",
            "7 -> 49\n",
            "8 -> 64\n",
            "9 -> 81\n",
            "10 -> 100\n"
          ],
          "name": "stdout"
        }
      ]
    },
    {
      "cell_type": "code",
      "metadata": {
        "colab": {
          "base_uri": "https://localhost:8080/"
        },
        "id": "KyAanmiiKBUz",
        "outputId": "9a7a4570-6319-4de5-9275-052ab652c214"
      },
      "source": [
        "#Escribir un programa que almacene el diccionario con los créditos de las asignaturas de un curso {'Matemáticas': 6, 'Física': 4, 'Química': 5} \n",
        "#y después muestre por pantalla los créditos de cada asignatura en el formato <asignatura> tiene <créditos> créditos, donde <asignatura> es cada una de las asignaturas del curso, y <créditos> son sus créditos. Al final debe mostrar también el número total de créditos del curso.\n",
        "course = {'Matemáticas': 6, 'Física': 4, 'Química': 5}\n",
        "total_credits = 0\n",
        "for subject, credits in course.items():\n",
        "    print(subject, 'tiene', credits, 'créditos')\n",
        "    total_credits += credits\n",
        "print('Número total de créditos del curso: ', total_credits)"
      ],
      "execution_count": null,
      "outputs": [
        {
          "output_type": "stream",
          "text": [
            "Matemáticas tiene 6 créditos\n",
            "Física tiene 4 créditos\n",
            "Química tiene 5 créditos\n",
            "Número total de créditos del curso:  15\n"
          ],
          "name": "stdout"
        }
      ]
    },
    {
      "cell_type": "code",
      "metadata": {
        "colab": {
          "base_uri": "https://localhost:8080/"
        },
        "id": "lWZuLQTqKQQU",
        "outputId": "4d6b2b39-f6f8-47ef-e21d-cb3435f07d11"
      },
      "source": [
        "#Escribir un programa que cree un diccionario vacío y lo vaya llenado con información \n",
        "#sobre una persona (por ejemplo nombre, edad, sexo, teléfono, correo electrónico, etc.) \n",
        "#que se le pida al usuario. \n",
        "#Cada vez que se añada un nuevo dato debe imprimirse el contenido del diccionario.\n",
        "\n",
        "person = {}\n",
        "more = 'Si'\n",
        "while more=='Si':\n",
        "    key = input('¿Qué dato quieres introducir? ')\n",
        "    value = input(key + ': ')\n",
        "    person[key] = value\n",
        "    print(person)\n",
        "    more = input('¿Quieres añadir más información (Si/No)? ')\n"
      ],
      "execution_count": null,
      "outputs": [
        {
          "output_type": "stream",
          "text": [
            "¿Qué dato quieres introducir? Nombre\n",
            "Nombre: Alfonso\n",
            "{'Nombre': 'Alfonso'}\n",
            "¿Quieres añadir más información (Si/No)? Si\n",
            "¿Qué dato quieres introducir? sexo\n",
            "sexo: V\n",
            "{'Nombre': 'Alfonso', 'sexo': 'V'}\n",
            "¿Quieres añadir más información (Si/No)? Si\n",
            "¿Qué dato quieres introducir? Telefono\n",
            "Telefono: 633184302\n",
            "{'Nombre': 'Alfonso', 'sexo': 'V', 'Telefono': '633184302'}\n",
            "¿Quieres añadir más información (Si/No)? No\n"
          ],
          "name": "stdout"
        }
      ]
    },
    {
      "cell_type": "markdown",
      "metadata": {
        "id": "B12kt516LD8D"
      },
      "source": [
        "**Ejercicio**\n",
        "\n",
        "Escribir un programa que gestione las facturas pendientes de cobro de una empresa. Las facturas se almacenarán en un diccionario donde la clave de cada factura será el número de factura y el valor el coste de la factura. El programa debe preguntar al usuario si quiere añadir una nueva factura, pagar una existente o terminar. Si desea añadir una nueva factura se preguntará por el número de factura y su coste y se añadirá al diccionario. Si se desea pagar una factura se preguntará por el número de factura y se eliminará del diccionario. Después de cada operación el programa debe mostrar por pantalla la cantidad cobrada hasta el momento y la cantidad pendiente de cobro."
      ]
    },
    {
      "cell_type": "code",
      "metadata": {
        "colab": {
          "base_uri": "https://localhost:8080/"
        },
        "id": "ME2-V70_K2UI",
        "outputId": "96c940c9-7ee1-4f76-95df-ecc8d9e26d6c"
      },
      "source": [
        "invoices = {}\n",
        "collected = 0\n",
        "remains = 0\n",
        "more = ''\n",
        "while more != 'T':\n",
        "    if more == 'A':\n",
        "        key = input('Introduce el número de la factura: ')\n",
        "        cost = float(input('Introduce el coste de la factura: '))\n",
        "        invoices[key] = cost\n",
        "        remains += cost\n",
        "    if more == 'P':\n",
        "        key = input('Introduce el número de la factura a pagar: ')\n",
        "        cost = invoices.pop(key, 0)\n",
        "        collected += cost\n",
        "        remains -= cost\n",
        "    print('Recaudado:', collected)\n",
        "    print('Pendiente de cobro: ', remains)\n",
        "    more = input('¿Quieres añadir una nueva factura (A), pagarla (P) o terminar (T)? ')"
      ],
      "execution_count": null,
      "outputs": [
        {
          "output_type": "stream",
          "text": [
            "Recaudado: 0\n",
            "Pendiente de cobro:  0\n",
            "¿Quieres añadir una nueva factura (A), pagarla (P) o terminar (T)? A\n",
            "Introduce el número de la factura: 1\n",
            "Introduce el coste de la factura: 150\n",
            "Recaudado: 0\n",
            "Pendiente de cobro:  150.0\n",
            "¿Quieres añadir una nueva factura (A), pagarla (P) o terminar (T)? P\n",
            "Introduce el número de la factura a pagar: 1\n",
            "Recaudado: 150.0\n",
            "Pendiente de cobro:  0.0\n",
            "¿Quieres añadir una nueva factura (A), pagarla (P) o terminar (T)? A\n",
            "Introduce el número de la factura: 2\n",
            "Introduce el coste de la factura: 500\n",
            "Recaudado: 150.0\n",
            "Pendiente de cobro:  500.0\n",
            "¿Quieres añadir una nueva factura (A), pagarla (P) o terminar (T)? T\n"
          ],
          "name": "stdout"
        }
      ]
    },
    {
      "cell_type": "markdown",
      "metadata": {
        "id": "_8SKfH1gLMgy"
      },
      "source": [
        "**Ejercicio **\n",
        "\n",
        "Escribir un programa que permita gestionar la base de datos de clientes de una empresa. Los clientes se guardarán en un diccionario en el que la clave de cada cliente será su NIF, y el valor será otro diccionario con los datos del cliente (nombre, dirección, teléfono, correo, preferente), donde preferente tendrá el valor `True` si se trata de un cliente preferente. El programa debe preguntar al usuario por una opción del siguiente menú: (1) Añadir cliente, (2) Eliminar cliente, (3) Mostrar cliente, (4) Listar todos los clientes, (5) Listar clientes preferentes, (6) Terminar. En función de la opción elegida el programa tendrá que hacer lo siguiente:\n",
        "\n",
        "1. Preguntar los datos del cliente, crear un diccionario con los datos y añadirlo a la base de datos.\n",
        "2. Preguntar por el NIF del cliente y eliminar sus datos de la base de datos.\n",
        "3. Preguntar por el NIF del cliente y mostrar sus datos.\n",
        "4. Mostrar lista de todos los clientes de la base datos con su NIF y nombre.\n",
        "5. Mostrar la lista de clientes preferentes de la base de datos con su NIF y nombre.\n",
        "6. Terminar el programa."
      ]
    },
    {
      "cell_type": "code",
      "metadata": {
        "colab": {
          "base_uri": "https://localhost:8080/"
        },
        "id": "4cLUeWPNLRR2",
        "outputId": "651cb0fe-2d89-4729-a942-996994a4bfe5"
      },
      "source": [
        "clients = {}\n",
        "option = ''\n",
        "while option != '6':\n",
        "    if option == '1':\n",
        "        nif = input('Introduce NIF del cliente: ')\n",
        "        name = input('Introduce el nombre del cliente: ')\n",
        "        address = input('Introduce la dirección del cliente: ')\n",
        "        phone = input('Introduce el teléfono del cliente: ')\n",
        "        email = input('Introduce el correo electrónico del cliente: ')\n",
        "        vip = input('¿Es un cliente preferente (S/N)? ')\n",
        "        client = {'nombre':name, 'dirección':address, 'teléfono':phone, 'email':email, 'preferente':vip=='S'}\n",
        "        clients[nif] = client\n",
        "    if option == '2':\n",
        "        nif = input('Introduce NIF del cliente: ')\n",
        "        if nif in clients:\n",
        "            del clients[nif]\n",
        "        else:\n",
        "            print('No existe el cliente con el nif', nif)\n",
        "    if option == '3':\n",
        "        nif = input('Introduce NIF del cliente: ')\n",
        "        if nif in clients:\n",
        "            print('NIF:', nif)\n",
        "            for key, value in clients[nif].items():\n",
        "                print(key.title() + ':', value)\n",
        "        else:\n",
        "            print('No existe el cliente con el nif', nif)\n",
        "    if option == '4':\n",
        "        print('Lista de clientes')\n",
        "        for key, value in clients.items():\n",
        "            print(key, value['nombre'])\n",
        "    if option == '5':\n",
        "        print('Lista de clientes preferentes')\n",
        "        for key, value in clients.items():\n",
        "            if value['preferente']:\n",
        "                print(key, value['nombre'])\n",
        "    option = input('Menú de opciones\\n(1) Añadir cliente\\n(2) Eliminar cliente\\n(3) Mostrar cliente\\n(4) Listar clientes\\n(5) Listar clientes preferentes\\n(6) Terminar\\nElige una opción:')\n"
      ],
      "execution_count": null,
      "outputs": [
        {
          "output_type": "stream",
          "text": [
            "Menú de opciones\n",
            "(1) Añadir cliente\n",
            "(2) Eliminar cliente\n",
            "(3) Mostrar cliente\n",
            "(4) Listar clientes\n",
            "(5) Listar clientes preferentes\n",
            "(6) Terminar\n",
            "Elige una opción:1\n",
            "Introduce NIF del cliente: 30975024G\n",
            "Introduce el nombre del cliente: Alfonso\n",
            "Introduce la dirección del cliente: Calle Perito\n",
            "Introduce el teléfono del cliente: 633184302\n",
            "Introduce el correo electrónico del cliente: gallardo@gmail.com\n",
            "¿Es un cliente preferente (S/N)? S\n",
            "Menú de opciones\n",
            "(1) Añadir cliente\n",
            "(2) Eliminar cliente\n",
            "(3) Mostrar cliente\n",
            "(4) Listar clientes\n",
            "(5) Listar clientes preferentes\n",
            "(6) Terminar\n",
            "Elige una opción:3\n",
            "Introduce NIF del cliente: 5\n",
            "No existe el cliente con el nif 5\n",
            "Menú de opciones\n",
            "(1) Añadir cliente\n",
            "(2) Eliminar cliente\n",
            "(3) Mostrar cliente\n",
            "(4) Listar clientes\n",
            "(5) Listar clientes preferentes\n",
            "(6) Terminar\n",
            "Elige una opción:4\n",
            "Lista de clientes\n",
            "30975024G Alfonso\n",
            "Menú de opciones\n",
            "(1) Añadir cliente\n",
            "(2) Eliminar cliente\n",
            "(3) Mostrar cliente\n",
            "(4) Listar clientes\n",
            "(5) Listar clientes preferentes\n",
            "(6) Terminar\n",
            "Elige una opción:6\n"
          ],
          "name": "stdout"
        }
      ]
    },
    {
      "cell_type": "code",
      "metadata": {
        "colab": {
          "base_uri": "https://localhost:8080/"
        },
        "id": "C4oTVHS2ISxT",
        "outputId": "83e6b061-9cb4-4461-fa0c-5f264068ecea"
      },
      "source": [
        "# Escribe un programa que lea una cadena y devuelva un diccionario con la cantidad de apariciones de cada carácter en la cadena. \n",
        "\n",
        "dict = {}\n",
        "cadena = input(\"Dame una cadena:\")\n",
        "for caracter in cadena:\n",
        "\tif caracter in dict:\n",
        "\t\tdict[caracter]+=1\n",
        "\telse:\n",
        "\t\tdict[caracter]=1\t\n",
        "\n",
        "for campo,valor in dict.items():\n",
        "\tprint (campo,\"->\",valor)\n"
      ],
      "execution_count": null,
      "outputs": [
        {
          "output_type": "stream",
          "text": [
            "Dame una cadena:alfonso\n",
            "a -> 1\n",
            "l -> 1\n",
            "f -> 1\n",
            "o -> 2\n",
            "n -> 1\n",
            "s -> 1\n"
          ],
          "name": "stdout"
        }
      ]
    },
    {
      "cell_type": "code",
      "metadata": {
        "colab": {
          "base_uri": "https://localhost:8080/"
        },
        "id": "a_9LYI3oIhb-",
        "outputId": "43fed5b4-456f-468f-8f0b-421ae8672ccd"
      },
      "source": [
        "# Vamos a crear un programa en python donde vamos a declarar un diccionario para guardar \n",
        "# los precios de las distintas frutas. El programa pedirá el nombre de la fruta \n",
        "# y la cantidad que se ha vendido y nos mostrará el precio final de la fruta a partir \n",
        "# de los datos guardados en el diccionario. Si la fruta no existe nos dará un error. \n",
        "# Tras cada consulta el programa nos preguntará si queremos hacer otra consulta.\n",
        "\n",
        "precios = {\"manzana\": 2, \"naranja\": 1.5, \"platano\": 4, \"piña\": 3}\n",
        "while True:\n",
        "    fruta = input(\"Dime la fruta que has vendido:\")\n",
        "    if fruta.lower() not in precios:\n",
        "        print(\"Fruta no existe.\")\n",
        "    else:\n",
        "        cantidad = int(input(\"Dime la cantidad de frutas que has vendido:\"))\n",
        "        print(\"El precio es de %f\" % (cantidad * precios[fruta]))\n",
        "    opcion = input(\"¿Quieres vender otra fruta (s/n)\")\n",
        "    while opcion.lower() != \"s\" and opcion.lower() != \"n\":\n",
        "        opcion = input(\"¿Quieres vender otra fruta (s/n)\")\n",
        "    if opcion.lower() == \"n\":\n",
        "        break\n"
      ],
      "execution_count": null,
      "outputs": [
        {
          "output_type": "stream",
          "text": [
            "Dime la fruta que has vendido:manzana\n",
            "Dime la cantidad de frutas que has vendido:10\n",
            "El precio es de 20.000000\n",
            "¿Quieres vender otra fruta (s/n)s\n",
            "Dime la fruta que has vendido:naranja\n",
            "Dime la cantidad de frutas que has vendido:50\n",
            "El precio es de 75.000000\n",
            "¿Quieres vender otra fruta (s/n)n\n"
          ],
          "name": "stdout"
        }
      ]
    },
    {
      "cell_type": "code",
      "metadata": {
        "colab": {
          "base_uri": "https://localhost:8080/"
        },
        "id": "BziogQDPIxYa",
        "outputId": "56512e3d-e5cf-4e40-cf66-4979e4255fc6"
      },
      "source": [
        "# Codifica un programa en python que nos permita guardar los nombres de los alumnos de una clase \n",
        "# y las notas que han obtenido. Cada alumno puede tener distinta cantidad de notas. \n",
        "# Guarda la información en un diccionario cuya claves serán los nombres de los alumnos \n",
        "# y los valores serán listas con las notas de cada alumno.\n",
        "\n",
        "# El programa pedirá el número de alumnos que vamos a introducir, pedirá su nombre e irá \n",
        "# pidiendo sus notas hasta que introduzcamos un número negativo. \n",
        "# Al final el programa nos mostrará la lista de alumnos y la nota media obtenida por cada uno de ellos. \n",
        "# Nota: si se introduce el nombre de un alumno que ya existe el programa nos dará un error.\n",
        "\n",
        "alumnos = {}\n",
        "cantidad = int(input(\"Introduce la cantidad de alumnos que vamos a guradar:\"))\n",
        "for num in range(cantidad):\n",
        "    alumno = input(\"Nombre del alumno:\")\n",
        "    while alumno in alumnos:\n",
        "        print(\"Alumno ya existe.\")\n",
        "        alumno = input(\"Nombre del alumno:\")\n",
        "    notas=[]\n",
        "    nota = int(input(\"Dame una nota del alumno (negativo para terminar):\"))\n",
        "    while nota > 0:\n",
        "        notas.append(nota)\n",
        "        nota = int(input(\"Dame una nota del alumno (negativo para terminar):\"))\n",
        "    alumnos[alumno] = notas.copy()\n",
        "\n",
        "for alumno, notas in alumnos.items():\n",
        "    print(\"%s ha sacado de nota media %f\" % (alumno,sum(notas)/len(notas)))\n"
      ],
      "execution_count": null,
      "outputs": [
        {
          "output_type": "stream",
          "text": [
            "Introduce la cantidad de alumnos que vamos a guradar:2\n",
            "Nombre del alumno:Alfonso\n",
            "Dame una nota del alumno (negativo para terminar):10\n",
            "Dame una nota del alumno (negativo para terminar):5\n",
            "Dame una nota del alumno (negativo para terminar):2\n",
            "Dame una nota del alumno (negativo para terminar):1\n",
            "Dame una nota del alumno (negativo para terminar):-5\n",
            "Nombre del alumno:Juan\n",
            "Dame una nota del alumno (negativo para terminar):10\n",
            "Dame una nota del alumno (negativo para terminar):3\n",
            "Dame una nota del alumno (negativo para terminar):4\n",
            "Dame una nota del alumno (negativo para terminar):-5\n",
            "Alfonso ha sacado de nota media 4.500000\n",
            "Juan ha sacado de nota media 5.666667\n"
          ],
          "name": "stdout"
        }
      ]
    },
    {
      "cell_type": "code",
      "metadata": {
        "colab": {
          "base_uri": "https://localhost:8080/"
        },
        "id": "uTJOJpGAJCQi",
        "outputId": "41ba6d4a-f6f9-48b2-dbb6-beb965d7d776"
      },
      "source": [
        "# Escribir un programa que implemente una agenda. En la agenda se podrán guardar nombres y números de teléfono. \n",
        "# El programa nos dará el siguiente menú:\n",
        "# \n",
        "# * Añadir/modificar: Nos pide un nombre. Si el nombre se encuentra en la agenda, debe mostrar el teléfono y, \n",
        "# opcionalmente, permitir modificarlo si no es correcto. Si el nombre no se encuentra, debe \n",
        "# permitir ingresar el teléfono correspondiente. \n",
        "# * Buscar: Nos pide una cadena de caracteres, y nos muestras todos los contactos cuyos nombres comiencen por dicha cadena.\n",
        "# * Borrar: Nos pide un nombre y si existe nos preguntará si queremos borrarlo de la agenda.\n",
        "# * Listar: Nos muestra todos los contactos de la agenda.\n",
        "# \n",
        "# Implementar el programa con un diccionario.\n",
        "\n",
        "agenda = {}\n",
        "while True:\n",
        "    print(\"\\n\")\n",
        "    print(\"1. Añadir/modificar\")\n",
        "    print(\"2. Buscar\")\n",
        "    print(\"3. Borrar\")\n",
        "    print(\"4. Listar\")\n",
        "    print(\"5. Salir\")\n",
        "    \n",
        "    opcion = int(input(\"Dime opción:\"))\n",
        "    if opcion == 1:\n",
        "        nombre = input(\"Nombre del contacto:\")    \n",
        "        if nombre in agenda:\n",
        "            print(\"%s ya existe su número de teléfono es %s\" % (nombre,agenda[nombre]))\n",
        "            opcion = input(\"Pulsa 's' si quieres modificarlo!!!. Otra tecla para continuar.\")\n",
        "            if opcion == \"s\":\n",
        "                numero = input(\"Dame el nuevo número de teléfono:\")\n",
        "                agenda[nombre]=numero\n",
        "        else:\n",
        "            numero = input(\"Dame el número de teléfono:\")\n",
        "            agenda[nombre]=numero\n",
        "    elif opcion == 2:\n",
        "        cadena = input(\"Nombre del contacto a buscar:\")    \n",
        "        for nombre, numero in agenda.items():\n",
        "            if nombre.startswith(cadena):\n",
        "                print(\"El número de teléfono de %s es el %s\" % (nombre,agenda[nombre]))\n",
        "    elif opcion == 3:\n",
        "        nombre = input(\"Nombre del contacto para borrar:\")    \n",
        "        if nombre in agenda:\n",
        "            opcion = input(\"Pulsa 's' si quieres borrarlo!!!. Otra tecla para continuar.\")\n",
        "            if opcion == \"s\":\n",
        "                del agenda[nombre]\n",
        "        else:\n",
        "            print(\"No existe el contacto\")\n",
        "    elif opcion == 4:\n",
        "        for nombre, numero in agenda.items():\n",
        "            print(nombre,\"->\",numero)\n",
        "    elif opcion == 5:\n",
        "        break\n",
        "    else:\n",
        "        print(\"Opción incorrecta\")\n",
        "\n"
      ],
      "execution_count": null,
      "outputs": [
        {
          "output_type": "stream",
          "text": [
            "\n",
            "\n",
            "1. Añadir/modificar\n",
            "2. Buscar\n",
            "3. Borrar\n",
            "4. Listar\n",
            "5. Salir\n",
            "Dime opción:1\n",
            "Nombre del contacto:Alfonso\n",
            "Dame el número de teléfono:633184302\n",
            "\n",
            "\n",
            "1. Añadir/modificar\n",
            "2. Buscar\n",
            "3. Borrar\n",
            "4. Listar\n",
            "5. Salir\n",
            "Dime opción:4\n",
            "Alfonso -> 633184302\n",
            "\n",
            "\n",
            "1. Añadir/modificar\n",
            "2. Buscar\n",
            "3. Borrar\n",
            "4. Listar\n",
            "5. Salir\n",
            "Dime opción:1\n",
            "Nombre del contacto:Eli\n",
            "Dame el número de teléfono:666006600\n",
            "\n",
            "\n",
            "1. Añadir/modificar\n",
            "2. Buscar\n",
            "3. Borrar\n",
            "4. Listar\n",
            "5. Salir\n",
            "Dime opción:4\n",
            "Alfonso -> 633184302\n",
            "Eli -> 666006600\n",
            "\n",
            "\n",
            "1. Añadir/modificar\n",
            "2. Buscar\n",
            "3. Borrar\n",
            "4. Listar\n",
            "5. Salir\n",
            "Dime opción:5\n"
          ],
          "name": "stdout"
        }
      ]
    },
    {
      "cell_type": "code",
      "metadata": {
        "colab": {
          "base_uri": "https://localhost:8080/"
        },
        "id": "WBHVONwSHsS_",
        "outputId": "2bee91ad-0172-4453-f457-6dff3bd2919b"
      },
      "source": [
        "'''Durante el desarrollo de un pequeño videojuego se te encarga configurar y balancear cada clase de personaje jugable. Partiendo que la estadística base es 2, debes cumplir las siguientes condiciones: **\n",
        "* El caballero tiene el doble de vida y defensa que un guerrero.\n",
        "* El guerrero tiene el doble de ataque y alcance que un caballero.\n",
        "* El arquero tiene la misma vida y ataque que un guerrero, pero la mitad de su defensa y el doble de su alcance.\n",
        "* Muestra como quedan las propiedades de los tres personajes.\n",
        "'''\n",
        "caballero = { 'vida':2, 'ataque':2, 'defensa': 2, 'alcance':2 }\n",
        "guerrero  = { 'vida':2, 'ataque':2, 'defensa': 2, 'alcance':2 }\n",
        "arquero   = { 'vida':2, 'ataque':2, 'defensa': 2, 'alcance':2 }\n",
        "\n",
        "\n",
        "caballero['vida']    = guerrero['vida'] * 2\n",
        "caballero['defensa'] = guerrero['defensa'] * 2\n",
        "\n",
        "guerrero['ataque']   = caballero['ataque'] * 2\n",
        "guerrero['alcance']  = caballero['alcance'] * 2\n",
        "\n",
        "arquero['vida']     = guerrero['vida']\n",
        "arquero['ataque']   = guerrero['ataque']\n",
        "arquero['defensa']  = guerrero['defensa'] / 2\n",
        "arquero['alcance']  = guerrero['alcance'] * 2\n",
        "\n",
        "print(\"Caballero:\\t\", caballero)\n",
        "print(\"Guerrero:\\t\", guerrero)\n",
        "print(\"Arquero:\\t\", arquero)"
      ],
      "execution_count": null,
      "outputs": [
        {
          "output_type": "stream",
          "text": [
            "Caballero:\t {'vida': 4, 'ataque': 2, 'defensa': 4, 'alcance': 2}\n",
            "Guerrero:\t {'vida': 2, 'ataque': 4, 'defensa': 2, 'alcance': 4}\n",
            "Arquero:\t {'vida': 2, 'ataque': 4, 'defensa': 1.0, 'alcance': 8}\n"
          ],
          "name": "stdout"
        }
      ]
    },
    {
      "cell_type": "markdown",
      "metadata": {
        "id": "NOpoc6GTOYzB"
      },
      "source": [
        "## Diccionarios vs Listas\n",
        "\n",
        "Si tuvieras que escribir un script para verificar si una persona se ha registrado para un evento, ¿qué estructura de datos de Python usarías?\n",
        "![VS](https://i0.wp.com/www.jessicayung.com/wp-content/uploads/2018/03/ramalho_dictssetslists1.png?w=398)\n",
        "\n",
        "**Resulta que buscar elementos en un diccionario de Python es mucho más rápido que buscar elementos en una lista de Python**. ¿Cuanto más rápido? Suponga que desea verificar si 1000 elementos (agujas) están en un conjunto de datos (pajar) con norteelementos. Si busca entre 10 millones de elementos, usar un diccionario o conjunto es 100.000 veces más rápido que usar una lista.\n",
        "\n",
        "Un diccionario utiliza una estructura de datos llamada** mapa hash** (los diccionarios de Python son versiones optimizadas), y una clave se convertirá usando un algoritmo hash de una cadena (o lo que sea) en un valor entero, y son un par de cálculos muy simples para realizar ese entero y busque el lugar correcto en el diccionario para buscar.\n",
        "\n"
      ]
    },
    {
      "cell_type": "code",
      "metadata": {
        "colab": {
          "base_uri": "https://localhost:8080/"
        },
        "id": "oarYdq_APxV_",
        "outputId": "7568cdaf-a8ab-43c2-f8b7-70470124f92c"
      },
      "source": [
        "%%time \n",
        "precios = {\"manzana\": 2, \"naranja\": 1.5, \"platano\": 4, \"piña\": 3}\n",
        "precios"
      ],
      "execution_count": null,
      "outputs": [
        {
          "output_type": "stream",
          "text": [
            "CPU times: user 11 µs, sys: 0 ns, total: 11 µs\n",
            "Wall time: 16.2 µs\n"
          ],
          "name": "stdout"
        }
      ]
    },
    {
      "cell_type": "code",
      "metadata": {
        "colab": {
          "base_uri": "https://localhost:8080/"
        },
        "id": "U3B4oxYVQrv8",
        "outputId": "16713085-56f8-479b-8f40-e6c463c2ccf9"
      },
      "source": [
        "#código que mide el tiempo necesario para ejecutar 1,000,000 de veces una búsqueda en el diccionario (la declaración '7498' in D)\n",
        "from timeit import Timer\n",
        "\n",
        "D = {}\n",
        "\n",
        "for i in range(10000):\n",
        "  D[str(i)] = i\n",
        "\n",
        "print(Timer(\"'7498' in D\", \"from __main__ import D\").timeit())"
      ],
      "execution_count": null,
      "outputs": [
        {
          "output_type": "stream",
          "text": [
            "0.04308581700024661\n"
          ],
          "name": "stdout"
        }
      ]
    },
    {
      "cell_type": "code",
      "metadata": {
        "colab": {
          "base_uri": "https://localhost:8080/",
          "height": 239
        },
        "id": "ilYf72PxQVu3",
        "outputId": "fcbf0f82-5f76-43fb-c59b-0db249de5102"
      },
      "source": [
        "# use Python3's dictionary comprehension to\n",
        "# speed up list searches\n",
        "#\n",
        "# the time it takes to create the dictionary\n",
        "# will be regained after about 6 searches\n",
        "# as list size increases this goes down to > 1 search\n",
        "# tested with Python 3.1.1  vegaseat\n",
        "\n",
        "import timeit\n",
        "\n",
        "data = \"\"\"\\\n",
        "Bill\n",
        "Brutus\n",
        "Daphne\n",
        "Dorky\n",
        "Al\n",
        "Kristin\n",
        "Cloe\n",
        "Carlos\n",
        "Pete\n",
        "Pheobe\n",
        "Jerry\n",
        "Jack\n",
        "Justin\n",
        "John\n",
        "Julie\n",
        "Joe\n",
        "Moe\n",
        "Theo\n",
        "Albert\n",
        "Alberto\n",
        "Pauline\n",
        "Paula\n",
        "Christopher\n",
        "Gisela\n",
        "Lamar\n",
        "Donna\n",
        "Demitrius\n",
        "Frank\n",
        "Heidi\n",
        "Margot\n",
        "Cindy\n",
        "Doris\n",
        "Harry\n",
        "Larry\n",
        "Dilbert\n",
        "Mary\n",
        "Robert\n",
        "Sophia\n",
        "Samuel\n",
        "Candy\n",
        "Tawny\n",
        "Terry\n",
        "Markus\n",
        "Veronika\n",
        "Norbert\n",
        "Zoe\n",
        "Udo\"\"\"\n",
        "\n",
        "# create a list of names from the data\n",
        "mylist = data.split('\\n')\n",
        "\n",
        "# create a dictionary with name:zero pairs from the list\n",
        "mylist_d = {name:0 for name in mylist}\n",
        "\n",
        "# search for 'Udo' is the last item in the list and dictionary\n",
        "statement = \"'Udo' in mylist\"\n",
        "setup = \"from __main__ import mylist\"\n",
        "t = timeit.Timer(statement, setup)\n",
        "# doing 1000000 passes (default) gives microseconds per pass\n",
        "elapsed = t.timeit()\n",
        "sf = \"Code  %-20s takes %0.3f micro-seconds/pass\"\n",
        "print( sf % (statement, elapsed))\n",
        "\n",
        "statement = \"'Udo' in mylist_d\"\n",
        "setup = \"from __main__ import mylist_d\"\n",
        "t = timeit.Timer(statement, setup)\n",
        "elapsed = t.timeit()\n",
        "sf = \"Code  %-20s takes %0.3f micro-seconds/pass\"\n",
        "print( sf % (statement, elapsed))\n",
        "\n",
        "print('-'*60)\n",
        "\n",
        "statement = \"{name:0 for name in mylist}\"\n",
        "setup = \"from __main__ import mylist\"\n",
        "t = timeit.Timer(statement, setup)\n",
        "elapsed = t.timeit()\n",
        "sf = \"Code  %-20s takes %0.3f micro-seconds/pass\"\n",
        "print( sf % (statement, elapsed))\n",
        "\n",
        "print('-'*60)\n",
        "\n",
        "# optional tests to show the last 4 items in list and dictionary\n",
        "print(\"Last 4 items in list and dictionary:\")\n",
        "print(mylist[-4:])\n",
        "print(list(mylist_d.keys())[-4:])\n",
        "\n",
        "\"\"\"my result -->\n",
        "Code  'Udo' in mylist      takes 2.193 micro-seconds/pass\n",
        "Code  'Udo' in mylist_d    takes 0.182 micro-seconds/pass\n",
        "------------------------------------------------------------\n",
        "Code  {name:0 for name in mylist} takes 11.151 micro-seconds/pass\n",
        "------------------------------------------------------------\n",
        "Last 4 items in list and dictionary:\n",
        "['Veronika', 'Norbert', 'Zoe', 'Udo']\n",
        "['Dilbert', 'Julie', 'Al', 'Udo']\n",
        "\"\"\""
      ],
      "execution_count": null,
      "outputs": [
        {
          "output_type": "stream",
          "text": [
            "Code  'Udo' in mylist      takes 0.557 micro-seconds/pass\n",
            "Code  'Udo' in mylist_d    takes 0.036 micro-seconds/pass\n",
            "------------------------------------------------------------\n",
            "Code  {name:0 for name in mylist} takes 2.416 micro-seconds/pass\n",
            "------------------------------------------------------------\n",
            "Last 4 items in list and dictionary:\n",
            "['Veronika', 'Norbert', 'Zoe', 'Udo']\n",
            "['Veronika', 'Norbert', 'Zoe', 'Udo']\n"
          ],
          "name": "stdout"
        },
        {
          "output_type": "execute_result",
          "data": {
            "application/vnd.google.colaboratory.intrinsic+json": {
              "type": "string"
            },
            "text/plain": [
              "\"my result -->\\nCode  'Udo' in mylist      takes 2.193 micro-seconds/pass\\nCode  'Udo' in mylist_d    takes 0.182 micro-seconds/pass\\n------------------------------------------------------------\\nCode  {name:0 for name in mylist} takes 11.151 micro-seconds/pass\\n------------------------------------------------------------\\nLast 4 items in list and dictionary:\\n['Veronika', 'Norbert', 'Zoe', 'Udo']\\n['Dilbert', 'Julie', 'Al', 'Udo']\\n\""
            ]
          },
          "metadata": {
            "tags": []
          },
          "execution_count": 79
        }
      ]
    },
    {
      "cell_type": "markdown",
      "metadata": {
        "id": "YPE7gmPrvN81"
      },
      "source": [
        "# **7. Bucles**\n",
        "\n"
      ]
    },
    {
      "cell_type": "markdown",
      "metadata": {
        "id": "E7te1P3xTZC3"
      },
      "source": [
        "## **Teoria**\n",
        "\n",
        "Los tipos de bucles que existen son:\n",
        "\n",
        "1.   Bucle **while**: El ciclo while nos permite realizar múltiples iteraciones basándonos en el resultado de una expresión lógica que puede tener como resultado un valor True o False.\n",
        "\n",
        "*La ejecución de esta estructura de control while es la siguiente:*\n",
        "\n",
        "Python evalúa la condición:\n",
        "si el resultado es True se ejecuta el cuerpo del bucle. Una vez ejecutado el cuerpo del bucle, se repite el proceso (se evalúa de nuevo la condición y, si es cierta, se ejecuta de nuevo el cuerpo del bucle) una y otra vez mientras la condición sea cierta.\n",
        "si el resultado es False, el cuerpo del bucle no se ejecuta y continúa la ejecución del resto del programa.\n",
        "La variable o las variables que aparezcan en la condición se suelen llamar variables de control. Las variables de control deben definirse antes del bucle while y modificarse en el bucle while.\n",
        "\n",
        "Al igual que sucede con el bucle for, podemos alterar el flujo de ejecución del bucle while con las sentencias break y continue:\n",
        "\n",
        "- **break** se utiliza para finalizar y salir el bucle, por ejemplo, si se cumple alguna condición.\n",
        "\n",
        "- **continue** salta al siguiente paso de la iteración, ignorando todas las sentencias que le siguen y que forman parte del bucle.\n",
        "\n",
        "\n",
        "\n",
        "```\n",
        "# while condición:\n",
        "    bloque de código\n",
        "```\n",
        "\n",
        "\n",
        "2.   Bucle **for**: El bucle for se utiliza para recorrer los elementos de un objeto iterable (lista, tupla, conjunto, diccionario, …) y ejecutar un bloque de código. En cada paso de la iteración se tiene en cuenta a un único elemento del objeto iterable, sobre el cuál se pueden aplicar una serie de operaciones.\n",
        "\n",
        "  En realidad, el ciclo for está diseñado para realizar tareas más complicadas, puede \"explorar\" grandes colecciones de datos elemento por elemento. \n",
        "\n",
        "\n",
        "```\n",
        "# for <elem> in <iterable>:\n",
        "    <Tu código>\n",
        "```\n",
        "\n"
      ]
    },
    {
      "cell_type": "markdown",
      "metadata": {
        "id": "HFZ1_2qv17SP"
      },
      "source": [
        "## Ejercicios con bucle while"
      ]
    },
    {
      "cell_type": "code",
      "metadata": {
        "colab": {
          "base_uri": "https://localhost:8080/"
        },
        "id": "DOMenq0HyCQ5",
        "outputId": "f79ab98d-0375-49bb-8f85-d59c33957968"
      },
      "source": [
        "# bucle while que imprima todos los elementos dentro de una lista.\n",
        "lenguajes = [\"Python\", \"C\", \"C++\", \"Java\"]\n",
        "i = 0\n",
        "\n",
        "while i < len(lenguajes):\n",
        "    print(lenguajes[i])\n",
        "    i += 1"
      ],
      "execution_count": null,
      "outputs": [
        {
          "output_type": "stream",
          "text": [
            "Python\n",
            "C\n",
            "C++\n",
            "Java\n"
          ],
          "name": "stdout"
        }
      ]
    },
    {
      "cell_type": "code",
      "metadata": {
        "colab": {
          "base_uri": "https://localhost:8080/"
        },
        "id": "0f6xgyv2SIHl",
        "outputId": "a66bec5d-5359-4a0a-ff41-471df367e85f"
      },
      "source": [
        "# los ciclos también pueden tener la rama else, como los if.\n",
        "i = 1\n",
        "while i < 5:\n",
        "    print (i)\n",
        "    i += 1\n",
        "else:\n",
        "    print(\"else:\", i)"
      ],
      "execution_count": null,
      "outputs": [
        {
          "output_type": "stream",
          "text": [
            "1\n",
            "2\n",
            "3\n",
            "4\n",
            "else: 5\n"
          ],
          "name": "stdout"
        }
      ]
    },
    {
      "cell_type": "code",
      "metadata": {
        "colab": {
          "base_uri": "https://localhost:8080/"
        },
        "id": "fPWo6_lqzzL8",
        "outputId": "cd3ee896-5548-49b1-b793-0cc2d6a943d3"
      },
      "source": [
        "# Ejemplo solicita un número positivo hasta que lo introduzca\n",
        "numero = int(input(\"Escriba un número positivo: \"))\n",
        "\n",
        "while numero < 0:\n",
        "    print(\"¡Ha escrito un número negativo! Inténtelo de nuevo\")\n",
        "    numero = int(input(\"Escriba un número positivo: \"))\n",
        "print(\"Gracias por su colaboración\")"
      ],
      "execution_count": null,
      "outputs": [
        {
          "output_type": "stream",
          "text": [
            "Escriba un número positivo: 5\n",
            "Gracias por su colaboración\n"
          ],
          "name": "stdout"
        }
      ]
    },
    {
      "cell_type": "code",
      "metadata": {
        "colab": {
          "base_uri": "https://localhost:8080/"
        },
        "id": "HwVGVdy00aIv",
        "outputId": "35ac3cb6-1885-4ef5-e02b-d47e4610f138"
      },
      "source": [
        "# Encontrar el numero 2 en la siguiente lista de valores\n",
        "valores = [5, 1, 9, 2, 7, 4]\n",
        "encontrado = False\n",
        "indice = 0\n",
        "longitud = len(valores)\n",
        "while indice < longitud:\n",
        "    valor = valores[indice]\n",
        "    if valor == 2:\n",
        "        encontrado = True\n",
        "        break\n",
        "    else:\n",
        "        indice += 1\n",
        "if encontrado:\n",
        "    print(f'El elemento 2 ha sido encontrado en el índice {indice}')\n",
        "else:\n",
        "    print('El elemento 2 no se encuentra en la lista de valores')"
      ],
      "execution_count": null,
      "outputs": [
        {
          "output_type": "stream",
          "text": [
            "El elemento 2 ha sido encontrado en el índice 3\n"
          ],
          "name": "stdout"
        }
      ]
    },
    {
      "cell_type": "code",
      "metadata": {
        "id": "8U0WJ_HQO-y0"
      },
      "source": [
        "# programa que lee una secuencia de números\n",
        "# y cuenta cuántos números son pares y cuántos son impares\n",
        "# programa termina cuando se ingresa cero\n",
        "\n",
        "numerosImpares = 0\n",
        "numerosPares = 0\n",
        "\n",
        "# lee el primer número\n",
        "numero = int (input (\"Introduce un número o escriba 0 para detener:\"))\n",
        "\n",
        "# 0 termina la ejecución\n",
        "while numero != 0:\n",
        "    # verificar si el número es impar\n",
        "    if numero % 2 == 1:\n",
        "        # aumentar el contador de números impares\n",
        "        numerosImpares += 1\n",
        "    else:\n",
        "        # aumentar el contador de números pares\n",
        "        numerosPares += 1\n",
        "    # lee el siguiente número\n",
        "    numero = int (input (\"Introduce un número o escriba 0 para detener:\"))\n",
        "\n",
        "# imprimir resultados\n",
        "print(\"Números impares: \", numerosImpares)\n",
        "print(\"Números pares: \", numerosPares)"
      ],
      "execution_count": null,
      "outputs": []
    },
    {
      "cell_type": "code",
      "metadata": {
        "colab": {
          "base_uri": "https://localhost:8080/"
        },
        "id": "9Y_BjMmSYwQv",
        "outputId": "2e73267d-8eb7-4df0-841b-9e247163fca0"
      },
      "source": [
        "#Tu tarea es escribir un programa que lea la cantidad de bloques que tienen los constructores, y generar la altura de la pirámide que se puede construir utilizando estos bloques.\n",
        "# La pirámide se apila de acuerdo con un principio simple: cada capa inferior contiene un bloque más que la capa superior.\n",
        "#La altura se mide por el número de capas completas: si los constructores no tienen la cantidad suficiente de bloques y no pueden completar la siguiente capa, terminan su trabajo inmediatamente.\n",
        "bloques = int(input(\"Introduzca el número de bloques disponibles: \"))\n",
        " \n",
        "altura = 0\n",
        "utilizados = 0\n",
        "por_fila = 1\n",
        " \n",
        "while True:\n",
        "    utilizados += por_fila\n",
        "    if utilizados > bloques:\n",
        "        break\n",
        " \n",
        "    altura += 1\n",
        "    por_fila += 1\n",
        " \n",
        " \n",
        "print(\"La altura de la pirámide es de: \", altura)\n"
      ],
      "execution_count": null,
      "outputs": [
        {
          "output_type": "stream",
          "text": [
            "Introduzca el número de bloques disponibles: 1000\n",
            "La altura de la pirámide es de:  44\n"
          ],
          "name": "stdout"
        }
      ]
    },
    {
      "cell_type": "code",
      "metadata": {
        "colab": {
          "base_uri": "https://localhost:8080/"
        },
        "id": "7Cw-G7b9Zpl-",
        "outputId": "a434a6dd-1bb1-45cd-9829-fd8911b8bfc9"
      },
      "source": [
        "'''\n",
        "En 1937, un matemático alemán llamado Lothar Collatz formuló una hipótesis intrigante (aún no se ha comprobado) que se puede describir de la siguiente manera:\n",
        "\n",
        "Toma cualquier número entero que no sea negativo y que no sea cero y asígnale el nombre c0.\n",
        "Si es par, evalúa un nuevo c0 como c0 ÷ 2.\n",
        "De lo contrario, si es impar, evalúe un nuevo  c0  como 3 × c0 + 1.\n",
        "Si c0 ≠ 1, salta al punto 2.\n",
        "La hipótesis dice que, independientemente del valor inicial de c0, el valor siempre tiende a 1.\n",
        "'''\n",
        "\n",
        "# Escribe un programa que lea un número natural y ejecute los pasos anteriores siempre que c0 sea diferente de 1. \n",
        "#También queremos que cuente los pasos necesarios para lograr el objetivo. Tu código también debe mostrar todos los valores intermedios de c0.\n",
        "c = int(input(\"Ingresa un número:\"))\n",
        "while c<=0:\n",
        "    c = int(input(\"Ingresa un número:\"))\n",
        "c0=c\n",
        "pasos=0\n",
        "while c0!=1:\n",
        "    if c0%2 == 0:\n",
        "        c0=int(c0/2)\n",
        "        print(c0)\n",
        "        pasos=pasos+1\n",
        "    elif c0%2== 1:\n",
        "        c0=3*c0 +1\n",
        "        print(c0)\n",
        "        pasos=pasos+1\n",
        "print(\"pasos=\",pasos)"
      ],
      "execution_count": null,
      "outputs": [
        {
          "output_type": "stream",
          "text": [
            "Ingresa un número:16\n",
            "8\n",
            "4\n",
            "2\n",
            "1\n",
            "pasos= 4\n"
          ],
          "name": "stdout"
        }
      ]
    },
    {
      "cell_type": "markdown",
      "metadata": {
        "id": "NvEL7_M41_5e"
      },
      "source": [
        "## Ejercicios con bucles for"
      ]
    },
    {
      "cell_type": "code",
      "metadata": {
        "id": "5-gbrO-C2D1b",
        "colab": {
          "base_uri": "https://localhost:8080/"
        },
        "outputId": "5436c0aa-3af7-459b-cb87-3503ff34f343"
      },
      "source": [
        "# Mostrar una lista de numeros:\n",
        "nums = [4, 78, 9, 84]\n",
        "for n in nums:\n",
        "    print(n)"
      ],
      "execution_count": null,
      "outputs": [
        {
          "output_type": "stream",
          "text": [
            "4\n",
            "78\n",
            "9\n",
            "84\n"
          ],
          "name": "stdout"
        }
      ]
    },
    {
      "cell_type": "code",
      "metadata": {
        "id": "9coBtC7X2NKm",
        "colab": {
          "base_uri": "https://localhost:8080/"
        },
        "outputId": "87eac1d9-11ae-4261-9ea5-ea82b7d2f1fc"
      },
      "source": [
        "# Recorrer un diccionario:\n",
        "valores = {'A': 4, 'E': 3, 'I': 1, 'O': 0}\n",
        "for k in valores:\n",
        "    print(k)"
      ],
      "execution_count": null,
      "outputs": [
        {
          "output_type": "stream",
          "text": [
            "A\n",
            "E\n",
            "I\n",
            "O\n"
          ],
          "name": "stdout"
        }
      ]
    },
    {
      "cell_type": "code",
      "metadata": {
        "colab": {
          "base_uri": "https://localhost:8080/"
        },
        "id": "Jj5LulOETFjT",
        "outputId": "08f12c8d-e523-4869-e2ed-651e037a1da6"
      },
      "source": [
        "# El cuerpo del ciclo no se ejecutará aquí en absoluto. Nota: hemos asignado la variable i antes del ciclo.\n",
        "#Cuando el cuerpo del ciclo no se ejecuta, la variable de control conserva el valor que tenía antes del ciclo.\n",
        "#i la variable de control no existe antes de que comience el ciclo, no existirá cuando la ejecución llegue a la rama else.\n",
        "i = 111\n",
        "for i in range(2, 1):\n",
        "    print(i)\n",
        "else:\n",
        "    print(\"else:\", i) \n"
      ],
      "execution_count": null,
      "outputs": [
        {
          "output_type": "stream",
          "text": [
            "else: 111\n"
          ],
          "name": "stdout"
        }
      ]
    },
    {
      "cell_type": "code",
      "metadata": {
        "id": "i1Ll7QSIBPTl",
        "colab": {
          "base_uri": "https://localhost:8080/"
        },
        "outputId": "476be46d-5570-42f1-f6fe-ab3e6656c496"
      },
      "source": [
        "# Encontrar un elemento en una colección\n",
        "coleccion = [2, 4, 5, 7, 8, 9, 3, 4]\n",
        "for e in coleccion:\n",
        "    if e == 7:\n",
        "        break\n",
        "    print(e)"
      ],
      "execution_count": null,
      "outputs": [
        {
          "output_type": "stream",
          "text": [
            "2\n",
            "4\n",
            "5\n"
          ],
          "name": "stdout"
        }
      ]
    },
    {
      "cell_type": "code",
      "metadata": {
        "id": "chAws233BZOZ",
        "colab": {
          "base_uri": "https://localhost:8080/"
        },
        "outputId": "30eaba5e-c871-45cc-e013-286dac7bcfad"
      },
      "source": [
        "# La secuencia numeros contiene al número 3, la instrucción print nunca se ejecutará.\n",
        "numeros = [1, 2, 4, 3, 5, 8, 6]\n",
        "for n in numeros:\n",
        "    if n == 10:\n",
        "        break\n",
        "else:\n",
        "    print('No se encontró el número',n)"
      ],
      "execution_count": null,
      "outputs": [
        {
          "output_type": "stream",
          "text": [
            "No se encontró el número 6\n"
          ],
          "name": "stdout"
        }
      ]
    },
    {
      "cell_type": "code",
      "metadata": {
        "id": "sReUyGdHCO0U",
        "colab": {
          "base_uri": "https://localhost:8080/"
        },
        "outputId": "820c0c47-2f9f-46f0-b7cd-b2b758034a34"
      },
      "source": [
        "#Comprobar si el formato del email es correcto\n",
        "email=False\n",
        "miEmail=input(\"Introduce tu dirección de email:\")\n",
        "for i in miEmail:\n",
        "  if(i==\"@\"):\n",
        "    email=True\n",
        "if email==True:\n",
        "  print(\"Email es correcto\")\n",
        "else:\n",
        "  print(\"El email no es correcto\")"
      ],
      "execution_count": null,
      "outputs": [
        {
          "output_type": "stream",
          "text": [
            "Introduce tu dirección de email:gallardo_rivilla@hotmail.com\n",
            "Email es correcto\n"
          ],
          "name": "stdout"
        }
      ]
    },
    {
      "cell_type": "code",
      "metadata": {
        "id": "gccxfF9FDg54",
        "colab": {
          "base_uri": "https://localhost:8080/"
        },
        "outputId": "5b646b79-178b-4873-acdc-05b2063e99dd"
      },
      "source": [
        "#For usando funcion range()\n",
        "for i in range(5):\n",
        "  print(f\"valor de la varaible {i}\") # con la instrucción f (version python 3.X) podemos concatenar texto con numeros entre {}"
      ],
      "execution_count": null,
      "outputs": [
        {
          "output_type": "stream",
          "text": [
            "valor de la varaible 0\n",
            "valor de la varaible 1\n",
            "valor de la varaible 2\n",
            "valor de la varaible 3\n",
            "valor de la varaible 4\n"
          ],
          "name": "stdout"
        }
      ]
    },
    {
      "cell_type": "code",
      "metadata": {
        "colab": {
          "base_uri": "https://localhost:8080/"
        },
        "id": "6B2-6wCePzE0",
        "outputId": "15c8ee51-da88-4696-d3f9-8aaf819ae25b"
      },
      "source": [
        "# For usando range() pasando los 3 parametros\n",
        "for i in range(2, 8, 3):\n",
        "    print(\"El valor de i es actualmente\", i)"
      ],
      "execution_count": null,
      "outputs": [
        {
          "output_type": "stream",
          "text": [
            "El valor de i es actualmente 2\n",
            "El valor de i es actualmente 5\n"
          ],
          "name": "stdout"
        }
      ]
    },
    {
      "cell_type": "code",
      "metadata": {
        "id": "FGLadvSTD13W",
        "colab": {
          "base_uri": "https://localhost:8080/"
        },
        "outputId": "56314fe7-51a2-41c3-9902-57ee527c3407"
      },
      "source": [
        "# Recorrer una lista\n",
        "\n",
        "animales = ['gato', 'perro', 'serpiente']\n",
        "for animal in animales:\n",
        "    print (\"El animal es: {0}, tamaño de palabra es: {1}\".format(\n",
        "        animal, len(animal)))\n"
      ],
      "execution_count": null,
      "outputs": [
        {
          "output_type": "stream",
          "text": [
            "El animal es: gato, tamaño de palabra es: 4\n",
            "El animal es: perro, tamaño de palabra es: 5\n",
            "El animal es: serpiente, tamaño de palabra es: 9\n"
          ],
          "name": "stdout"
        }
      ]
    },
    {
      "cell_type": "code",
      "metadata": {
        "id": "xpJmmD0GFo4c",
        "colab": {
          "base_uri": "https://localhost:8080/"
        },
        "outputId": "bd623f94-833d-4d8b-cb57-bed878e71227"
      },
      "source": [
        "#Iterar sobre una cadena de caracteres\n",
        "\n",
        "oracion = 'Alfonso entiende muy bien Python'\n",
        "frases = oracion.split() # convierte a una lista cada palabra\n",
        "print (\"La oración analizada es:\", oracion, \".\\n\")\n",
        "for palabra in range(len(frases)):\n",
        "    print (\"Palabra: {0}, en la frase su posición es: {1}\".format(\n",
        "        frases[palabra], palabra))"
      ],
      "execution_count": null,
      "outputs": [
        {
          "output_type": "stream",
          "text": [
            "La oración analizada es: Alfonso entiende muy bien Python .\n",
            "\n",
            "Palabra: Alfonso, en la frase su posición es: 0\n",
            "Palabra: entiende, en la frase su posición es: 1\n",
            "Palabra: muy, en la frase su posición es: 2\n",
            "Palabra: bien, en la frase su posición es: 3\n",
            "Palabra: Python, en la frase su posición es: 4\n"
          ],
          "name": "stdout"
        }
      ]
    },
    {
      "cell_type": "code",
      "metadata": {
        "id": "WXuLu4y0F7Hp",
        "colab": {
          "base_uri": "https://localhost:8080/"
        },
        "outputId": "7e95bd68-8bfd-4fd4-fc85-abb046cc6e68"
      },
      "source": [
        "# Iterar un diccionario de datos\n",
        "datos_basicos = {\n",
        "    \"nombres\":\"Leonardo Jose\",\n",
        "    \"apellidos\":\"Caballero Garcia\",\n",
        "    \"cedula\":\"26938401\",\n",
        "    \"fecha_nacimiento\":\"03/12/1980\",\n",
        "    \"lugar_nacimiento\":\"Maracaibo, Zulia, Venezuela\",\n",
        "    \"nacionalidad\":\"Venezolana\",\n",
        "    \"estado_civil\":\"Soltero\"\n",
        "}\n",
        "clave = datos_basicos.keys()\n",
        "valor = datos_basicos.values()\n",
        "cantidad_datos = datos_basicos.items()\n",
        "\n",
        "for clave, valor in cantidad_datos:\n",
        "    print (clave + \": \" + valor)"
      ],
      "execution_count": null,
      "outputs": [
        {
          "output_type": "stream",
          "text": [
            "nombres: Leonardo Jose\n",
            "apellidos: Caballero Garcia\n",
            "cedula: 26938401\n",
            "fecha_nacimiento: 03/12/1980\n",
            "lugar_nacimiento: Maracaibo, Zulia, Venezuela\n",
            "nacionalidad: Venezolana\n",
            "estado_civil: Soltero\n"
          ],
          "name": "stdout"
        }
      ]
    },
    {
      "cell_type": "code",
      "metadata": {
        "id": "foNwMDc9GR0I",
        "colab": {
          "base_uri": "https://localhost:8080/"
        },
        "outputId": "652421e0-4bab-46f4-c9ce-3c25efa69caf"
      },
      "source": [
        "#Itera un tupla con datos de conexión a base de datos\n",
        "\n",
        "db_connection = \"127.0.0.1\",\"5432\",\"root\",\"nomina\"\n",
        "for parametro in db_connection:\n",
        "    print (parametro)\n",
        "else:\n",
        "    print (\"\"\"El comando PostgreSQL es: \n",
        "$ psql -h {server} -p {port} -U {user} -d {db_name}\"\"\".format(\n",
        "        server=db_connection[0], port=db_connection[1], \n",
        "        user=db_connection[2], db_name=db_connection[3]))"
      ],
      "execution_count": null,
      "outputs": [
        {
          "output_type": "stream",
          "text": [
            "127.0.0.1\n",
            "5432\n",
            "root\n",
            "nomina\n",
            "El comando PostgreSQL es: \n",
            "$ psql -h 127.0.0.1 -p 5432 -U root -d nomina\n"
          ],
          "name": "stdout"
        }
      ]
    },
    {
      "cell_type": "markdown",
      "metadata": {
        "id": "0wOlJuK8TXYI"
      },
      "source": [
        ""
      ]
    },
    {
      "cell_type": "markdown",
      "metadata": {
        "id": "eVNgO2LQQHCJ"
      },
      "source": [
        "# **8. Las declaraciones break y continue**\n",
        "\n"
      ]
    },
    {
      "cell_type": "markdown",
      "metadata": {
        "id": "6w69_jTKQxL0"
      },
      "source": [
        "## **Teoria**\n",
        "\n",
        "Python proporciona dos instrucciones especiales para la implementación de estas dos tareas. Digamos por razones de precisión que su existencia en el lenguaje no es necesaria: un programador experimentado puede codificar cualquier algoritmo sin estas instrucciones. \n",
        "\n",
        "Tales adiciones, que no mejoran el poder expresivo del lenguaje, sino que solo simplifican el trabajo del desarrollador, a veces se denominan dulces sintácticos o azúcar sintáctica.\n",
        "\n",
        "\n",
        "Estas dos instrucciones son:\n",
        "\n",
        "\n",
        "- **Break**: Sale del ciclo inmediatamente, e incondicionalmente termina la operación del ciclo; el programa comienza a ejecutar la instrucción más cercana después del cuerpo del ciclo.\n",
        "- **Continue**: Se comporta como si el programa hubiera llegado repentinamente al final del cuerpo; el siguiente turno se inicia y la expresión de condición se prueba de inmediato.\n",
        "\n",
        "-------------\n",
        "\n",
        "Ambas palabras son palabras clave reservadas."
      ]
    },
    {
      "cell_type": "markdown",
      "metadata": {
        "id": "PL-laFzAQ9JE"
      },
      "source": [
        "## Ejercicios con break y continue"
      ]
    },
    {
      "cell_type": "code",
      "metadata": {
        "colab": {
          "base_uri": "https://localhost:8080/"
        },
        "id": "-Xc2FXCzRDU-",
        "outputId": "49d3bb30-9262-4839-bb71-744d769a0c5f"
      },
      "source": [
        "# break - ejemplo\n",
        "\n",
        "print(\"La instrucción de ruptura:\")\n",
        "for i in range(1,6):\n",
        "    if i == 3:\n",
        "        break\n",
        "    print(\"Dentro del ciclo.\", i)\n",
        "print(\"Fuera del ciclo.\")\n"
      ],
      "execution_count": null,
      "outputs": [
        {
          "output_type": "stream",
          "text": [
            "La instrucción de ruptura:\n",
            "Dentro del ciclo. 1\n",
            "Dentro del ciclo. 2\n",
            "Fuera del ciclo.\n"
          ],
          "name": "stdout"
        }
      ]
    },
    {
      "cell_type": "code",
      "metadata": {
        "colab": {
          "base_uri": "https://localhost:8080/"
        },
        "id": "Hf0KbswzRHnM",
        "outputId": "ca02bab2-7164-4583-a267-1bbc18c5e580"
      },
      "source": [
        "# continua - ejemplo\n",
        "\n",
        "print(\"\\nLa instrucción continue:\")\n",
        "for i in range(1,6):\n",
        "    if i == 3:\n",
        "        continue\n",
        "    print(\"Dentro del ciclo.\", i)\n",
        "print(\"Fuera del ciclo.\")"
      ],
      "execution_count": null,
      "outputs": [
        {
          "output_type": "stream",
          "text": [
            "\n",
            "La instrucción continue:\n",
            "Dentro del ciclo. 1\n",
            "Dentro del ciclo. 2\n",
            "Dentro del ciclo. 4\n",
            "Dentro del ciclo. 5\n",
            "Fuera del ciclo.\n"
          ],
          "name": "stdout"
        }
      ]
    },
    {
      "cell_type": "code",
      "metadata": {
        "colab": {
          "base_uri": "https://localhost:8080/"
        },
        "id": "qG2OHkjaRRc3",
        "outputId": "537ffa93-efe3-440d-aa6b-ee02ba475b50"
      },
      "source": [
        "#Usando BREAK\n",
        "\n",
        "numeroMayor = -99999999\n",
        "contador = 0\n",
        "\n",
        "while True:\n",
        "    numero = int (input (\"Ingresa un número o escribe -1 para finalizar el programa:\"))\n",
        "    if numero == -1:\n",
        "        break\n",
        "    contador = 1\n",
        "    if numero > numeroMayor:\n",
        "        numeroMayor = numero\n",
        "\n",
        "if contador != 0:\n",
        "    print(\"El número más grande es\", numeroMayor)\n",
        "else:\n",
        "    print(\"No ha ingresado ningún número\")"
      ],
      "execution_count": null,
      "outputs": [
        {
          "output_type": "stream",
          "text": [
            "Ingresa un número o escribe -1 para finalizar el programa:10\n",
            "Ingresa un número o escribe -1 para finalizar el programa:500\n",
            "Ingresa un número o escribe -1 para finalizar el programa:-1\n",
            "El número más grande es 500\n"
          ],
          "name": "stdout"
        }
      ]
    },
    {
      "cell_type": "code",
      "metadata": {
        "id": "xhePJYDqRW_C"
      },
      "source": [
        "#Usando CONTINUE\n",
        "\n",
        "numeroMayor = -99999999\n",
        "contador = 0\n",
        "\n",
        "numero = int (input(\"Ingresa un número o escribe -1 para finalizar el programa:\"))\n",
        "\n",
        "while numero != -1:\n",
        "    if numero == -1:\n",
        "        continue\n",
        "    contador = 1\n",
        "\n",
        "    if numero > numeroMayor:\n",
        "        numeroMayor = numero\n",
        "    numero = int (input (\"Ingresa un número o escribe -1 para finalizar el programa:\"))\n",
        "\n",
        "if contador:\n",
        "    print(\"El número más grande es\", numeroMayor)\n",
        "else:\n",
        "    print(\"No ha ingresado ningún número\") "
      ],
      "execution_count": null,
      "outputs": []
    },
    {
      "cell_type": "markdown",
      "metadata": {
        "id": "yA7yeZi_9fD_"
      },
      "source": [
        "#**9. Funciones**"
      ]
    },
    {
      "cell_type": "markdown",
      "metadata": {
        "id": "mToOOQ_TFtAe"
      },
      "source": [
        "## Teoria\n",
        "\n",
        "Características de las funciones:\n",
        "\n",
        "* Agrupar expresiones y sentencias (algoritmos) que realicen determinadas acciones.\n",
        "*   No es ejecutada al menos que sea llamada.\n",
        "* Se requiere que la función esté definida antes de que sea usada.\n",
        "* Definición de la función es:\n",
        "  ![Funcion](https://s3-us-west-2.amazonaws.com/devcodepro/media/tutorials/funciones-en-python-t1.jpg) \n",
        "\n",
        "La sintaxis para una definición de función en Python es:\n",
        "\n",
        "\n",
        "```\n",
        "# def NOMBRE(LISTA_DE_PARAMETROS):\n",
        "    \"\"\"DOCSTRING_DE_FUNCION\"\"\"\n",
        "    SENTENCIAS\n",
        "    RETURN [EXPRESION]\n",
        "```\n",
        "\n",
        "\n",
        "\n",
        "A continuación se detallan el significado de pseudo código fuente anterior:\n",
        "\n",
        "**NOMBRE**, es el nombre de la función.\n",
        "\n",
        "**LISTA_DE_PARAMETROS**, es la lista de parámetros que puede recibir una función.\n",
        "\n",
        "**DOCSTRING_DE_FUNCION**, es la cadena de caracteres usada para documentar la función.\n",
        "\n",
        "**SENTENCIAS**, es el bloque de sentencias en código fuente Python que realizar cierta operación dada.\n",
        "\n",
        "**RETURN**, es la sentencia return en código Python.\n",
        "\n",
        "**EXPRESION**, es la expresión o variable que devuelve la sentencia return.\n",
        "\n",
        "* Variables locales y globales (global)\n",
        "* Podemos guardar varias funciones en un módulo para reutilizarlas cuando queramos, sería un archivo .py\n",
        "* Funcion principal __main__ "
      ]
    },
    {
      "cell_type": "markdown",
      "metadata": {
        "id": "jfb3fa7SGFrk"
      },
      "source": [
        "## Ejercicios Funciones"
      ]
    },
    {
      "cell_type": "code",
      "metadata": {
        "colab": {
          "base_uri": "https://localhost:8080/"
        },
        "id": "g0OxOpgyGA83",
        "outputId": "ab37279c-813a-4029-8706-e48bc82c62ee"
      },
      "source": [
        "# Declaracion de una funcion básica con una instrucción\n",
        "def letrero():\n",
        "  print(\"Hola soy una funcion\")\n",
        "\n",
        "# LLamo a la función, la podemos llamar las veces que queramoss\n",
        "letrero()"
      ],
      "execution_count": null,
      "outputs": [
        {
          "output_type": "stream",
          "text": [
            "Hola soy una funcion\n"
          ],
          "name": "stdout"
        }
      ]
    },
    {
      "cell_type": "code",
      "metadata": {
        "colab": {
          "base_uri": "https://localhost:8080/"
        },
        "id": "6CVygkkLH6Th",
        "outputId": "3e199fa7-bda5-46a0-d0c9-c8c49855fb42"
      },
      "source": [
        "# Declaramos funcion con varias instrucciones\n",
        "def suma():\n",
        "  a= 2+4 # Instruccion 1\n",
        "  print(\"Esto es una función 1\",a) # Instruccion 2\n",
        "  print(\"Esto es una función 2\",a) # Instruccion 3\n",
        "\n",
        "suma() #LLamada función"
      ],
      "execution_count": null,
      "outputs": [
        {
          "output_type": "stream",
          "text": [
            "Esto es una función 1 6\n",
            "Esto es una función 2 6\n"
          ],
          "name": "stdout"
        }
      ]
    },
    {
      "cell_type": "code",
      "metadata": {
        "colab": {
          "base_uri": "https://localhost:8080/"
        },
        "id": "UVcYHxbA4HUV",
        "outputId": "31bab301-bae0-440b-ab06-523615a5dbdb"
      },
      "source": [
        "# Una característica interesante, es la posibilidad de devolver múltiples valores separados por comas.\n",
        "def test():\n",
        "    return \"Una cadena\",20,[1,2,3]\n",
        "\n",
        "test()"
      ],
      "execution_count": null,
      "outputs": [
        {
          "output_type": "execute_result",
          "data": {
            "text/plain": [
              "('Una cadena', 20, [1, 2, 3])"
            ]
          },
          "metadata": {
            "tags": []
          },
          "execution_count": 3
        }
      ]
    },
    {
      "cell_type": "code",
      "metadata": {
        "colab": {
          "base_uri": "https://localhost:8080/"
        },
        "id": "kgkQihNe4ZGN",
        "outputId": "78a833da-30f0-43a4-836c-6e6cfdbb7dfc"
      },
      "source": [
        "# Podemos asignar unos valores por defecto nulos a los parámetros, y de ésa forma podríamos hacer una comprobación antes de ejecutar el código de la función:\n",
        "def resta(a=None,b=None):\n",
        "    if a == None or b == None:\n",
        "        print(\"Error, debes enviar dos números a la función\")\n",
        "        return\n",
        "    return a-b\n",
        "resta(1) # error al pasar menos parámetros de los configurados.\n",
        "resta(5,6)"
      ],
      "execution_count": null,
      "outputs": [
        {
          "output_type": "stream",
          "text": [
            "Error, debes enviar dos números a la función\n"
          ],
          "name": "stdout"
        },
        {
          "output_type": "execute_result",
          "data": {
            "text/plain": [
              "-1"
            ]
          },
          "metadata": {
            "tags": []
          },
          "execution_count": 4
        }
      ]
    },
    {
      "cell_type": "code",
      "metadata": {
        "colab": {
          "base_uri": "https://localhost:8080/"
        },
        "id": "k6YD6-QQLXsO",
        "outputId": "db11e893-4608-49a0-8c8f-3d4d7acbf39b"
      },
      "source": [
        "# Declaramos funcion que devuelva una lista de numeros aleatorios\n",
        "from random import random\n",
        "\n",
        "def generaAleatorios(cantNumeros):\n",
        "  cantNumeros = 4\n",
        "  lista =[] \n",
        "  indice = 0\n",
        "  while indice <cantNumeros:\n",
        "    lista.append(random()) \n",
        "    indice+=1 #incrementamos indice\n",
        "  print(lista)\n",
        "\n",
        "n = int(input(\"Introduce un valor:\"))\n",
        "generaAleatorios(n)"
      ],
      "execution_count": null,
      "outputs": [
        {
          "output_type": "stream",
          "text": [
            "Introduce un valor:2\n",
            "[0.436876832017992, 0.10422092098271252, 0.12023441800950874, 0.248883040156196]\n"
          ],
          "name": "stdout"
        }
      ]
    },
    {
      "cell_type": "code",
      "metadata": {
        "colab": {
          "base_uri": "https://localhost:8080/"
        },
        "id": "3GJHiXd8MXCR",
        "outputId": "4cd67cab-ecb3-45da-ddd0-89a92e00d2cd"
      },
      "source": [
        "# Declaramos una varible y usamos return\n",
        "def divison():\n",
        "  a = 3\n",
        "  b = 5\n",
        "  c = a / b\n",
        "  return(c) # esto es lo que devuelve la función, puede ser una lista,tupla o un valor\n",
        "\n",
        "  # Para imprimir el resultado lo asignamos a una variable\n",
        "resultado = divison()\n",
        "print(\"El resultado de la division es\", resultado)"
      ],
      "execution_count": null,
      "outputs": [
        {
          "output_type": "stream",
          "text": [
            "El resultado de la division es 0.6\n"
          ],
          "name": "stdout"
        }
      ]
    },
    {
      "cell_type": "code",
      "metadata": {
        "colab": {
          "base_uri": "https://localhost:8080/"
        },
        "id": "jrQ4xjoIR4uW",
        "outputId": "c833443c-0e98-45ef-9cf6-ab046739a8ef"
      },
      "source": [
        "# Devolvemos un valor aletorio entre un rango de numeros\n",
        "\n",
        "from random import random \n",
        "\n",
        "def generaAleatorios(cantNumeros,ini,fin):\n",
        "  lista=[]\n",
        "  ind=0\n",
        "\n",
        "  while ind<cantNumeros:\n",
        "    val = ini + (fin-ini)* random()\n",
        "    lista.append(val)\n",
        "    ind+=1\n",
        "  return lista\n",
        "\n",
        "n = int(input(\"Introduce un valor:\"))\n",
        "reg=generaAleatorios(n,10,20)\n",
        "print(reg)"
      ],
      "execution_count": null,
      "outputs": [
        {
          "output_type": "stream",
          "text": [
            "Introduce un valor:5\n",
            "[17.11910201997551, 19.181994292926493, 15.004611488801823, 17.657943138951207, 14.804044092596937]\n"
          ],
          "name": "stdout"
        }
      ]
    },
    {
      "cell_type": "code",
      "metadata": {
        "colab": {
          "base_uri": "https://localhost:8080/"
        },
        "id": "YMIPOJmdS9pq",
        "outputId": "fa61bd3d-85a4-4d5c-9893-730759ca9145"
      },
      "source": [
        "def suma(a,b):\n",
        "  return a+b\n",
        "\n",
        "# Definimos la funcion principal\n",
        "if __name__ == \"__main__\":\n",
        "  res = suma(3,5)\n",
        "  print(res)"
      ],
      "execution_count": null,
      "outputs": [
        {
          "output_type": "stream",
          "text": [
            "8\n"
          ],
          "name": "stdout"
        }
      ]
    },
    {
      "cell_type": "code",
      "metadata": {
        "colab": {
          "base_uri": "https://localhost:8080/"
        },
        "id": "jXqyD4rtT8ot",
        "outputId": "44823132-2baa-487e-f894-c4ca1d8fd533"
      },
      "source": [
        "# Ejercicio definiendo una funcion main\n",
        "from random import random\n",
        "\n",
        "def generaAleatorios(cantNumeros,ini,fin):\n",
        "  lista=[]\n",
        "  ind=0\n",
        "\n",
        "  while ind<cantNumeros:\n",
        "    val = ini + (fin-ini)* random()\n",
        "    lista.append(val)\n",
        "    ind+=1\n",
        "  return lista\n",
        "\n",
        "# Definimos una funcion main\n",
        "def main():\n",
        "  n = int(input(\"Cuantos numeros deseas:\"))\n",
        "  ini = int(input(\"inicio de rango:\"))\n",
        "  fin = int(input(\"final de rango:\"))\n",
        "  print(generaAleatorios(n,ini,fin))\n",
        "\n",
        "#si existe la funcion main la llama, y desde la main se llama a las otras funciones\n",
        "if __name__ == \"__main__\":\n",
        "  main()"
      ],
      "execution_count": null,
      "outputs": [
        {
          "output_type": "stream",
          "text": [
            "Cuantos numeros deseas:2\n",
            "inicio de rango:1\n",
            "final de rango:2\n",
            "[1.6666284170351826, 1.5330569983166988]\n"
          ],
          "name": "stdout"
        }
      ]
    },
    {
      "cell_type": "code",
      "metadata": {
        "colab": {
          "base_uri": "https://localhost:8080/"
        },
        "id": "rqDioUdjIhhJ",
        "outputId": "2da0d866-744f-481d-8de3-eacc19113935"
      },
      "source": [
        "#Calculo del IVA\n",
        "def iva():\n",
        "    '''Función básica para el calculo del IVA'''\n",
        "    iva = 21 #definimos el iva\n",
        "    costo = int(input('¿Cual es el importe a calcular?: '))\n",
        "    calculo = costo * iva / 100\n",
        "    print (\"El IVA correspondiente a esa cantidad es: \" + str(calculo)+ \"€\" + \"\\n\")\n",
        "\n",
        "mensaje = \"Calcular el IVA de un importe:\"\n",
        "print (mensaje)\n",
        "print (\"=\" * len(mensaje) + \"\\n\")\n",
        "iva()"
      ],
      "execution_count": null,
      "outputs": [
        {
          "output_type": "stream",
          "text": [
            "Calcular el IVA de un importe:\n",
            "==============================\n",
            "\n",
            "¿Cual es el importe a calcular?: 500\n",
            "El IVA correspondiente a esa cantidad es: 105.0€\n",
            "\n"
          ],
          "name": "stdout"
        }
      ]
    },
    {
      "cell_type": "code",
      "metadata": {
        "colab": {
          "base_uri": "https://localhost:8080/"
        },
        "id": "rbsipCr7qFly",
        "outputId": "9a3c4d01-7f75-488b-c58b-56dc8bc941f5"
      },
      "source": [
        "#Tabla de multiplicar\n",
        "def dibujar_tabla_del_5():\n",
        "    for i in range(10):\n",
        "        print(\"5 * {} = {}\".format(i,i*5))\n",
        "dibujar_tabla_del_5()"
      ],
      "execution_count": null,
      "outputs": [
        {
          "output_type": "stream",
          "text": [
            "5 * 0 = 0\n",
            "5 * 1 = 5\n",
            "5 * 2 = 10\n",
            "5 * 3 = 15\n",
            "5 * 4 = 20\n",
            "5 * 5 = 25\n",
            "5 * 6 = 30\n",
            "5 * 7 = 35\n",
            "5 * 8 = 40\n",
            "5 * 9 = 45\n"
          ],
          "name": "stdout"
        }
      ]
    },
    {
      "cell_type": "code",
      "metadata": {
        "colab": {
          "base_uri": "https://localhost:8080/"
        },
        "id": "0K5eb1d63sWj",
        "outputId": "0ceaf96b-7612-44d7-a050-060cf58802e4"
      },
      "source": [
        "# Función con variable Global. ara poder modificar una variable externa en la función, debemos indicar que es global de la siguiente forma:\n",
        "def test():\n",
        "    global o # variable que hace referencia a la o externa\n",
        "    o = 5\n",
        "    print(o)\n",
        "test()\n",
        "\n",
        "o=10\n",
        "test()\n",
        "print(o)"
      ],
      "execution_count": null,
      "outputs": [
        {
          "output_type": "stream",
          "text": [
            "5\n",
            "5\n",
            "5\n"
          ],
          "name": "stdout"
        }
      ]
    },
    {
      "cell_type": "code",
      "metadata": {
        "colab": {
          "base_uri": "https://localhost:8080/"
        },
        "id": "NTXErtpo8bve",
        "outputId": "64b7b6e2-bb6a-4571-ce7b-b84e965464ce"
      },
      "source": [
        "#  Realiza una función llamada area_rectangulo() que devuelva el área del rectangulo a partir de una base y una altura. Calcula el área de un rectángulo de 15 de base y 10 de altura.\n",
        "def area_rectangulo(base, altura):\n",
        "    return base*altura\n",
        "\n",
        "print( area_rectangulo(15,10) )"
      ],
      "execution_count": null,
      "outputs": [
        {
          "output_type": "stream",
          "text": [
            "150\n"
          ],
          "name": "stdout"
        }
      ]
    },
    {
      "cell_type": "code",
      "metadata": {
        "colab": {
          "base_uri": "https://localhost:8080/"
        },
        "id": "tu7sdUqA8mMq",
        "outputId": "5bf50192-36d4-4a58-a0f9-fd41cc7adc98"
      },
      "source": [
        "#Realiza una función llamada area_circulo() que devuelva el área de un círculo a partir de un radio. Calcula el área de un círculo de 5 de radio:\n",
        "\n",
        "import math\n",
        "\n",
        "def area_circulo(radio):\n",
        "    return (radio**2) * math.pi\n",
        "\n",
        "print( area_circulo(5) )"
      ],
      "execution_count": null,
      "outputs": [
        {
          "output_type": "stream",
          "text": [
            "78.53981633974483\n"
          ],
          "name": "stdout"
        }
      ]
    },
    {
      "cell_type": "code",
      "metadata": {
        "colab": {
          "base_uri": "https://localhost:8080/"
        },
        "id": "L-ztfgti8-ez",
        "outputId": "835757a0-6335-4f8e-d8fd-3bbac2675601"
      },
      "source": [
        "#Realiza una función separar() que tome una lista de números enteros y devuelva dos listas ordenadas. La primera con los números pares, y la segunda con los números impares:\n",
        "#Por ejemplo:\n",
        "\n",
        "#pares, impares = separar([6,5,2,1,7])\n",
        "#print(pares)   # valdría [2, 6]\n",
        "#print(impares)  # valdría [1, 5, 7]\n",
        "#Nota: Para ordenar una lista automáticamente puedes usar el método .sort().\n",
        "\n",
        "numeros = [-12, 84, 13, 20, -33, 101, 9]\n",
        "\n",
        "def separar(lista):\n",
        "    numeros.sort()\n",
        "    pares = []\n",
        "    impares = []\n",
        "    for n in numeros:\n",
        "        if n%2 == 0:\n",
        "            pares.append(n)\n",
        "        else:\n",
        "            impares.append(n)\n",
        "    return pares, impares\n",
        "\n",
        "pares, impares = separar(numeros)\n",
        "print(pares)\n",
        "print(impares)\n"
      ],
      "execution_count": null,
      "outputs": [
        {
          "output_type": "stream",
          "text": [
            "[-12, 20, 84]\n",
            "[-33, 9, 13, 101]\n"
          ],
          "name": "stdout"
        }
      ]
    },
    {
      "cell_type": "code",
      "metadata": {
        "colab": {
          "base_uri": "https://localhost:8080/"
        },
        "id": "250o6sDyEJsg",
        "outputId": "11ba1a08-706c-4379-ab60-d7cb0e5e085f"
      },
      "source": [
        "\"\"\"\n",
        "   Escriba una función que al recibir un numero entero, verifique que si al sumar las cifras del número y dividirlo por su cantidad de cifras. el resultado es un numero primo. Si es así, se dice que es un numero top. Ej.: 2783 es un número Top, ya que 2+7+8+3=20 / 4 (cifras) = 5, y 5 es primo.\n",
        "\"\"\"\n",
        "\n",
        "\n",
        "def primo(numero):\n",
        "    if numero == 0 or numero == 1 or numero == 4:\n",
        "        return False\n",
        "    for x in range(2, int(numero/2)):\n",
        "        if numero % x == 0:\n",
        "            return False\n",
        "    return True\n",
        "\n",
        "\n",
        "def numero_top(numero):\n",
        "    numero_cadena = str(numero)\n",
        "    suma_de_cifras = 0\n",
        "    cantidad_cifras = len(numero_cadena)\n",
        "    for cifra in numero_cadena:\n",
        "        suma_de_cifras += int(cifra)\n",
        "    resultado = suma_de_cifras / cantidad_cifras\n",
        "    if primo(resultado):\n",
        "        return True\n",
        "    return False\n",
        "\n",
        "\n",
        "# Probar\n",
        "numero = 2783\n",
        "resultado = numero_top(numero)\n",
        "if resultado:\n",
        "    print(\"Sí es top\")\n",
        "else:\n",
        "    print(\"NO es top\")"
      ],
      "execution_count": null,
      "outputs": [
        {
          "output_type": "stream",
          "text": [
            "Sí es top\n"
          ],
          "name": "stdout"
        }
      ]
    },
    {
      "cell_type": "code",
      "metadata": {
        "colab": {
          "base_uri": "https://localhost:8080/"
        },
        "id": "KHYh05QRmVr5",
        "outputId": "9d31e1f9-35a7-4f29-88d0-bedfe3b511a4"
      },
      "source": [
        "# Python permite definir funciones dentro de otras funciones:\n",
        "def sum_power(value1, value2, exponential):\n",
        "  #se suman los valores a y b\n",
        "  sum = value1 + value2\n",
        "\n",
        "  def power(exponential):\n",
        "    #eleva la suma de valores a un exponencial dado\n",
        "    return sum ** exponential\n",
        "\n",
        "  return power(exponential)\n",
        "\n",
        "\n",
        "#ejecutando la función values para sumar valores y elevar a una potencia\n",
        "values = sum_power(4, 5, 2)\n",
        "print(values)\n"
      ],
      "execution_count": null,
      "outputs": [
        {
          "output_type": "stream",
          "text": [
            "81\n"
          ],
          "name": "stdout"
        }
      ]
    },
    {
      "cell_type": "code",
      "metadata": {
        "colab": {
          "base_uri": "https://localhost:8080/"
        },
        "id": "218GOExjnHkL",
        "outputId": "e5b0e0f7-6e43-490b-dc67-918bb549c5fe"
      },
      "source": [
        "\"\"\"            \n",
        "\n",
        " Reescribe el programa de cálculo del salario, con tarifa-y media para las horas\n",
        "             extras, y crea una función llamada calculo_salario que reciba dos parámetros\n",
        "             (horas y tarifa).\"\"\"\n",
        "\n",
        "\n",
        "def calculo_salario(horas, tarifa):\n",
        "    if horas >= 40:\n",
        "        horas_xt = horas - 40\n",
        "        tarifa_xt = (0.5 * tarifa) + tarifa\n",
        "        salario = (tarifa_xt * horas_xt) + (horas * tarifa)\n",
        "    else:\n",
        "        salario = tarifa * horas\n",
        "    return salario\n",
        "\n",
        "\n",
        "if __name__ == '__main__':\n",
        "    while True:\n",
        "        try:\n",
        "            horas = int(input(\"ingrese el numero de horas trabajadas: \\n\"))\n",
        "            while True:\n",
        "                try:\n",
        "                    tarifa = float(input(\"Ingrese la tarifa por hora: \\n \"))\n",
        "                    salario = calculo_salario(horas, tarifa)\n",
        "                    print('Su salario es de: ', salario,\"€\")\n",
        "                    break\n",
        "                except ValueError:\n",
        "                    print(\"Tarifa incorrecta: Ingrese numeros\")\n",
        "            break\n",
        "        except ValueError:\n",
        "            print(\"Hora incorrecta: Ingrese numeros\")\n"
      ],
      "execution_count": null,
      "outputs": [
        {
          "output_type": "stream",
          "text": [
            "ingrese el numero de horas trabajadas: \n",
            "20\n",
            "Ingrese la tarifa por hora: \n",
            " 10\n",
            "Su salario es de:  200.0 €\n"
          ],
          "name": "stdout"
        }
      ]
    },
    {
      "cell_type": "markdown",
      "metadata": {
        "id": "xGpHtPOm47k3"
      },
      "source": [
        "## Ejercicios Funciones parámetros indeterminados\n",
        "Quizá en alguna ocasión no sabemos de antemano cuantos elementos vamos a enviar a una función. En estos casos podemos utilizar los parámetros indeterminados por posición y por nombre."
      ]
    },
    {
      "cell_type": "markdown",
      "metadata": {
        "id": "6tE7Dhqb-6EF"
      },
      "source": [
        "Explicando *args en Python\n",
        "Este nombre no es obligatorio (la sintaxis sí), podría ser, por ejemplo, *argumentos o cualquier otra cosa siempre y cuando se ponga el asterisco antes del nombre.\n",
        "\n",
        "Para ejemplificar esto, pongamos el ejemplo de una función que calcule el promedio de algunos valores. ¿Cuántos valores? no sabemos, por eso es que recibimos infinitos argumentos gracias a *args.\n",
        "\n",
        "Sólo para mencionar que podemos tener una función que reciba tanto un argumento posicional y los demás infinitos.\n",
        "\n",
        "Por ejemplo, una que calcule promedios y reciba el nombre de una persona (sólo para ejemplificar) quedaría así:\n",
        "\n",
        "`def promedio(nombre, *argumentos)`"
      ]
    },
    {
      "cell_type": "code",
      "metadata": {
        "colab": {
          "base_uri": "https://localhost:8080/"
        },
        "id": "tPp4qj-95BSK",
        "outputId": "6172512b-e047-4801-8ff0-3cdd0ea04dfe"
      },
      "source": [
        "# Parámetros indeterminados por POSICIÓN:\n",
        "def indeterminados_posicion(*args):\n",
        "    for arg in args:\n",
        "        print(arg)\n",
        "    \n",
        "indeterminados_posicion(5,\"Hola\",[1,2,3,4,5]) # unos parámetros\n",
        "indeterminados_posicion(\"Alfonso\",[1,2,3,4,5])# otros parámetros"
      ],
      "execution_count": null,
      "outputs": [
        {
          "output_type": "stream",
          "text": [
            "5\n",
            "Hola\n",
            "[1, 2, 3, 4, 5]\n",
            "Alfonso\n",
            "[1, 2, 3, 4, 5]\n"
          ],
          "name": "stdout"
        }
      ]
    },
    {
      "cell_type": "code",
      "metadata": {
        "colab": {
          "base_uri": "https://localhost:8080/"
        },
        "id": "0NYcuq2T_G8W",
        "outputId": "63fc3d98-ef4e-4010-c284-f1f988b1cb14"
      },
      "source": [
        "# La función es definida, pero con un argumento un poco especial: *numeros. Eso le indica a Python que sea una función que puede recibir desde 0 hasta infinitos argumentos. Así, se puede invocar a la misma con cualquier número de argumentos.\n",
        "def promedio(*numeros):\n",
        "    #Saber cuántos elementos hay, imaginemos que los argumentos son un arreglo\n",
        "    cantidad_de_elementos = len(numeros)\n",
        "    #Evitar división entre 0\n",
        "    if cantidad_de_elementos <= 0:\n",
        "        return 0\n",
        "    suma = 0\n",
        "    # Justo aquí iteramos los argumentos o *args\n",
        "    for numero in numeros:\n",
        "        suma += numero\n",
        "    return suma / cantidad_de_elementos\n",
        "\n",
        "\n",
        "print(promedio(80, 97, 114, 122, 105, 98, 117, 103)) #104.5\n",
        "print(promedio(50, 20)) # 35\n",
        "print(promedio(1, 5)) # 3\n",
        "print(promedio(20, 1500)) # 760"
      ],
      "execution_count": null,
      "outputs": [
        {
          "output_type": "stream",
          "text": [
            "104.5\n",
            "35.0\n",
            "3.0\n",
            "760.0\n"
          ],
          "name": "stdout"
        }
      ]
    },
    {
      "cell_type": "markdown",
      "metadata": {
        "id": "cNsf4bpC_lJ5"
      },
      "source": [
        "**Uso de **kwargs en Python**\n",
        "\n",
        "Igualmente no es necesario poner kwargs, sino los dos asteriscos.\n",
        "\n",
        "Por ejemplo, podría usarse el nombre de **argumentos_con_nombre ya que más o menos eso quieren decir (no literalmente, porque en inglés significa keyword arguments)\n",
        "\n",
        "Estos kwargs en Python son usados para dos cosas que veremos a continuación.\n",
        "\n",
        "Cuando una función recibe muchos argumentos\n",
        "Por ejemplo, una función que conecte a MongoDB desde Python. Supongamos que queda así:\n",
        "\n",
        "def conectar(host, puerto, usuario, palabra_secreta, nombre_base_de_datos)\n",
        "\n",
        "Sé que no es tan larga, pero imaginemos que más adelante le agregamos más parámetros. Quedaría muy larga, mucho más. Así que mejor la definimos así:\n",
        "\n",
        "`def conectar(**opciones)`"
      ]
    },
    {
      "cell_type": "code",
      "metadata": {
        "colab": {
          "base_uri": "https://localhost:8080/"
        },
        "id": "22AvmUWa5cRi",
        "outputId": "98b765a5-3aa8-48d1-894f-5e0977d442d5"
      },
      "source": [
        "#Para recibir un número indeterminado de parámetros por NOMBRE (clave-valor), debemos crear un diccionario dinámico de argumentos:\n",
        "def indeterminados_nombre(**kwargs):\n",
        "    print(kwargs)\n",
        "indeterminados_nombre(n=5,c=\"Hola\",l=[1,2,3,4,5])  "
      ],
      "execution_count": null,
      "outputs": [
        {
          "output_type": "stream",
          "text": [
            "{'n': 5, 'c': 'Hola', 'l': [1, 2, 3, 4, 5]}\n"
          ],
          "name": "stdout"
        }
      ]
    },
    {
      "cell_type": "code",
      "metadata": {
        "colab": {
          "base_uri": "https://localhost:8080/"
        },
        "id": "lUlJ8ubX5qT0",
        "outputId": "374f05c4-bfd1-4ba4-9527-0f0c6e38f6fd"
      },
      "source": [
        "def indeterminados_nombre(**kwargs):\n",
        "    for kwarg in kwargs:\n",
        "        print(kwarg,\" \", kwargs[kwarg])\n",
        "indeterminados_nombre(n=5,c=\"Hola\",l=[1,2,3,4,5])   "
      ],
      "execution_count": null,
      "outputs": [
        {
          "output_type": "stream",
          "text": [
            "n   5\n",
            "c   Hola\n",
            "l   [1, 2, 3, 4, 5]\n"
          ],
          "name": "stdout"
        }
      ]
    },
    {
      "cell_type": "code",
      "metadata": {
        "colab": {
          "base_uri": "https://localhost:8080/"
        },
        "id": "q6kogYIc54J-",
        "outputId": "6d8c182d-177c-42a8-d1e1-101db7d722b0"
      },
      "source": [
        "def indeterminados_nombre(**kwargs):\n",
        "    for kwarg in kwargs:\n",
        "        print(kwarg)\n",
        "indeterminados_nombre(n=5,c=\"Hola\",l=[1,2,3,4,5])  "
      ],
      "execution_count": null,
      "outputs": [
        {
          "output_type": "stream",
          "text": [
            "n\n",
            "c\n",
            "l\n"
          ],
          "name": "stdout"
        }
      ]
    },
    {
      "cell_type": "code",
      "metadata": {
        "colab": {
          "base_uri": "https://localhost:8080/"
        },
        "id": "uaHO9RW058ya",
        "outputId": "38feb152-91fb-4ada-b55f-8508b6acc74a"
      },
      "source": [
        "#Por posición y nombre a la vez\n",
        "#Si queremos aceptar ambos tipos de parámetros simultáneamente, entonces debemos crear ambas colecciones dinámicas:\n",
        "def super_funcion(*args,**kwargs):\n",
        "    t = 0\n",
        "    for arg in args:\n",
        "        t+=arg\n",
        "    print(\"Sumatorio indeterminado es\",t)\n",
        "    for kwarg in kwargs:\n",
        "        print(kwarg,\" \", kwargs[kwarg])\n",
        "\n",
        "super_funcion(10,50,-1,1.56,10,20,300,nombre=\"Hector\",edad=27)"
      ],
      "execution_count": null,
      "outputs": [
        {
          "output_type": "stream",
          "text": [
            "Sumatorio indeterminado es 390.56\n",
            "nombre   Hector\n",
            "edad   27\n"
          ],
          "name": "stdout"
        }
      ]
    },
    {
      "cell_type": "markdown",
      "metadata": {
        "id": "a0WO1vVqAnwd"
      },
      "source": [
        " **Diferencia entre **kwargs y *args en Python**\n",
        " \n",
        "Los **kwargs tienen nombre, aunque estén desordenados, pero tienen un nombre. En cambio, *args es una lista plana, no se sabe qué valor se encuentra en determinada posición.\n",
        "\n",
        "Infiero que los keyword arguments son usados para definir valores por defecto en funciones que toman muchos de los mismos."
      ]
    },
    {
      "cell_type": "code",
      "metadata": {
        "colab": {
          "base_uri": "https://localhost:8080/"
        },
        "id": "VWpksrkMAsXz",
        "outputId": "b6f8c503-5ba8-451f-ddf4-4877fef4e4dd"
      },
      "source": [
        "# En este caso el argumento posicional es nombre, pero podría haber más. Después definimos los argumentos indefinidos, y finalmente pasamos los **kwargs. Recuerda que en lugar de estos últimos, podríamos definir un diccionario y pasarlo con **diccionario.\n",
        "def conectar(nombre, *numeros, **opciones):\n",
        "    print(\"Hola, \", nombre)\n",
        "    for numero in numeros:\n",
        "        print(numero)\n",
        "    host = opciones.get(\"host\", \"localhost\")\n",
        "    puerto = opciones.get(\"puerto\", \"27017\")\n",
        "    usuario = opciones.get(\"usuario\",\n",
        "                           \"root?\")  # Aunque root no existe en MongoDB, creo\n",
        "    palabra_secreta = opciones.get(\"palabra_secreta\", \"123\")\n",
        "    nombre_base_de_datos = opciones.get(\"nombre_base_de_datos\", \"test\")\n",
        "    print(\n",
        "        \"Host: {}, puerto: {}, usuario: {}, palabra_secreta: {}, nombre_base_de_datos: {}\"\n",
        "        .format(host, puerto, usuario, palabra_secreta, nombre_base_de_datos))\n",
        "\n",
        "\n",
        "conectar(\"Luis\", 1, 2, 3, 4, usuario=\"parzibyte\", palabra_secreta=\"hunter2\")"
      ],
      "execution_count": null,
      "outputs": [
        {
          "output_type": "stream",
          "text": [
            "Hola,  Luis\n",
            "1\n",
            "2\n",
            "3\n",
            "4\n",
            "Host: localhost, puerto: 27017, usuario: parzibyte, palabra_secreta: hunter2, nombre_base_de_datos: test\n"
          ],
          "name": "stdout"
        }
      ]
    },
    {
      "cell_type": "markdown",
      "metadata": {
        "id": "VPzXDvY_6jCG"
      },
      "source": [
        "## Ejercicios con funciones recursivas\n",
        "\n",
        "Se trata de funciones que se llaman a sí mismas durante su propia ejecución. Funcionan de forma similar a las iteraciones, y debemos encargarnos de planificar el momento en que una función recursiva deja de llamarse o tendremos una función rescursiva infinita.\n",
        "\n",
        "Suele utilizarse para dividir una tarea en subtareas más simples de forma que sea más fácil abordar el problema y solucionarlo."
      ]
    },
    {
      "cell_type": "code",
      "metadata": {
        "colab": {
          "base_uri": "https://localhost:8080/"
        },
        "id": "uSBYK7X_6qD7",
        "outputId": "cf408a8b-a888-4450-f1c2-34f9be04c6e5"
      },
      "source": [
        "# Cuenta regresiva hasta cero a partir de un número:\n",
        "def cuenta_atras(num):\n",
        "    num -= 1\n",
        "    if num > 0:\n",
        "        print(num)\n",
        "        cuenta_atras(num) # Llamada a si misma\n",
        "    else:\n",
        "        print(\"Boooooooom!\")\n",
        "    print(\"Fin de la función\", num)\n",
        "\n",
        "cuenta_atras(5)\n"
      ],
      "execution_count": null,
      "outputs": [
        {
          "output_type": "stream",
          "text": [
            "4\n",
            "3\n",
            "2\n",
            "1\n",
            "Boooooooom!\n",
            "Fin de la función 0\n",
            "Fin de la función 1\n",
            "Fin de la función 2\n",
            "Fin de la función 3\n",
            "Fin de la función 4\n"
          ],
          "name": "stdout"
        }
      ]
    },
    {
      "cell_type": "code",
      "metadata": {
        "colab": {
          "base_uri": "https://localhost:8080/"
        },
        "id": "BCRByLZu65vo",
        "outputId": "db0a889c-670a-4045-b600-962d97f3a4ac"
      },
      "source": [
        "#El factorial de un número corresponde al producto de todos los números desde 1 hasta el propio número:\n",
        "def factorial(num):\n",
        "    print(\"Valor inicial ->\",num)\n",
        "    if num > 1:\n",
        "        num = num * factorial(num -1)\n",
        "    print(\"valor final ->\",num)\n",
        "    return num\n",
        "factorial(5)"
      ],
      "execution_count": null,
      "outputs": [
        {
          "output_type": "stream",
          "text": [
            "Valor inicial -> 5\n",
            "Valor inicial -> 4\n",
            "Valor inicial -> 3\n",
            "Valor inicial -> 2\n",
            "Valor inicial -> 1\n",
            "valor final -> 1\n",
            "valor final -> 2\n",
            "valor final -> 6\n",
            "valor final -> 24\n",
            "valor final -> 120\n"
          ],
          "name": "stdout"
        },
        {
          "output_type": "execute_result",
          "data": {
            "text/plain": [
              "120"
            ]
          },
          "metadata": {
            "tags": []
          },
          "execution_count": 23
        }
      ]
    },
    {
      "cell_type": "markdown",
      "metadata": {
        "id": "eSYQDum5qxHN"
      },
      "source": [
        "#**10.Función Lambda**\n"
      ]
    },
    {
      "cell_type": "markdown",
      "metadata": {
        "id": "pQ0rNic_02TZ"
      },
      "source": [
        "\n",
        "\n",
        "---\n",
        "\n"
      ]
    },
    {
      "cell_type": "markdown",
      "metadata": {
        "id": "cZmaqZbbwlzg"
      },
      "source": [
        "##**Teoria**\n",
        "\n",
        "Una función lambda es una pequeña **función anónima.**\n",
        "\n",
        "`lambda p1, p2: expresión `\n",
        "\n",
        "![Lambda](https://i1.faceprep.in/Companies-1/python-lambda-functions-new.png)\n",
        "Una función anónima, como su nombre indica es una función sin nombre. ¿Es posible ejecutar una función sin referenciar un nombre? Pues sí, en Python podemos ejecutar una función sin definirla con def. De hecho son similares pero con una diferencia fundamental:\n",
        "\n",
        "`El contenido de una función lambda debe ser una única expresión en lugar de un bloque de acciones.`\n",
        "\n",
        "Una función lambda puede tomar cualquier número de argumentos, pero solo puede tener una expresión.\n",
        "\n",
        "`Ejemplo: lambda num: num*2`\n",
        "\n",
        "**¿Por qué utilizar las funciones Lambda?**\n",
        "\n",
        "El poder de lambda se muestra mejor cuando los usa como una función anónima dentro de otra función.\n",
        "\n",
        "`Utilice funciones lambda cuando se requiera una función anónima durante un período corto de tiempo.`"
      ]
    },
    {
      "cell_type": "markdown",
      "metadata": {
        "id": "oINB7OhAr0zS"
      },
      "source": [
        "## Ejercicios con funcion Lambda"
      ]
    },
    {
      "cell_type": "code",
      "metadata": {
        "colab": {
          "base_uri": "https://localhost:8080/"
        },
        "id": "mIKqNeAWupVo",
        "outputId": "4484d9e7-db27-40cf-b1d0-741298f15e77"
      },
      "source": [
        "#Aquí tenemos una función creada para sumar.\n",
        "def suma(x,y):\n",
        "    return(x + y)\n",
        "#Aquí tenemos una función Lambda que también suma.\n",
        "lambda x,y : x + y\n",
        "#Para poder utilizarla necesitamos guardarla en una variable.\n",
        "suma_dos = lambda x,y : x + y\n",
        "suma_dos(2,2)"
      ],
      "execution_count": null,
      "outputs": [
        {
          "output_type": "execute_result",
          "data": {
            "text/plain": [
              "4"
            ]
          },
          "metadata": {
            "tags": []
          },
          "execution_count": 27
        }
      ]
    },
    {
      "cell_type": "code",
      "metadata": {
        "colab": {
          "base_uri": "https://localhost:8080/"
        },
        "id": "m9JCbuZlvWMz",
        "outputId": "143f4039-dd19-4691-9f0a-915b18e95d71"
      },
      "source": [
        "#Una función lambda puede ser la entrada a una función normal.\n",
        "def mi_funcion(lambda_func):\n",
        "    return lambda_func(2,4)\n",
        "\n",
        "mi_funcion(lambda a, b: a + b)"
      ],
      "execution_count": null,
      "outputs": [
        {
          "output_type": "execute_result",
          "data": {
            "text/plain": [
              "6"
            ]
          },
          "metadata": {
            "tags": []
          },
          "execution_count": 29
        }
      ]
    },
    {
      "cell_type": "code",
      "metadata": {
        "colab": {
          "base_uri": "https://localhost:8080/"
        },
        "id": "0zeT-ISOrvJK",
        "outputId": "2db50755-4208-4ad7-fe3a-b47104e77625"
      },
      "source": [
        "#1. comprobar si un número es impar:\n",
        "\n",
        "impar = lambda num: num%2 != 0\n",
        "impar(5)"
      ],
      "execution_count": null,
      "outputs": [
        {
          "output_type": "execute_result",
          "data": {
            "text/plain": [
              "True"
            ]
          },
          "metadata": {
            "tags": []
          },
          "execution_count": 18
        }
      ]
    },
    {
      "cell_type": "code",
      "metadata": {
        "colab": {
          "base_uri": "https://localhost:8080/",
          "height": 35
        },
        "id": "lQkw2A4Mr9x2",
        "outputId": "d03fe458-eb73-46b5-b0e6-06180dfa8358"
      },
      "source": [
        "# 2.Darle la vuelta a una cadena utilizando slicing:\n",
        "\n",
        "revertir = lambda cadena: cadena[::-1]\n",
        "revertir(\"Hola\")"
      ],
      "execution_count": null,
      "outputs": [
        {
          "output_type": "execute_result",
          "data": {
            "application/vnd.google.colaboratory.intrinsic+json": {
              "type": "string"
            },
            "text/plain": [
              "'aloH'"
            ]
          },
          "metadata": {
            "tags": []
          },
          "execution_count": 19
        }
      ]
    },
    {
      "cell_type": "code",
      "metadata": {
        "colab": {
          "base_uri": "https://localhost:8080/"
        },
        "id": "tyPSlpPysGQ6",
        "outputId": "0b95be2e-6438-4d09-da21-68db1f4f7c0e"
      },
      "source": [
        "#3. Sumar 2 numeros:\n",
        "sumar = lambda x,y: x+y\n",
        "sumar(5,2)"
      ],
      "execution_count": null,
      "outputs": [
        {
          "output_type": "execute_result",
          "data": {
            "text/plain": [
              "7"
            ]
          },
          "metadata": {
            "tags": []
          },
          "execution_count": 20
        }
      ]
    },
    {
      "cell_type": "code",
      "metadata": {
        "colab": {
          "base_uri": "https://localhost:8080/"
        },
        "id": "IyDM96eIvnvy",
        "outputId": "139a336a-e578-4d6d-a90f-8fd71793bde9"
      },
      "source": [
        "# se puede tener un número variable de argumentos haciendo uso de *, lo conocido como tuple unpacking:\n",
        "(lambda *args: sum(args))(1, 2, 3) # 6\n",
        "(lambda *args: sum(args))(1, 2, 3, 4, 5) # 15"
      ],
      "execution_count": null,
      "outputs": [
        {
          "output_type": "execute_result",
          "data": {
            "text/plain": [
              "15"
            ]
          },
          "metadata": {
            "tags": []
          },
          "execution_count": 31
        }
      ]
    },
    {
      "cell_type": "code",
      "metadata": {
        "colab": {
          "base_uri": "https://localhost:8080/"
        },
        "id": "ks6DCVF2v9BP",
        "outputId": "3ff5eb82-e47b-4309-f429-1cd709c8bc6e"
      },
      "source": [
        "#Y si tenemos los parámetros de entrada almacenados en forma de key y value como si fuera un diccionario, también es posible llamar a la función.\n",
        "(lambda **kwargs: sum(kwargs.values()))(a=1, b=2, c=3) # 6"
      ],
      "execution_count": null,
      "outputs": [
        {
          "output_type": "execute_result",
          "data": {
            "text/plain": [
              "6"
            ]
          },
          "metadata": {
            "tags": []
          },
          "execution_count": 32
        }
      ]
    },
    {
      "cell_type": "code",
      "metadata": {
        "colab": {
          "base_uri": "https://localhost:8080/"
        },
        "id": "aCYZmcgSsvK8",
        "outputId": "1da45390-d6e5-46e3-e904-332df1c8b13f"
      },
      "source": [
        "#4. Por ejemplo, supongamos que tenemos una lista varios números y queremos filtrarla, quedándonos únicamente con los múltiples de 5...\n",
        "\n",
        "# Sin funcion lambda:\n",
        "\n",
        "def multiple(numero):    # Primero declaramos una función condicional\n",
        "    if numero % 5 == 0:  # Comprobamos si un numero es múltiple de cinco\n",
        "        return True      # Sólo devolvemos True si lo es\n",
        "\n",
        "numeros = [2, 5, 10, 23, 50, 33]\n",
        "\n",
        "# Se realiza en 2 pasos:\n",
        "filter(multiple, numeros)\n",
        "list( filter(multiple, numeros) )\n",
        "\n",
        "#Usando funcion lambda en un solo paso:\n",
        "list( filter(lambda numero: numero%5 == 0, numeros) )"
      ],
      "execution_count": null,
      "outputs": [
        {
          "output_type": "execute_result",
          "data": {
            "text/plain": [
              "[5, 10, 50]"
            ]
          },
          "metadata": {
            "tags": []
          },
          "execution_count": 22
        }
      ]
    },
    {
      "cell_type": "code",
      "metadata": {
        "colab": {
          "base_uri": "https://localhost:8080/"
        },
        "id": "HpQ5zmX1vA_f",
        "outputId": "9e2087aa-5ff1-4ba8-89dc-de1d6cb0b84d"
      },
      "source": [
        "#Tengo una lista con muchos números\n",
        "comprobar = [38,24,99,42,2,3,11,23,53,21,3,53,77,12,34,92,122,1008,26]\n",
        "#Creo una variable y le aplico filter() y la lambda\n",
        "filt = filter(lambda x: x % 2 == 0, comprobar)\n",
        "#Creo una variable para convertir el resultado de 'filt' en una lista \n",
        "pares = list(filt)\n",
        "#Finalmente obtengo la lista con los resultados que han devuelto True al pasar el filtro\n",
        "print(pares)"
      ],
      "execution_count": null,
      "outputs": [
        {
          "output_type": "stream",
          "text": [
            "[38, 24, 42, 2, 12, 34, 92, 122, 1008, 26]\n"
          ],
          "name": "stdout"
        }
      ]
    },
    {
      "cell_type": "code",
      "metadata": {
        "colab": {
          "base_uri": "https://localhost:8080/"
        },
        "id": "mEdobI9PtdDD",
        "outputId": "65638218-9110-4da7-9425-481a7b797b54"
      },
      "source": [
        "#5. Aplica una función sobre todos los elementos y como resultado se devuelve un iterable de tipo map:\n",
        "def doblar(numero):\n",
        "    return numero*2\n",
        "\n",
        "numeros = [2, 5, 10, 23, 50, 33]\n",
        "\n",
        "#Sin usar lambda:\n",
        "map(doblar, numeros)\n",
        "list(map(doblar, numeros))\n",
        "\n",
        "#Usando lambda:\n",
        "list( map(lambda x: x*2, numeros) )"
      ],
      "execution_count": null,
      "outputs": [
        {
          "output_type": "execute_result",
          "data": {
            "text/plain": [
              "[4, 10, 20, 46, 100, 66]"
            ]
          },
          "metadata": {
            "tags": []
          },
          "execution_count": 24
        }
      ]
    },
    {
      "cell_type": "markdown",
      "metadata": {
        "id": "583S6Pk904wy"
      },
      "source": [
        "\n",
        "\n",
        "---\n",
        "\n"
      ]
    },
    {
      "cell_type": "markdown",
      "metadata": {
        "id": "IiMqFZg30YzM"
      },
      "source": [
        "# **11.Decoradores**"
      ]
    },
    {
      "cell_type": "markdown",
      "metadata": {
        "id": "bGfRwcNO0zdO"
      },
      "source": [
        "\n",
        "\n",
        "---\n",
        "\n"
      ]
    },
    {
      "cell_type": "markdown",
      "metadata": {
        "id": "EZHREOBr0diP"
      },
      "source": [
        "## **Teoria**\n",
        "\n",
        "Los decoradores son funciones que **modifican el comportamiento de otras funciones**, ayudan a acortar nuestro código y hacen que sea más Pythonic. Si alguna vez has visto @, estás ante un decorador o decorator, bien sea uno que Python ofrece por defecto o uno que puede haber sido creado ex profeso.\n",
        "\n",
        "\n",
        "\n",
        "```\n",
        "# def mi_decorador(funcion):\n",
        "    def nueva_funcion(a, b):\n",
        "        print(\"Se va a llamar\")\n",
        "        c = funcion(a, b)\n",
        "        print(\"Se ha llamado\")\n",
        "        return c\n",
        "    return nueva_funcion\n",
        "\n",
        "@mi_decorador\n",
        "def suma(a, b):\n",
        "    print(\"Entra en funcion suma\")\n",
        "    return a + b\n",
        "```\n",
        "\n",
        "[Video de ejemplo](https://www.youtube.com/watch?v=c9J7FHLjBds)\n"
      ]
    },
    {
      "cell_type": "markdown",
      "metadata": {
        "id": "TGkEbEVd1BfZ"
      },
      "source": [
        "## **Ejercicios con decoradores**"
      ]
    },
    {
      "cell_type": "code",
      "metadata": {
        "colab": {
          "base_uri": "https://localhost:8080/"
        },
        "id": "Wct9ezDd3DvX",
        "outputId": "b1c1c783-de2a-4c7a-ed52-8a69d21be099"
      },
      "source": [
        "# Ejemplo decorador:\n",
        "\n",
        "def decorador(func): #funciones A, B\n",
        "  def nueva_funcion(*argumentos,**parametros):\n",
        "    print(\"Vamos a ejecutar la función\") #Codigo antes\n",
        "    resultado = func(*argumentos,**parametros)\n",
        "    print(\"Se ejecutó la función\") #Codigo después\n",
        "    return resultado\n",
        "  \n",
        "  return nueva_funcion #funcion C\n",
        "\n",
        "#Primera llamada al decorador\n",
        "@decorador\n",
        "def saluda():\n",
        "  print(\"Hola Mundo\")\n",
        "\n",
        "#Segunda llamada al decorador\n",
        "@decorador\n",
        "def suma(uno,dos):\n",
        "  return  uno + dos\n",
        "\n",
        "saluda()\n",
        "resultado = suma(20,20)\n",
        "print(resultado)\n",
        "#A, B, C son fuciones\n",
        "#A recibe como parametro B para poder crear C\n"
      ],
      "execution_count": null,
      "outputs": [
        {
          "output_type": "stream",
          "text": [
            "Vamos a ejecutar la función\n",
            "Hola Mundo\n",
            "Se ejecutó la función\n",
            "Vamos a ejecutar la función\n",
            "Se ejecutó la función\n",
            "40\n"
          ],
          "name": "stdout"
        }
      ]
    },
    {
      "cell_type": "code",
      "metadata": {
        "colab": {
          "base_uri": "https://localhost:8080/"
        },
        "id": "7oIR4cWX1E8T",
        "outputId": "9b20ec0d-d1cb-40ca-b14f-9de24a5598c6"
      },
      "source": [
        "# Uso de decorador para controlar que no se divida entre 0 y de error.\n",
        "def revisar(func):\n",
        "  def otra_funcion(a,b):\n",
        "    if b==0:\n",
        "     print(\"No puedes dividir entre 0\")\n",
        "     return\n",
        "    resultado = func(a,b)  \n",
        "    return resultado \n",
        "  return otra_funcion\n",
        "\n",
        "@revisar #Llamamos al decorador para controlar si se divide entre 0\n",
        "def division(a,b):\n",
        "  return a/b\n",
        "\n",
        "resultado1 = print(division(10,0))\n",
        "resultado2 = print(division(10,2))"
      ],
      "execution_count": null,
      "outputs": [
        {
          "output_type": "stream",
          "text": [
            "No puedes dividir entre 0\n",
            "None\n",
            "5.0\n"
          ],
          "name": "stdout"
        }
      ]
    },
    {
      "cell_type": "markdown",
      "metadata": {
        "id": "SH3kG9zr9e4l"
      },
      "source": [
        "## **Ejercicios con decoradores de clases**"
      ]
    },
    {
      "cell_type": "code",
      "metadata": {
        "colab": {
          "base_uri": "https://localhost:8080/"
        },
        "id": "fYfgwYk1-RLO",
        "outputId": "ba831cfd-a3df-4b29-8cca-5775e6e553ae"
      },
      "source": [
        "def user_decorator():\n",
        "  def super_user(cls):\n",
        "    \n",
        "    class SuperUser(cls): #Tiene que tener un parametro de clase\n",
        "      \n",
        "      def get_fullname(self):\n",
        "        return f'{self.get_name()} {self.get_last_name()}'\n",
        "\n",
        "      def __str__(self):\n",
        "        return f'Hola, mi nombre es: {self.get_fullname()}'\n",
        "\n",
        "    return SuperUser #debe retornar la funcion de la nueva clase\n",
        "\n",
        "  return super_user # debe retornar la funcion anidada\n",
        "\n",
        "@user_decorator()\n",
        "class User:\n",
        "  def __init__(self,name,last_name):\n",
        "    self.name = name\n",
        "    self.last_name = last_name\n",
        "\n",
        "  def get_name(self):\n",
        "    return self.name\n",
        "\n",
        "  def get_last_name(self):\n",
        "    return self.last_name\n",
        "  \n",
        "if __name__ == '__main__':\n",
        "  user = User('Alfonso','Gallardo')\n",
        "  print(user.get_fullname()) #Invocamos a un objeto de la Clase SuperUsers, no User.\n",
        "  print(type(user))\n",
        "  "
      ],
      "execution_count": null,
      "outputs": [
        {
          "output_type": "stream",
          "text": [
            "Alfonso Gallardo\n",
            "<class '__main__.user_decorator.<locals>.super_user.<locals>.SuperUser'>\n"
          ],
          "name": "stdout"
        }
      ]
    },
    {
      "cell_type": "markdown",
      "metadata": {
        "id": "zsvpIiLBDUBK"
      },
      "source": [
        "# JUEGOS"
      ]
    },
    {
      "cell_type": "markdown",
      "metadata": {
        "id": "1pEZ8uOzDZK9"
      },
      "source": [
        "## El Ahorcado\n",
        "\n",
        "[Ver Código](https://parzibyte.me/blog/2020/11/11/juego-ahorcado-python/)"
      ]
    }
  ]
}